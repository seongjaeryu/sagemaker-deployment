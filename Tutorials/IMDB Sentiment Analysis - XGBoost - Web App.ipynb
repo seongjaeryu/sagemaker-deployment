{
 "cells": [
  {
   "cell_type": "markdown",
   "metadata": {},
   "source": [
    "# Sentiment Analysis Web App\n",
    "\n",
    "_Deep Learning Nanodegree Program | Deployment_\n",
    "\n",
    "---\n",
    "\n",
    "In this notebook we will use Amazon's SageMaker service to construct a random tree model to predict the sentiment of a movie review. In addition, we will deploy this model to an endpoint and construct a very simple web app which will interact with our model's deployed endpoint.\n",
    "\n",
    "## General Outline\n",
    "\n",
    "Typically, when using a notebook instance with SageMaker, you will proceed through the following steps. Of course, not every step will need to be done with each project. Also, there is quite a lot of room for variation in many of the steps, as you will see throughout these lessons.\n",
    "\n",
    "1. Download or otherwise retrieve the data.\n",
    "2. Process / Prepare the data.\n",
    "3. Upload the processed data to S3.\n",
    "4. Train a chosen model.\n",
    "5. Test the trained model (typically using a batch transform job).\n",
    "6. Deploy the trained model.\n",
    "7. Use the deployed model.\n",
    "\n",
    "In this notebook we will progress through each of the steps above. We will also see that the final step, using the deployed model, can be quite challenging."
   ]
  },
  {
   "cell_type": "code",
   "execution_count": 1,
   "metadata": {},
   "outputs": [
    {
     "name": "stdout",
     "output_type": "stream",
     "text": [
      "Collecting sagemaker==1.72.0\n",
      "  Using cached sagemaker-1.72.0-py2.py3-none-any.whl\n",
      "Requirement already satisfied: protobuf>=3.1 in /home/ec2-user/anaconda3/envs/python3/lib/python3.6/site-packages (from sagemaker==1.72.0) (3.15.2)\n",
      "Collecting smdebug-rulesconfig==0.1.4\n",
      "  Using cached smdebug_rulesconfig-0.1.4-py2.py3-none-any.whl (10 kB)\n",
      "Requirement already satisfied: scipy>=0.19.0 in /home/ec2-user/anaconda3/envs/python3/lib/python3.6/site-packages (from sagemaker==1.72.0) (1.5.3)\n",
      "Requirement already satisfied: boto3>=1.14.12 in /home/ec2-user/anaconda3/envs/python3/lib/python3.6/site-packages (from sagemaker==1.72.0) (1.17.98)\n",
      "Requirement already satisfied: packaging>=20.0 in /home/ec2-user/anaconda3/envs/python3/lib/python3.6/site-packages (from sagemaker==1.72.0) (20.9)\n",
      "Requirement already satisfied: numpy>=1.9.0 in /home/ec2-user/anaconda3/envs/python3/lib/python3.6/site-packages (from sagemaker==1.72.0) (1.19.5)\n",
      "Requirement already satisfied: protobuf3-to-dict>=0.1.5 in /home/ec2-user/anaconda3/envs/python3/lib/python3.6/site-packages (from sagemaker==1.72.0) (0.1.5)\n",
      "Requirement already satisfied: importlib-metadata>=1.4.0 in /home/ec2-user/anaconda3/envs/python3/lib/python3.6/site-packages (from sagemaker==1.72.0) (3.7.0)\n",
      "Requirement already satisfied: s3transfer<0.5.0,>=0.4.0 in /home/ec2-user/anaconda3/envs/python3/lib/python3.6/site-packages (from boto3>=1.14.12->sagemaker==1.72.0) (0.4.2)\n",
      "Requirement already satisfied: jmespath<1.0.0,>=0.7.1 in /home/ec2-user/anaconda3/envs/python3/lib/python3.6/site-packages (from boto3>=1.14.12->sagemaker==1.72.0) (0.10.0)\n",
      "Requirement already satisfied: botocore<1.21.0,>=1.20.98 in /home/ec2-user/anaconda3/envs/python3/lib/python3.6/site-packages (from boto3>=1.14.12->sagemaker==1.72.0) (1.20.98)\n",
      "Requirement already satisfied: urllib3<1.27,>=1.25.4 in /home/ec2-user/anaconda3/envs/python3/lib/python3.6/site-packages (from botocore<1.21.0,>=1.20.98->boto3>=1.14.12->sagemaker==1.72.0) (1.26.5)\n",
      "Requirement already satisfied: python-dateutil<3.0.0,>=2.1 in /home/ec2-user/anaconda3/envs/python3/lib/python3.6/site-packages (from botocore<1.21.0,>=1.20.98->boto3>=1.14.12->sagemaker==1.72.0) (2.8.1)\n",
      "Requirement already satisfied: typing-extensions>=3.6.4 in /home/ec2-user/anaconda3/envs/python3/lib/python3.6/site-packages (from importlib-metadata>=1.4.0->sagemaker==1.72.0) (3.7.4.3)\n",
      "Requirement already satisfied: zipp>=0.5 in /home/ec2-user/anaconda3/envs/python3/lib/python3.6/site-packages (from importlib-metadata>=1.4.0->sagemaker==1.72.0) (3.4.0)\n",
      "Requirement already satisfied: pyparsing>=2.0.2 in /home/ec2-user/anaconda3/envs/python3/lib/python3.6/site-packages (from packaging>=20.0->sagemaker==1.72.0) (2.4.7)\n",
      "Requirement already satisfied: six>=1.9 in /home/ec2-user/anaconda3/envs/python3/lib/python3.6/site-packages (from protobuf>=3.1->sagemaker==1.72.0) (1.15.0)\n",
      "Installing collected packages: smdebug-rulesconfig, sagemaker\n",
      "  Attempting uninstall: smdebug-rulesconfig\n",
      "    Found existing installation: smdebug-rulesconfig 1.0.1\n",
      "    Uninstalling smdebug-rulesconfig-1.0.1:\n",
      "      Successfully uninstalled smdebug-rulesconfig-1.0.1\n",
      "  Attempting uninstall: sagemaker\n",
      "    Found existing installation: sagemaker 2.45.0\n",
      "    Uninstalling sagemaker-2.45.0:\n",
      "      Successfully uninstalled sagemaker-2.45.0\n",
      "Successfully installed sagemaker-1.72.0 smdebug-rulesconfig-0.1.4\n",
      "\u001b[33mWARNING: You are using pip version 21.1.2; however, version 21.1.3 is available.\n",
      "You should consider upgrading via the '/home/ec2-user/anaconda3/envs/python3/bin/python -m pip install --upgrade pip' command.\u001b[0m\n"
     ]
    }
   ],
   "source": [
    "# Make sure that we use SageMaker 1.x\n",
    "!pip install sagemaker==1.72.0"
   ]
  },
  {
   "cell_type": "markdown",
   "metadata": {},
   "source": [
    "## Step 1: Downloading the data\n",
    "\n",
    "The dataset we are going to use is very popular among researchers in Natural Language Processing, usually referred to as the [IMDb dataset](http://ai.stanford.edu/~amaas/data/sentiment/). It consists of movie reviews from the website [imdb.com](http://www.imdb.com/), each labeled as either '**pos**itive', if the reviewer enjoyed the film, or '**neg**ative' otherwise.\n",
    "\n",
    "> Maas, Andrew L., et al. [Learning Word Vectors for Sentiment Analysis](http://ai.stanford.edu/~amaas/data/sentiment/). In _Proceedings of the 49th Annual Meeting of the Association for Computational Linguistics: Human Language Technologies_. Association for Computational Linguistics, 2011.\n",
    "\n",
    "We begin by using some Jupyter Notebook magic to download and extract the dataset."
   ]
  },
  {
   "cell_type": "code",
   "execution_count": 2,
   "metadata": {},
   "outputs": [
    {
     "name": "stdout",
     "output_type": "stream",
     "text": [
      "mkdir: cannot create directory ‘../data’: File exists\n",
      "--2021-06-30 14:53:10--  http://ai.stanford.edu/~amaas/data/sentiment/aclImdb_v1.tar.gz\n",
      "Resolving ai.stanford.edu (ai.stanford.edu)... 171.64.68.10\n",
      "Connecting to ai.stanford.edu (ai.stanford.edu)|171.64.68.10|:80... connected.\n",
      "HTTP request sent, awaiting response... 200 OK\n",
      "Length: 84125825 (80M) [application/x-gzip]\n",
      "Saving to: ‘../data/aclImdb_v1.tar.gz’\n",
      "\n",
      "../data/aclImdb_v1. 100%[===================>]  80.23M  23.0MB/s    in 4.9s    \n",
      "\n",
      "2021-06-30 14:53:15 (16.4 MB/s) - ‘../data/aclImdb_v1.tar.gz’ saved [84125825/84125825]\n",
      "\n"
     ]
    }
   ],
   "source": [
    "%mkdir ../data\n",
    "!wget -O ../data/aclImdb_v1.tar.gz http://ai.stanford.edu/~amaas/data/sentiment/aclImdb_v1.tar.gz\n",
    "!tar -zxf ../data/aclImdb_v1.tar.gz -C ../data"
   ]
  },
  {
   "cell_type": "markdown",
   "metadata": {},
   "source": [
    "## Step 2: Preparing and Processing the data\n",
    "\n",
    "The data we have downloaded is split into various files, each of which contains a single review. It will be much easier going forward if we combine these individual files into two large files, one for training and one for testing."
   ]
  },
  {
   "cell_type": "code",
   "execution_count": 3,
   "metadata": {},
   "outputs": [],
   "source": [
    "import os\n",
    "import glob\n",
    "\n",
    "def read_imdb_data(data_dir='../data/aclImdb'):\n",
    "    data = {}\n",
    "    labels = {}\n",
    "    \n",
    "    for data_type in ['train', 'test']:\n",
    "        data[data_type] = {}\n",
    "        labels[data_type] = {}\n",
    "        \n",
    "        for sentiment in ['pos', 'neg']:\n",
    "            data[data_type][sentiment] = []\n",
    "            labels[data_type][sentiment] = []\n",
    "            \n",
    "            path = os.path.join(data_dir, data_type, sentiment, '*.txt')\n",
    "            files = glob.glob(path)\n",
    "            \n",
    "            for f in files:\n",
    "                with open(f) as review:\n",
    "                    data[data_type][sentiment].append(review.read())\n",
    "                    # Here we represent a positive review by '1' and a negative review by '0'\n",
    "                    labels[data_type][sentiment].append(1 if sentiment == 'pos' else 0)\n",
    "                    \n",
    "            assert len(data[data_type][sentiment]) == len(labels[data_type][sentiment]), \\\n",
    "                    \"{}/{} data size does not match labels size\".format(data_type, sentiment)\n",
    "                \n",
    "    return data, labels"
   ]
  },
  {
   "cell_type": "code",
   "execution_count": 4,
   "metadata": {},
   "outputs": [
    {
     "name": "stdout",
     "output_type": "stream",
     "text": [
      "IMDB reviews: train = 12500 pos / 12500 neg, test = 12500 pos / 12500 neg\n"
     ]
    }
   ],
   "source": [
    "data, labels = read_imdb_data()\n",
    "print(\"IMDB reviews: train = {} pos / {} neg, test = {} pos / {} neg\".format(\n",
    "            len(data['train']['pos']), len(data['train']['neg']),\n",
    "            len(data['test']['pos']), len(data['test']['neg'])))"
   ]
  },
  {
   "cell_type": "code",
   "execution_count": 5,
   "metadata": {},
   "outputs": [],
   "source": [
    "from sklearn.utils import shuffle\n",
    "\n",
    "def prepare_imdb_data(data, labels):\n",
    "    \"\"\"Prepare training and test sets from IMDb movie reviews.\"\"\"\n",
    "    \n",
    "    #Combine positive and negative reviews and labels\n",
    "    data_train = data['train']['pos'] + data['train']['neg']\n",
    "    data_test = data['test']['pos'] + data['test']['neg']\n",
    "    labels_train = labels['train']['pos'] + labels['train']['neg']\n",
    "    labels_test = labels['test']['pos'] + labels['test']['neg']\n",
    "    \n",
    "    #Shuffle reviews and corresponding labels within training and test sets\n",
    "    data_train, labels_train = shuffle(data_train, labels_train)\n",
    "    data_test, labels_test = shuffle(data_test, labels_test)\n",
    "    \n",
    "    # Return a unified training data, test data, training labels, test labets\n",
    "    return data_train, data_test, labels_train, labels_test"
   ]
  },
  {
   "cell_type": "code",
   "execution_count": 6,
   "metadata": {},
   "outputs": [
    {
     "name": "stdout",
     "output_type": "stream",
     "text": [
      "IMDb reviews (combined): train = 25000, test = 25000\n"
     ]
    }
   ],
   "source": [
    "train_X, test_X, train_y, test_y = prepare_imdb_data(data, labels)\n",
    "print(\"IMDb reviews (combined): train = {}, test = {}\".format(len(train_X), len(test_X)))"
   ]
  },
  {
   "cell_type": "code",
   "execution_count": 7,
   "metadata": {},
   "outputs": [
    {
     "data": {
      "text/plain": [
       "'This is a film for entertainment; I did not think the world made social commentary from one small film. I personally find this film funny, audacious, and memorable. It is a fantasy not unlike a cinder girl becoming a Princess. This film was done very well I might add, in the 70\\'s a time of the best experiments in film with being able to mention a person\\'s sexuality. This movie is not about a person being homosexual or not, it is however about love, in all it\\'s strange forms. This film does show some of the realities of being gay in the 70\\'s in Hollywood, or in California. Pretty boys being looked after by older not so pretty men. Women who had to stay deeply locked in the emotional closet or risk not having a career. Bathhouses were an integral part of the gay community.<br /><br />THEN the fantasy begins!! Let us mix a lesbian with a gay and add some liquor and what do we have? Well this movie, which in ANY way was better than that dismal redo \"The Next Big Thing\". Perhaps someone should have asked the entire crew to see this movie and then try to do better.<br /><br />I enjoyed this movie when I saw it in the 70\\'s and it still brings a smile to my lips now. I heartily advise anyone who wants a funny, tender movie- to curl up with some popcorn and have some fun. Some people need to lighten up!!! And this is the film you should do it with!<br /><br />'"
      ]
     },
     "execution_count": 7,
     "metadata": {},
     "output_type": "execute_result"
    }
   ],
   "source": [
    "train_X[100]"
   ]
  },
  {
   "cell_type": "markdown",
   "metadata": {},
   "source": [
    "## Processing the data\n",
    "\n",
    "Now that we have our training and testing datasets merged and ready to use, we need to start processing the raw data into something that will be useable by our machine learning algorithm. To begin with, we remove any html formatting and any non-alpha numeric characters that may appear in the reviews. We will do this in a very simplistic way using Python's regular expression module. We will discuss the reason for this rather simplistic pre-processing later on."
   ]
  },
  {
   "cell_type": "code",
   "execution_count": 8,
   "metadata": {},
   "outputs": [],
   "source": [
    "import re\n",
    "\n",
    "REPLACE_NO_SPACE = re.compile(\"(\\.)|(\\;)|(\\:)|(\\!)|(\\')|(\\?)|(\\,)|(\\\")|(\\()|(\\))|(\\[)|(\\])\")\n",
    "REPLACE_WITH_SPACE = re.compile(\"(<br\\s*/><br\\s*/>)|(\\-)|(\\/)\")\n",
    "\n",
    "def review_to_words(review):\n",
    "    words = REPLACE_NO_SPACE.sub(\"\", review.lower())\n",
    "    words = REPLACE_WITH_SPACE.sub(\" \", words)\n",
    "    return words"
   ]
  },
  {
   "cell_type": "code",
   "execution_count": 9,
   "metadata": {},
   "outputs": [
    {
     "data": {
      "text/plain": [
       "'this is a film for entertainment i did not think the world made social commentary from one small film i personally find this film funny audacious and memorable it is a fantasy not unlike a cinder girl becoming a princess this film was done very well i might add in the 70s a time of the best experiments in film with being able to mention a persons sexuality this movie is not about a person being homosexual or not it is however about love in all its strange forms this film does show some of the realities of being gay in the 70s in hollywood or in california pretty boys being looked after by older not so pretty men women who had to stay deeply locked in the emotional closet or risk not having a career bathhouses were an integral part of the gay community then the fantasy begins let us mix a lesbian with a gay and add some liquor and what do we have well this movie which in any way was better than that dismal redo the next big thing perhaps someone should have asked the entire crew to see this movie and then try to do better i enjoyed this movie when i saw it in the 70s and it still brings a smile to my lips now i heartily advise anyone who wants a funny tender movie  to curl up with some popcorn and have some fun some people need to lighten up and this is the film you should do it with '"
      ]
     },
     "execution_count": 9,
     "metadata": {},
     "output_type": "execute_result"
    }
   ],
   "source": [
    "review_to_words(train_X[100])"
   ]
  },
  {
   "cell_type": "code",
   "execution_count": 10,
   "metadata": {},
   "outputs": [],
   "source": [
    "import pickle\n",
    "\n",
    "cache_dir = os.path.join(\"../cache\", \"sentiment_web_app\")  # where to store cache files\n",
    "os.makedirs(cache_dir, exist_ok=True)  # ensure cache directory exists\n",
    "\n",
    "def preprocess_data(data_train, data_test, labels_train, labels_test,\n",
    "                    cache_dir=cache_dir, cache_file=\"preprocessed_data.pkl\"):\n",
    "    \"\"\"Convert each review to words; read from cache if available.\"\"\"\n",
    "\n",
    "    # If cache_file is not None, try to read from it first\n",
    "    cache_data = None\n",
    "    if cache_file is not None:\n",
    "        try:\n",
    "            with open(os.path.join(cache_dir, cache_file), \"rb\") as f:\n",
    "                cache_data = pickle.load(f)\n",
    "            print(\"Read preprocessed data from cache file:\", cache_file)\n",
    "        except:\n",
    "            pass  # unable to read from cache, but that's okay\n",
    "    \n",
    "    # If cache is missing, then do the heavy lifting\n",
    "    if cache_data is None:\n",
    "        # Preprocess training and test data to obtain words for each review\n",
    "        #words_train = list(map(review_to_words, data_train))\n",
    "        #words_test = list(map(review_to_words, data_test))\n",
    "        words_train = [review_to_words(review) for review in data_train]\n",
    "        words_test = [review_to_words(review) for review in data_test]\n",
    "        \n",
    "        # Write to cache file for future runs\n",
    "        if cache_file is not None:\n",
    "            cache_data = dict(words_train=words_train, words_test=words_test,\n",
    "                              labels_train=labels_train, labels_test=labels_test)\n",
    "            with open(os.path.join(cache_dir, cache_file), \"wb\") as f:\n",
    "                pickle.dump(cache_data, f)\n",
    "            print(\"Wrote preprocessed data to cache file:\", cache_file)\n",
    "    else:\n",
    "        # Unpack data loaded from cache file\n",
    "        words_train, words_test, labels_train, labels_test = (cache_data['words_train'],\n",
    "                cache_data['words_test'], cache_data['labels_train'], cache_data['labels_test'])\n",
    "    \n",
    "    return words_train, words_test, labels_train, labels_test"
   ]
  },
  {
   "cell_type": "code",
   "execution_count": 11,
   "metadata": {},
   "outputs": [
    {
     "name": "stdout",
     "output_type": "stream",
     "text": [
      "Wrote preprocessed data to cache file: preprocessed_data.pkl\n"
     ]
    }
   ],
   "source": [
    "# Preprocess data\n",
    "train_X, test_X, train_y, test_y = preprocess_data(train_X, test_X, train_y, test_y)"
   ]
  },
  {
   "cell_type": "markdown",
   "metadata": {},
   "source": [
    "### Extract Bag-of-Words features\n",
    "\n",
    "For the model we will be implementing, rather than using the reviews directly, we are going to transform each review into a Bag-of-Words feature representation. Keep in mind that 'in the wild' we will only have access to the training set so our transformer can only use the training set to construct a representation."
   ]
  },
  {
   "cell_type": "code",
   "execution_count": 12,
   "metadata": {},
   "outputs": [],
   "source": [
    "import numpy as np\n",
    "from sklearn.feature_extraction.text import CountVectorizer\n",
    "\n",
    "# sklearn.externals.joblib is deprecated in 0.21 and will be removed in 0.23. \n",
    "# from sklearn.externals import joblib\n",
    "\n",
    "# Import joblib package directly\n",
    "import joblib\n",
    "# joblib is an enhanced version of pickle that is more efficient for storing NumPy arrays\n",
    "\n",
    "def extract_BoW_features(words_train, words_test, vocabulary_size=5000,\n",
    "                         cache_dir=cache_dir, cache_file=\"bow_features.pkl\"):\n",
    "    \"\"\"Extract Bag-of-Words for a given set of documents, already preprocessed into words.\"\"\"\n",
    "    \n",
    "    # If cache_file is not None, try to read from it first\n",
    "    cache_data = None\n",
    "    if cache_file is not None:\n",
    "        try:\n",
    "            with open(os.path.join(cache_dir, cache_file), \"rb\") as f:\n",
    "                cache_data = joblib.load(f)\n",
    "            print(\"Read features from cache file:\", cache_file)\n",
    "        except:\n",
    "            pass  # unable to read from cache, but that's okay\n",
    "    \n",
    "    # If cache is missing, then do the heavy lifting\n",
    "    if cache_data is None:\n",
    "        # Fit a vectorizer to training documents and use it to transform them\n",
    "        # NOTE: Training documents have already been preprocessed and tokenized into words;\n",
    "        #       pass in dummy functions to skip those steps, e.g. preprocessor=lambda x: x\n",
    "        vectorizer = CountVectorizer(max_features=vocabulary_size)\n",
    "        features_train = vectorizer.fit_transform(words_train).toarray()\n",
    "\n",
    "        # Apply the same vectorizer to transform the test documents (ignore unknown words)\n",
    "        features_test = vectorizer.transform(words_test).toarray()\n",
    "        \n",
    "        # NOTE: Remember to convert the features using .toarray() for a compact representation\n",
    "        \n",
    "        # Write to cache file for future runs (store vocabulary as well)\n",
    "        if cache_file is not None:\n",
    "            vocabulary = vectorizer.vocabulary_\n",
    "            cache_data = dict(features_train=features_train, features_test=features_test,\n",
    "                             vocabulary=vocabulary)\n",
    "            with open(os.path.join(cache_dir, cache_file), \"wb\") as f:\n",
    "                joblib.dump(cache_data, f)\n",
    "            print(\"Wrote features to cache file:\", cache_file)\n",
    "    else:\n",
    "        # Unpack data loaded from cache file\n",
    "        features_train, features_test, vocabulary = (cache_data['features_train'],\n",
    "                cache_data['features_test'], cache_data['vocabulary'])\n",
    "    \n",
    "    # Return both the extracted features as well as the vocabulary\n",
    "    return features_train, features_test, vocabulary"
   ]
  },
  {
   "cell_type": "code",
   "execution_count": 13,
   "metadata": {},
   "outputs": [
    {
     "name": "stdout",
     "output_type": "stream",
     "text": [
      "Wrote features to cache file: bow_features.pkl\n"
     ]
    }
   ],
   "source": [
    "# Extract Bag of Words features for both training and test datasets\n",
    "train_X, test_X, vocabulary = extract_BoW_features(train_X, test_X)"
   ]
  },
  {
   "cell_type": "code",
   "execution_count": 14,
   "metadata": {},
   "outputs": [
    {
     "data": {
      "text/plain": [
       "5000"
      ]
     },
     "execution_count": 14,
     "metadata": {},
     "output_type": "execute_result"
    }
   ],
   "source": [
    "len(train_X[100])"
   ]
  },
  {
   "cell_type": "markdown",
   "metadata": {},
   "source": [
    "## Step 3: Upload data to S3\n",
    "\n",
    "Now that we have created the feature representation of our training (and testing) data, it is time to start setting up and using the XGBoost classifier provided by SageMaker.\n",
    "\n",
    "### Writing the datasets\n",
    "\n",
    "The XGBoost classifier that we will be using requires the dataset to be written to a file and stored using Amazon S3. To do this, we will start by splitting the training dataset into two parts, the data we will train the model with and a validation set. Then, we will write those datasets to a file locally and then upload the files to S3. In addition, we will write the test set to a file and upload that file to S3. This is so that we can use SageMakers Batch Transform functionality to test our model once we've fit it."
   ]
  },
  {
   "cell_type": "code",
   "execution_count": 15,
   "metadata": {},
   "outputs": [],
   "source": [
    "import pandas as pd\n",
    "\n",
    "# Earlier we shuffled the training dataset so to make things simple we can just assign\n",
    "# the first 10 000 reviews to the validation set and use the remaining reviews for training.\n",
    "val_X = pd.DataFrame(train_X[:10000])\n",
    "train_X = pd.DataFrame(train_X[10000:])\n",
    "\n",
    "val_y = pd.DataFrame(train_y[:10000])\n",
    "train_y = pd.DataFrame(train_y[10000:])"
   ]
  },
  {
   "cell_type": "markdown",
   "metadata": {},
   "source": [
    "The documentation for the XGBoost algorithm in SageMaker requires that the training and validation datasets should contain no headers or index and that the label should occur first for each sample.\n",
    "\n",
    "For more information about this and other algorithms, the SageMaker developer documentation can be found on __[Amazon's website.](https://docs.aws.amazon.com/sagemaker/latest/dg/)__"
   ]
  },
  {
   "cell_type": "code",
   "execution_count": 16,
   "metadata": {},
   "outputs": [],
   "source": [
    "# First we make sure that the local directory in which we'd like to store the training and validation csv files exists.\n",
    "data_dir = '../data/sentiment_web_app'\n",
    "if not os.path.exists(data_dir):\n",
    "    os.makedirs(data_dir)"
   ]
  },
  {
   "cell_type": "code",
   "execution_count": 17,
   "metadata": {},
   "outputs": [],
   "source": [
    "pd.DataFrame(test_X).to_csv(os.path.join(data_dir, 'test.csv'), header=False, index=False)\n",
    "\n",
    "pd.concat([val_y, val_X], axis=1).to_csv(os.path.join(data_dir, 'validation.csv'), header=False, index=False)\n",
    "pd.concat([train_y, train_X], axis=1).to_csv(os.path.join(data_dir, 'train.csv'), header=False, index=False)"
   ]
  },
  {
   "cell_type": "code",
   "execution_count": 18,
   "metadata": {},
   "outputs": [],
   "source": [
    "# To save a bit of memory we can set text_X, train_X, val_X, train_y and val_y to None.\n",
    "\n",
    "test_X = train_X = val_X = train_y = val_y = None"
   ]
  },
  {
   "cell_type": "markdown",
   "metadata": {},
   "source": [
    "### Uploading Training / Validation files to S3\n",
    "\n",
    "Amazon's S3 service allows us to store files that can be accessed by both the built-in training models such as the XGBoost model we will be using as well as custom models such as the one we will see a little later.\n",
    "\n",
    "For this and most other tasks we will be doing using SageMaker, there are two methods we could use. The first is to use the low level functionality of SageMaker which requires knowing each of the objects involved in the SageMaker environment. The second is to use the high level functionality in which certain choices have been made on the user's behalf. The low level approach benefits from allowing the user a great deal of flexibility while the high level approach makes development much quicker. For our purposes we will opt to use the high level approach although using the low-level approach is certainly an option.\n",
    "\n",
    "Recall the method `upload_data()` which is a member of the object representing our current SageMaker session. What this method does is upload the data to the default bucket (which is created if it does not exist) into the path described by the key_prefix variable. To see this for yourself, once you have uploaded the data files, go to the S3 console and look to see where the files have been uploaded.\n",
    "\n",
    "For additional resources, see the __[SageMaker API documentation](http://sagemaker.readthedocs.io/en/latest/)__ and in addition the __[SageMaker Developer Guide.](https://docs.aws.amazon.com/sagemaker/latest/dg/)__"
   ]
  },
  {
   "cell_type": "code",
   "execution_count": 19,
   "metadata": {},
   "outputs": [],
   "source": [
    "import sagemaker\n",
    "\n",
    "session = sagemaker.Session() # Store the current SageMaker session\n",
    "\n",
    "# S3 prefix (which folder will we use)\n",
    "prefix = 'sentiment-web-app'\n",
    "\n",
    "test_location = session.upload_data(os.path.join(data_dir, 'test.csv'), key_prefix=prefix)\n",
    "val_location = session.upload_data(os.path.join(data_dir, 'validation.csv'), key_prefix=prefix)\n",
    "train_location = session.upload_data(os.path.join(data_dir, 'train.csv'), key_prefix=prefix)"
   ]
  },
  {
   "cell_type": "markdown",
   "metadata": {},
   "source": [
    "## Step 4: Creating the XGBoost model\n",
    "\n",
    "Now that the data has been uploaded it is time to create the XGBoost model. To begin with, we need to do some setup. At this point it is worth discussing what a model is in SageMaker. It is easiest to think of a model of comprising three different objects in the SageMaker ecosystem, which interact with one another.\n",
    "\n",
    "- Model Artifacts\n",
    "- Training Code (Container)\n",
    "- Inference Code (Container)\n",
    "\n",
    "The Model Artifacts are what you might think of as the actual model itself. For example, if you were building a neural network, the model artifacts would be the weights of the various layers. In our case, for an XGBoost model, the artifacts are the actual trees that are created during training.\n",
    "\n",
    "The other two objects, the training code and the inference code are then used to manipulate the training artifacts. More precisely, the training code uses the training data that is provided and creates the model artifacts, while the inference code uses the model artifacts to make predictions on new data.\n",
    "\n",
    "The way that SageMaker runs the training and inference code is by making use of Docker containers. For now, think of a container as being a way of packaging code up so that dependencies aren't an issue."
   ]
  },
  {
   "cell_type": "code",
   "execution_count": 20,
   "metadata": {},
   "outputs": [],
   "source": [
    "from sagemaker import get_execution_role\n",
    "\n",
    "# Our current execution role is required when creating the model as the training\n",
    "# and inference code will need to access the model artifacts.\n",
    "role = get_execution_role()"
   ]
  },
  {
   "cell_type": "code",
   "execution_count": 21,
   "metadata": {},
   "outputs": [
    {
     "name": "stderr",
     "output_type": "stream",
     "text": [
      "'get_image_uri' method will be deprecated in favor of 'ImageURIProvider' class in SageMaker Python SDK v2.\n",
      "There is a more up to date SageMaker XGBoost image. To use the newer image, please set 'repo_version'='1.0-1'. For example:\n",
      "\tget_image_uri(region, 'xgboost', '1.0-1').\n"
     ]
    }
   ],
   "source": [
    "# We need to retrieve the location of the container which is provided by Amazon for using XGBoost.\n",
    "# As a matter of convenience, the training and inference code both use the same container.\n",
    "from sagemaker.amazon.amazon_estimator import get_image_uri\n",
    "\n",
    "container = get_image_uri(session.boto_region_name, 'xgboost')"
   ]
  },
  {
   "cell_type": "code",
   "execution_count": 22,
   "metadata": {},
   "outputs": [
    {
     "name": "stderr",
     "output_type": "stream",
     "text": [
      "Parameter image_name will be renamed to image_uri in SageMaker Python SDK v2.\n"
     ]
    }
   ],
   "source": [
    "# First we create a SageMaker estimator object for our model.\n",
    "xgb = sagemaker.estimator.Estimator(container, # The location of the container we wish to use\n",
    "                                    role,                                    # What is our current IAM Role\n",
    "                                    train_instance_count=1,                  # How many compute instances\n",
    "                                    train_instance_type='ml.m4.xlarge',      # What kind of compute instances\n",
    "                                    output_path='s3://{}/{}/output'.format(session.default_bucket(), prefix),\n",
    "                                    sagemaker_session=session)\n",
    "\n",
    "# And then set the algorithm specific parameters.\n",
    "xgb.set_hyperparameters(max_depth=5,\n",
    "                        eta=0.2,\n",
    "                        gamma=4,\n",
    "                        min_child_weight=6,\n",
    "                        subsample=0.8,\n",
    "                        silent=0,\n",
    "                        objective='binary:logistic',\n",
    "                        early_stopping_rounds=10,\n",
    "                        num_round=500)"
   ]
  },
  {
   "cell_type": "markdown",
   "metadata": {},
   "source": [
    "### Fit the XGBoost model\n",
    "\n",
    "Now that our model has been set up we simply need to attach the training and validation datasets and then ask SageMaker to set up the computation."
   ]
  },
  {
   "cell_type": "code",
   "execution_count": 23,
   "metadata": {},
   "outputs": [
    {
     "name": "stderr",
     "output_type": "stream",
     "text": [
      "'s3_input' class will be renamed to 'TrainingInput' in SageMaker Python SDK v2.\n",
      "'s3_input' class will be renamed to 'TrainingInput' in SageMaker Python SDK v2.\n"
     ]
    }
   ],
   "source": [
    "s3_input_train = sagemaker.s3_input(s3_data=train_location, content_type='csv')\n",
    "s3_input_validation = sagemaker.s3_input(s3_data=val_location, content_type='csv')"
   ]
  },
  {
   "cell_type": "code",
   "execution_count": 24,
   "metadata": {},
   "outputs": [
    {
     "name": "stdout",
     "output_type": "stream",
     "text": [
      "2021-06-30 14:55:12 Starting - Starting the training job...\n",
      "2021-06-30 14:55:20 Starting - Launching requested ML instances......\n",
      "2021-06-30 14:56:17 Starting - Preparing the instances for training.........\n",
      "2021-06-30 14:58:13 Downloading - Downloading input data\n",
      "2021-06-30 14:58:13 Training - Downloading the training image...\n",
      "2021-06-30 14:58:35 Training - Training image download completed. Training in progress.\u001b[34mArguments: train\u001b[0m\n",
      "\u001b[34m[2021-06-30:14:58:36:INFO] Running standalone xgboost training.\u001b[0m\n",
      "\u001b[34m[2021-06-30:14:58:36:INFO] File size need to be processed in the node: 238.5mb. Available memory size in the node: 8401.59mb\u001b[0m\n",
      "\u001b[34m[2021-06-30:14:58:36:INFO] Determined delimiter of CSV input is ','\u001b[0m\n",
      "\u001b[34m[14:58:36] S3DistributionType set as FullyReplicated\u001b[0m\n",
      "\u001b[34m[14:58:38] 15000x5000 matrix with 75000000 entries loaded from /opt/ml/input/data/train?format=csv&label_column=0&delimiter=,\u001b[0m\n",
      "\u001b[34m[2021-06-30:14:58:38:INFO] Determined delimiter of CSV input is ','\u001b[0m\n",
      "\u001b[34m[14:58:38] S3DistributionType set as FullyReplicated\u001b[0m\n",
      "\u001b[34m[14:58:39] 10000x5000 matrix with 50000000 entries loaded from /opt/ml/input/data/validation?format=csv&label_column=0&delimiter=,\u001b[0m\n",
      "\u001b[34m[14:58:43] src/tree/updater_prune.cc:74: tree pruning end, 1 roots, 44 extra nodes, 6 pruned nodes, max_depth=5\u001b[0m\n",
      "\u001b[34m[0]#011train-error:0.305067#011validation-error:0.3118\u001b[0m\n",
      "\u001b[34mMultiple eval metrics have been passed: 'validation-error' will be used for early stopping.\n",
      "\u001b[0m\n",
      "\u001b[34mWill train until validation-error hasn't improved in 10 rounds.\u001b[0m\n",
      "\u001b[34m[14:58:44] src/tree/updater_prune.cc:74: tree pruning end, 1 roots, 44 extra nodes, 2 pruned nodes, max_depth=5\u001b[0m\n",
      "\u001b[34m[1]#011train-error:0.300267#011validation-error:0.306\u001b[0m\n",
      "\u001b[34m[14:58:46] src/tree/updater_prune.cc:74: tree pruning end, 1 roots, 44 extra nodes, 6 pruned nodes, max_depth=5\u001b[0m\n",
      "\u001b[34m[2]#011train-error:0.291733#011validation-error:0.2989\u001b[0m\n",
      "\u001b[34m[14:58:47] src/tree/updater_prune.cc:74: tree pruning end, 1 roots, 26 extra nodes, 6 pruned nodes, max_depth=5\u001b[0m\n",
      "\u001b[34m[3]#011train-error:0.2754#011validation-error:0.2846\u001b[0m\n",
      "\u001b[34m[14:58:49] src/tree/updater_prune.cc:74: tree pruning end, 1 roots, 46 extra nodes, 4 pruned nodes, max_depth=5\u001b[0m\n",
      "\u001b[34m[4]#011train-error:0.2718#011validation-error:0.2844\u001b[0m\n",
      "\u001b[34m[14:58:50] src/tree/updater_prune.cc:74: tree pruning end, 1 roots, 28 extra nodes, 4 pruned nodes, max_depth=5\u001b[0m\n",
      "\u001b[34m[5]#011train-error:0.2644#011validation-error:0.2745\u001b[0m\n",
      "\u001b[34m[14:58:51] src/tree/updater_prune.cc:74: tree pruning end, 1 roots, 38 extra nodes, 6 pruned nodes, max_depth=5\u001b[0m\n",
      "\u001b[34m[6]#011train-error:0.257467#011validation-error:0.2682\u001b[0m\n",
      "\u001b[34m[14:58:53] src/tree/updater_prune.cc:74: tree pruning end, 1 roots, 40 extra nodes, 2 pruned nodes, max_depth=5\u001b[0m\n",
      "\u001b[34m[7]#011train-error:0.248533#011validation-error:0.2638\u001b[0m\n",
      "\u001b[34m[14:58:54] src/tree/updater_prune.cc:74: tree pruning end, 1 roots, 34 extra nodes, 8 pruned nodes, max_depth=5\u001b[0m\n",
      "\u001b[34m[8]#011train-error:0.238067#011validation-error:0.2523\u001b[0m\n",
      "\u001b[34m[14:58:55] src/tree/updater_prune.cc:74: tree pruning end, 1 roots, 30 extra nodes, 10 pruned nodes, max_depth=5\u001b[0m\n",
      "\u001b[34m[9]#011train-error:0.230867#011validation-error:0.2454\u001b[0m\n",
      "\u001b[34m[14:58:57] src/tree/updater_prune.cc:74: tree pruning end, 1 roots, 24 extra nodes, 8 pruned nodes, max_depth=5\u001b[0m\n",
      "\u001b[34m[10]#011train-error:0.226#011validation-error:0.2411\u001b[0m\n",
      "\u001b[34m[14:58:58] src/tree/updater_prune.cc:74: tree pruning end, 1 roots, 28 extra nodes, 10 pruned nodes, max_depth=5\u001b[0m\n",
      "\u001b[34m[11]#011train-error:0.218533#011validation-error:0.2356\u001b[0m\n",
      "\u001b[34m[14:58:59] src/tree/updater_prune.cc:74: tree pruning end, 1 roots, 34 extra nodes, 0 pruned nodes, max_depth=5\u001b[0m\n",
      "\u001b[34m[12]#011train-error:0.212467#011validation-error:0.2291\u001b[0m\n",
      "\u001b[34m[14:59:01] src/tree/updater_prune.cc:74: tree pruning end, 1 roots, 28 extra nodes, 14 pruned nodes, max_depth=5\u001b[0m\n",
      "\u001b[34m[13]#011train-error:0.207133#011validation-error:0.2283\u001b[0m\n",
      "\u001b[34m[14:59:02] src/tree/updater_prune.cc:74: tree pruning end, 1 roots, 22 extra nodes, 10 pruned nodes, max_depth=5\u001b[0m\n",
      "\u001b[34m[14]#011train-error:0.2034#011validation-error:0.2255\u001b[0m\n",
      "\u001b[34m[14:59:04] src/tree/updater_prune.cc:74: tree pruning end, 1 roots, 34 extra nodes, 10 pruned nodes, max_depth=5\u001b[0m\n",
      "\u001b[34m[15]#011train-error:0.201333#011validation-error:0.2246\u001b[0m\n",
      "\u001b[34m[14:59:06] src/tree/updater_prune.cc:74: tree pruning end, 1 roots, 34 extra nodes, 6 pruned nodes, max_depth=5\u001b[0m\n",
      "\u001b[34m[16]#011train-error:0.1982#011validation-error:0.2233\u001b[0m\n",
      "\u001b[34m[14:59:07] src/tree/updater_prune.cc:74: tree pruning end, 1 roots, 26 extra nodes, 14 pruned nodes, max_depth=5\u001b[0m\n",
      "\u001b[34m[17]#011train-error:0.196733#011validation-error:0.2201\u001b[0m\n",
      "\u001b[34m[14:59:09] src/tree/updater_prune.cc:74: tree pruning end, 1 roots, 26 extra nodes, 6 pruned nodes, max_depth=5\u001b[0m\n",
      "\u001b[34m[18]#011train-error:0.1944#011validation-error:0.2172\u001b[0m\n",
      "\u001b[34m[14:59:10] src/tree/updater_prune.cc:74: tree pruning end, 1 roots, 30 extra nodes, 10 pruned nodes, max_depth=5\u001b[0m\n",
      "\u001b[34m[19]#011train-error:0.191067#011validation-error:0.213\u001b[0m\n",
      "\u001b[34m[14:59:11] src/tree/updater_prune.cc:74: tree pruning end, 1 roots, 36 extra nodes, 4 pruned nodes, max_depth=5\u001b[0m\n",
      "\u001b[34m[20]#011train-error:0.1874#011validation-error:0.2135\u001b[0m\n",
      "\u001b[34m[14:59:13] src/tree/updater_prune.cc:74: tree pruning end, 1 roots, 24 extra nodes, 16 pruned nodes, max_depth=5\u001b[0m\n",
      "\u001b[34m[21]#011train-error:0.184333#011validation-error:0.2109\u001b[0m\n",
      "\u001b[34m[14:59:14] src/tree/updater_prune.cc:74: tree pruning end, 1 roots, 30 extra nodes, 6 pruned nodes, max_depth=5\u001b[0m\n",
      "\u001b[34m[22]#011train-error:0.181867#011validation-error:0.2084\u001b[0m\n",
      "\u001b[34m[14:59:15] src/tree/updater_prune.cc:74: tree pruning end, 1 roots, 32 extra nodes, 10 pruned nodes, max_depth=5\u001b[0m\n",
      "\u001b[34m[23]#011train-error:0.1792#011validation-error:0.2069\u001b[0m\n",
      "\u001b[34m[14:59:17] src/tree/updater_prune.cc:74: tree pruning end, 1 roots, 32 extra nodes, 4 pruned nodes, max_depth=5\u001b[0m\n",
      "\u001b[34m[24]#011train-error:0.177667#011validation-error:0.2058\u001b[0m\n",
      "\u001b[34m[14:59:18] src/tree/updater_prune.cc:74: tree pruning end, 1 roots, 30 extra nodes, 8 pruned nodes, max_depth=5\u001b[0m\n",
      "\u001b[34m[25]#011train-error:0.175533#011validation-error:0.2053\u001b[0m\n",
      "\u001b[34m[14:59:20] src/tree/updater_prune.cc:74: tree pruning end, 1 roots, 16 extra nodes, 12 pruned nodes, max_depth=5\u001b[0m\n",
      "\u001b[34m[26]#011train-error:0.1738#011validation-error:0.204\u001b[0m\n",
      "\u001b[34m[14:59:21] src/tree/updater_prune.cc:74: tree pruning end, 1 roots, 32 extra nodes, 4 pruned nodes, max_depth=5\u001b[0m\n",
      "\u001b[34m[27]#011train-error:0.170267#011validation-error:0.2029\u001b[0m\n",
      "\u001b[34m[14:59:22] src/tree/updater_prune.cc:74: tree pruning end, 1 roots, 28 extra nodes, 8 pruned nodes, max_depth=5\u001b[0m\n",
      "\u001b[34m[28]#011train-error:0.167867#011validation-error:0.2021\u001b[0m\n",
      "\u001b[34m[14:59:24] src/tree/updater_prune.cc:74: tree pruning end, 1 roots, 22 extra nodes, 12 pruned nodes, max_depth=5\u001b[0m\n",
      "\u001b[34m[29]#011train-error:0.167733#011validation-error:0.2\u001b[0m\n",
      "\u001b[34m[14:59:25] src/tree/updater_prune.cc:74: tree pruning end, 1 roots, 34 extra nodes, 8 pruned nodes, max_depth=5\u001b[0m\n",
      "\u001b[34m[30]#011train-error:0.166267#011validation-error:0.2001\u001b[0m\n",
      "\u001b[34m[14:59:26] src/tree/updater_prune.cc:74: tree pruning end, 1 roots, 34 extra nodes, 14 pruned nodes, max_depth=5\u001b[0m\n",
      "\u001b[34m[31]#011train-error:0.1638#011validation-error:0.1986\u001b[0m\n",
      "\u001b[34m[14:59:28] src/tree/updater_prune.cc:74: tree pruning end, 1 roots, 20 extra nodes, 8 pruned nodes, max_depth=5\u001b[0m\n",
      "\u001b[34m[32]#011train-error:0.1622#011validation-error:0.1967\u001b[0m\n",
      "\u001b[34m[14:59:29] src/tree/updater_prune.cc:74: tree pruning end, 1 roots, 26 extra nodes, 10 pruned nodes, max_depth=5\u001b[0m\n",
      "\u001b[34m[33]#011train-error:0.160533#011validation-error:0.1971\u001b[0m\n",
      "\u001b[34m[14:59:30] src/tree/updater_prune.cc:74: tree pruning end, 1 roots, 22 extra nodes, 12 pruned nodes, max_depth=5\u001b[0m\n",
      "\u001b[34m[34]#011train-error:0.1586#011validation-error:0.1953\u001b[0m\n",
      "\u001b[34m[14:59:32] src/tree/updater_prune.cc:74: tree pruning end, 1 roots, 26 extra nodes, 6 pruned nodes, max_depth=5\u001b[0m\n",
      "\u001b[34m[35]#011train-error:0.157133#011validation-error:0.1936\u001b[0m\n",
      "\u001b[34m[14:59:33] src/tree/updater_prune.cc:74: tree pruning end, 1 roots, 26 extra nodes, 4 pruned nodes, max_depth=5\u001b[0m\n",
      "\u001b[34m[36]#011train-error:0.155667#011validation-error:0.1928\u001b[0m\n",
      "\u001b[34m[14:59:34] src/tree/updater_prune.cc:74: tree pruning end, 1 roots, 12 extra nodes, 8 pruned nodes, max_depth=5\u001b[0m\n",
      "\u001b[34m[37]#011train-error:0.153933#011validation-error:0.1909\u001b[0m\n",
      "\u001b[34m[14:59:36] src/tree/updater_prune.cc:74: tree pruning end, 1 roots, 36 extra nodes, 4 pruned nodes, max_depth=5\u001b[0m\n",
      "\u001b[34m[38]#011train-error:0.1532#011validation-error:0.1914\u001b[0m\n",
      "\u001b[34m[14:59:37] src/tree/updater_prune.cc:74: tree pruning end, 1 roots, 12 extra nodes, 10 pruned nodes, max_depth=5\u001b[0m\n",
      "\u001b[34m[39]#011train-error:0.153#011validation-error:0.1909\u001b[0m\n",
      "\u001b[34m[14:59:39] src/tree/updater_prune.cc:74: tree pruning end, 1 roots, 28 extra nodes, 8 pruned nodes, max_depth=5\u001b[0m\n",
      "\u001b[34m[40]#011train-error:0.152533#011validation-error:0.1897\u001b[0m\n",
      "\u001b[34m[14:59:40] src/tree/updater_prune.cc:74: tree pruning end, 1 roots, 20 extra nodes, 10 pruned nodes, max_depth=5\u001b[0m\n",
      "\u001b[34m[41]#011train-error:0.1504#011validation-error:0.1884\u001b[0m\n",
      "\u001b[34m[14:59:41] src/tree/updater_prune.cc:74: tree pruning end, 1 roots, 24 extra nodes, 8 pruned nodes, max_depth=5\u001b[0m\n",
      "\u001b[34m[42]#011train-error:0.148467#011validation-error:0.1875\u001b[0m\n"
     ]
    },
    {
     "name": "stdout",
     "output_type": "stream",
     "text": [
      "\u001b[34m[14:59:43] src/tree/updater_prune.cc:74: tree pruning end, 1 roots, 38 extra nodes, 2 pruned nodes, max_depth=5\u001b[0m\n",
      "\u001b[34m[43]#011train-error:0.146267#011validation-error:0.185\u001b[0m\n",
      "\u001b[34m[14:59:44] src/tree/updater_prune.cc:74: tree pruning end, 1 roots, 16 extra nodes, 8 pruned nodes, max_depth=5\u001b[0m\n",
      "\u001b[34m[44]#011train-error:0.145733#011validation-error:0.1852\u001b[0m\n",
      "\u001b[34m[14:59:45] src/tree/updater_prune.cc:74: tree pruning end, 1 roots, 34 extra nodes, 10 pruned nodes, max_depth=5\u001b[0m\n",
      "\u001b[34m[45]#011train-error:0.144133#011validation-error:0.1827\u001b[0m\n",
      "\u001b[34m[14:59:47] src/tree/updater_prune.cc:74: tree pruning end, 1 roots, 20 extra nodes, 4 pruned nodes, max_depth=5\u001b[0m\n",
      "\u001b[34m[46]#011train-error:0.142733#011validation-error:0.1822\u001b[0m\n",
      "\u001b[34m[14:59:48] src/tree/updater_prune.cc:74: tree pruning end, 1 roots, 18 extra nodes, 14 pruned nodes, max_depth=5\u001b[0m\n",
      "\u001b[34m[47]#011train-error:0.141133#011validation-error:0.1816\u001b[0m\n",
      "\u001b[34m[14:59:49] src/tree/updater_prune.cc:74: tree pruning end, 1 roots, 20 extra nodes, 14 pruned nodes, max_depth=5\u001b[0m\n",
      "\u001b[34m[48]#011train-error:0.1408#011validation-error:0.1795\u001b[0m\n",
      "\u001b[34m[14:59:51] src/tree/updater_prune.cc:74: tree pruning end, 1 roots, 32 extra nodes, 8 pruned nodes, max_depth=5\u001b[0m\n",
      "\u001b[34m[49]#011train-error:0.139467#011validation-error:0.1793\u001b[0m\n",
      "\u001b[34m[14:59:52] src/tree/updater_prune.cc:74: tree pruning end, 1 roots, 18 extra nodes, 8 pruned nodes, max_depth=5\u001b[0m\n",
      "\u001b[34m[50]#011train-error:0.138467#011validation-error:0.1782\u001b[0m\n",
      "\u001b[34m[14:59:54] src/tree/updater_prune.cc:74: tree pruning end, 1 roots, 34 extra nodes, 4 pruned nodes, max_depth=5\u001b[0m\n",
      "\u001b[34m[51]#011train-error:0.136533#011validation-error:0.1787\u001b[0m\n",
      "\u001b[34m[14:59:55] src/tree/updater_prune.cc:74: tree pruning end, 1 roots, 24 extra nodes, 10 pruned nodes, max_depth=5\u001b[0m\n",
      "\u001b[34m[52]#011train-error:0.135467#011validation-error:0.1781\u001b[0m\n",
      "\u001b[34m[14:59:56] src/tree/updater_prune.cc:74: tree pruning end, 1 roots, 26 extra nodes, 8 pruned nodes, max_depth=5\u001b[0m\n",
      "\u001b[34m[53]#011train-error:0.134533#011validation-error:0.1779\u001b[0m\n",
      "\u001b[34m[14:59:58] src/tree/updater_prune.cc:74: tree pruning end, 1 roots, 20 extra nodes, 16 pruned nodes, max_depth=5\u001b[0m\n",
      "\u001b[34m[54]#011train-error:0.134133#011validation-error:0.1772\u001b[0m\n",
      "\u001b[34m[14:59:59] src/tree/updater_prune.cc:74: tree pruning end, 1 roots, 18 extra nodes, 10 pruned nodes, max_depth=5\u001b[0m\n",
      "\u001b[34m[55]#011train-error:0.1328#011validation-error:0.1757\u001b[0m\n",
      "\u001b[34m[15:00:00] src/tree/updater_prune.cc:74: tree pruning end, 1 roots, 16 extra nodes, 6 pruned nodes, max_depth=5\u001b[0m\n",
      "\u001b[34m[56]#011train-error:0.132133#011validation-error:0.175\u001b[0m\n",
      "\u001b[34m[15:00:02] src/tree/updater_prune.cc:74: tree pruning end, 1 roots, 20 extra nodes, 10 pruned nodes, max_depth=5\u001b[0m\n",
      "\u001b[34m[57]#011train-error:0.130733#011validation-error:0.1743\u001b[0m\n",
      "\u001b[34m[15:00:03] src/tree/updater_prune.cc:74: tree pruning end, 1 roots, 12 extra nodes, 4 pruned nodes, max_depth=5\u001b[0m\n",
      "\u001b[34m[58]#011train-error:0.1304#011validation-error:0.1729\u001b[0m\n",
      "\u001b[34m[15:00:05] src/tree/updater_prune.cc:74: tree pruning end, 1 roots, 12 extra nodes, 10 pruned nodes, max_depth=5\u001b[0m\n",
      "\u001b[34m[59]#011train-error:0.129533#011validation-error:0.1724\u001b[0m\n",
      "\u001b[34m[15:00:06] src/tree/updater_prune.cc:74: tree pruning end, 1 roots, 36 extra nodes, 0 pruned nodes, max_depth=5\u001b[0m\n",
      "\u001b[34m[60]#011train-error:0.128067#011validation-error:0.1722\u001b[0m\n",
      "\u001b[34m[15:00:08] src/tree/updater_prune.cc:74: tree pruning end, 1 roots, 20 extra nodes, 4 pruned nodes, max_depth=5\u001b[0m\n",
      "\u001b[34m[61]#011train-error:0.128333#011validation-error:0.173\u001b[0m\n",
      "\u001b[34m[15:00:09] src/tree/updater_prune.cc:74: tree pruning end, 1 roots, 18 extra nodes, 14 pruned nodes, max_depth=5\u001b[0m\n",
      "\u001b[34m[62]#011train-error:0.1274#011validation-error:0.1709\u001b[0m\n",
      "\u001b[34m[15:00:11] src/tree/updater_prune.cc:74: tree pruning end, 1 roots, 16 extra nodes, 16 pruned nodes, max_depth=5\u001b[0m\n",
      "\u001b[34m[63]#011train-error:0.127267#011validation-error:0.1708\u001b[0m\n",
      "\u001b[34m[15:00:12] src/tree/updater_prune.cc:74: tree pruning end, 1 roots, 22 extra nodes, 4 pruned nodes, max_depth=5\u001b[0m\n",
      "\u001b[34m[64]#011train-error:0.126467#011validation-error:0.1709\u001b[0m\n",
      "\u001b[34m[15:00:13] src/tree/updater_prune.cc:74: tree pruning end, 1 roots, 18 extra nodes, 12 pruned nodes, max_depth=5\u001b[0m\n",
      "\u001b[34m[65]#011train-error:0.125#011validation-error:0.1701\u001b[0m\n",
      "\u001b[34m[15:00:15] src/tree/updater_prune.cc:74: tree pruning end, 1 roots, 42 extra nodes, 8 pruned nodes, max_depth=5\u001b[0m\n",
      "\u001b[34m[66]#011train-error:0.123667#011validation-error:0.1674\u001b[0m\n",
      "\u001b[34m[15:00:16] src/tree/updater_prune.cc:74: tree pruning end, 1 roots, 20 extra nodes, 12 pruned nodes, max_depth=5\u001b[0m\n",
      "\u001b[34m[67]#011train-error:0.122533#011validation-error:0.1669\u001b[0m\n",
      "\u001b[34m[15:00:17] src/tree/updater_prune.cc:74: tree pruning end, 1 roots, 20 extra nodes, 10 pruned nodes, max_depth=5\u001b[0m\n",
      "\u001b[34m[68]#011train-error:0.121933#011validation-error:0.1672\u001b[0m\n",
      "\u001b[34m[15:00:19] src/tree/updater_prune.cc:74: tree pruning end, 1 roots, 20 extra nodes, 2 pruned nodes, max_depth=5\u001b[0m\n",
      "\u001b[34m[69]#011train-error:0.122067#011validation-error:0.1673\u001b[0m\n",
      "\u001b[34m[15:00:20] src/tree/updater_prune.cc:74: tree pruning end, 1 roots, 30 extra nodes, 10 pruned nodes, max_depth=5\u001b[0m\n",
      "\u001b[34m[70]#011train-error:0.121933#011validation-error:0.1664\u001b[0m\n",
      "\u001b[34m[15:00:22] src/tree/updater_prune.cc:74: tree pruning end, 1 roots, 14 extra nodes, 8 pruned nodes, max_depth=5\u001b[0m\n",
      "\u001b[34m[71]#011train-error:0.120333#011validation-error:0.1659\u001b[0m\n",
      "\u001b[34m[15:00:23] src/tree/updater_prune.cc:74: tree pruning end, 1 roots, 12 extra nodes, 12 pruned nodes, max_depth=5\u001b[0m\n",
      "\u001b[34m[72]#011train-error:0.120533#011validation-error:0.1649\u001b[0m\n",
      "\u001b[34m[15:00:24] src/tree/updater_prune.cc:74: tree pruning end, 1 roots, 18 extra nodes, 6 pruned nodes, max_depth=5\u001b[0m\n",
      "\u001b[34m[73]#011train-error:0.12#011validation-error:0.1646\u001b[0m\n",
      "\u001b[34m[15:00:26] src/tree/updater_prune.cc:74: tree pruning end, 1 roots, 12 extra nodes, 0 pruned nodes, max_depth=5\u001b[0m\n",
      "\u001b[34m[74]#011train-error:0.118733#011validation-error:0.1639\u001b[0m\n",
      "\u001b[34m[15:00:27] src/tree/updater_prune.cc:74: tree pruning end, 1 roots, 22 extra nodes, 10 pruned nodes, max_depth=5\u001b[0m\n",
      "\u001b[34m[75]#011train-error:0.117733#011validation-error:0.1633\u001b[0m\n",
      "\u001b[34m[15:00:28] src/tree/updater_prune.cc:74: tree pruning end, 1 roots, 16 extra nodes, 14 pruned nodes, max_depth=5\u001b[0m\n",
      "\u001b[34m[76]#011train-error:0.116667#011validation-error:0.1628\u001b[0m\n",
      "\u001b[34m[15:00:30] src/tree/updater_prune.cc:74: tree pruning end, 1 roots, 18 extra nodes, 10 pruned nodes, max_depth=5\u001b[0m\n",
      "\u001b[34m[77]#011train-error:0.1156#011validation-error:0.1627\u001b[0m\n",
      "\u001b[34m[15:00:31] src/tree/updater_prune.cc:74: tree pruning end, 1 roots, 16 extra nodes, 14 pruned nodes, max_depth=5\u001b[0m\n",
      "\u001b[34m[78]#011train-error:0.115933#011validation-error:0.1622\u001b[0m\n",
      "\u001b[34m[15:00:32] src/tree/updater_prune.cc:74: tree pruning end, 1 roots, 28 extra nodes, 4 pruned nodes, max_depth=5\u001b[0m\n",
      "\u001b[34m[79]#011train-error:0.114867#011validation-error:0.1623\u001b[0m\n",
      "\u001b[34m[15:00:34] src/tree/updater_prune.cc:74: tree pruning end, 1 roots, 14 extra nodes, 8 pruned nodes, max_depth=5\u001b[0m\n",
      "\u001b[34m[80]#011train-error:0.114133#011validation-error:0.161\u001b[0m\n",
      "\u001b[34m[15:00:35] src/tree/updater_prune.cc:74: tree pruning end, 1 roots, 24 extra nodes, 8 pruned nodes, max_depth=5\u001b[0m\n",
      "\u001b[34m[81]#011train-error:0.113333#011validation-error:0.1605\u001b[0m\n",
      "\u001b[34m[15:00:37] src/tree/updater_prune.cc:74: tree pruning end, 1 roots, 28 extra nodes, 6 pruned nodes, max_depth=5\u001b[0m\n",
      "\u001b[34m[82]#011train-error:0.1112#011validation-error:0.1601\u001b[0m\n",
      "\u001b[34m[15:00:38] src/tree/updater_prune.cc:74: tree pruning end, 1 roots, 28 extra nodes, 8 pruned nodes, max_depth=5\u001b[0m\n",
      "\u001b[34m[83]#011train-error:0.109733#011validation-error:0.1606\u001b[0m\n",
      "\u001b[34m[15:00:39] src/tree/updater_prune.cc:74: tree pruning end, 1 roots, 16 extra nodes, 8 pruned nodes, max_depth=5\u001b[0m\n",
      "\u001b[34m[84]#011train-error:0.110267#011validation-error:0.1594\u001b[0m\n",
      "\u001b[34m[15:00:41] src/tree/updater_prune.cc:74: tree pruning end, 1 roots, 24 extra nodes, 4 pruned nodes, max_depth=5\u001b[0m\n",
      "\u001b[34m[85]#011train-error:0.109533#011validation-error:0.1592\u001b[0m\n",
      "\u001b[34m[15:00:42] src/tree/updater_prune.cc:74: tree pruning end, 1 roots, 20 extra nodes, 4 pruned nodes, max_depth=5\u001b[0m\n",
      "\u001b[34m[86]#011train-error:0.108533#011validation-error:0.1584\u001b[0m\n",
      "\u001b[34m[15:00:44] src/tree/updater_prune.cc:74: tree pruning end, 1 roots, 14 extra nodes, 6 pruned nodes, max_depth=5\u001b[0m\n",
      "\u001b[34m[87]#011train-error:0.108933#011validation-error:0.157\u001b[0m\n"
     ]
    },
    {
     "name": "stdout",
     "output_type": "stream",
     "text": [
      "\u001b[34m[15:00:45] src/tree/updater_prune.cc:74: tree pruning end, 1 roots, 18 extra nodes, 2 pruned nodes, max_depth=5\u001b[0m\n",
      "\u001b[34m[88]#011train-error:0.1076#011validation-error:0.1567\u001b[0m\n",
      "\u001b[34m[15:00:46] src/tree/updater_prune.cc:74: tree pruning end, 1 roots, 14 extra nodes, 10 pruned nodes, max_depth=5\u001b[0m\n",
      "\u001b[34m[89]#011train-error:0.108#011validation-error:0.1562\u001b[0m\n",
      "\u001b[34m[15:00:48] src/tree/updater_prune.cc:74: tree pruning end, 1 roots, 12 extra nodes, 10 pruned nodes, max_depth=5\u001b[0m\n",
      "\u001b[34m[90]#011train-error:0.107467#011validation-error:0.1555\u001b[0m\n",
      "\u001b[34m[15:00:49] src/tree/updater_prune.cc:74: tree pruning end, 1 roots, 12 extra nodes, 8 pruned nodes, max_depth=5\u001b[0m\n",
      "\u001b[34m[91]#011train-error:0.106933#011validation-error:0.1552\u001b[0m\n",
      "\u001b[34m[15:00:50] src/tree/updater_prune.cc:74: tree pruning end, 1 roots, 12 extra nodes, 4 pruned nodes, max_depth=5\u001b[0m\n",
      "\u001b[34m[92]#011train-error:0.1064#011validation-error:0.1553\u001b[0m\n",
      "\u001b[34m[15:00:52] src/tree/updater_prune.cc:74: tree pruning end, 1 roots, 12 extra nodes, 8 pruned nodes, max_depth=5\u001b[0m\n",
      "\u001b[34m[93]#011train-error:0.1062#011validation-error:0.1543\u001b[0m\n",
      "\u001b[34m[15:00:53] src/tree/updater_prune.cc:74: tree pruning end, 1 roots, 20 extra nodes, 14 pruned nodes, max_depth=5\u001b[0m\n",
      "\u001b[34m[94]#011train-error:0.1054#011validation-error:0.1546\u001b[0m\n",
      "\u001b[34m[15:00:54] src/tree/updater_prune.cc:74: tree pruning end, 1 roots, 18 extra nodes, 14 pruned nodes, max_depth=5\u001b[0m\n",
      "\u001b[34m[95]#011train-error:0.105267#011validation-error:0.1552\u001b[0m\n",
      "\u001b[34m[15:00:56] src/tree/updater_prune.cc:74: tree pruning end, 1 roots, 22 extra nodes, 10 pruned nodes, max_depth=5\u001b[0m\n",
      "\u001b[34m[96]#011train-error:0.1054#011validation-error:0.1543\u001b[0m\n",
      "\u001b[34m[15:00:57] src/tree/updater_prune.cc:74: tree pruning end, 1 roots, 22 extra nodes, 4 pruned nodes, max_depth=5\u001b[0m\n",
      "\u001b[34m[97]#011train-error:0.104867#011validation-error:0.1543\u001b[0m\n",
      "\u001b[34m[15:00:59] src/tree/updater_prune.cc:74: tree pruning end, 1 roots, 24 extra nodes, 6 pruned nodes, max_depth=5\u001b[0m\n",
      "\u001b[34m[98]#011train-error:0.104#011validation-error:0.1541\u001b[0m\n",
      "\u001b[34m[15:01:00] src/tree/updater_prune.cc:74: tree pruning end, 1 roots, 14 extra nodes, 4 pruned nodes, max_depth=5\u001b[0m\n",
      "\u001b[34m[99]#011train-error:0.103733#011validation-error:0.1538\u001b[0m\n",
      "\u001b[34m[15:01:01] src/tree/updater_prune.cc:74: tree pruning end, 1 roots, 26 extra nodes, 8 pruned nodes, max_depth=5\u001b[0m\n",
      "\u001b[34m[100]#011train-error:0.1024#011validation-error:0.1543\u001b[0m\n",
      "\u001b[34m[15:01:03] src/tree/updater_prune.cc:74: tree pruning end, 1 roots, 20 extra nodes, 18 pruned nodes, max_depth=5\u001b[0m\n",
      "\u001b[34m[101]#011train-error:0.1022#011validation-error:0.1531\u001b[0m\n",
      "\u001b[34m[15:01:04] src/tree/updater_prune.cc:74: tree pruning end, 1 roots, 32 extra nodes, 8 pruned nodes, max_depth=5\u001b[0m\n",
      "\u001b[34m[102]#011train-error:0.100867#011validation-error:0.1531\u001b[0m\n",
      "\u001b[34m[15:01:06] src/tree/updater_prune.cc:74: tree pruning end, 1 roots, 10 extra nodes, 6 pruned nodes, max_depth=5\u001b[0m\n",
      "\u001b[34m[103]#011train-error:0.100867#011validation-error:0.1529\u001b[0m\n",
      "\u001b[34m[15:01:08] src/tree/updater_prune.cc:74: tree pruning end, 1 roots, 26 extra nodes, 12 pruned nodes, max_depth=5\u001b[0m\n",
      "\u001b[34m[104]#011train-error:0.099867#011validation-error:0.1522\u001b[0m\n",
      "\u001b[34m[15:01:09] src/tree/updater_prune.cc:74: tree pruning end, 1 roots, 16 extra nodes, 12 pruned nodes, max_depth=5\u001b[0m\n",
      "\u001b[34m[105]#011train-error:0.099667#011validation-error:0.1524\u001b[0m\n",
      "\u001b[34m[15:01:10] src/tree/updater_prune.cc:74: tree pruning end, 1 roots, 14 extra nodes, 12 pruned nodes, max_depth=5\u001b[0m\n",
      "\u001b[34m[106]#011train-error:0.098667#011validation-error:0.1527\u001b[0m\n",
      "\u001b[34m[15:01:12] src/tree/updater_prune.cc:74: tree pruning end, 1 roots, 30 extra nodes, 14 pruned nodes, max_depth=5\u001b[0m\n",
      "\u001b[34m[107]#011train-error:0.098133#011validation-error:0.1516\u001b[0m\n",
      "\u001b[34m[15:01:13] src/tree/updater_prune.cc:74: tree pruning end, 1 roots, 22 extra nodes, 2 pruned nodes, max_depth=5\u001b[0m\n",
      "\u001b[34m[108]#011train-error:0.0974#011validation-error:0.1517\u001b[0m\n",
      "\u001b[34m[15:01:15] src/tree/updater_prune.cc:74: tree pruning end, 1 roots, 12 extra nodes, 18 pruned nodes, max_depth=5\u001b[0m\n",
      "\u001b[34m[109]#011train-error:0.0968#011validation-error:0.1519\u001b[0m\n",
      "\u001b[34m[15:01:16] src/tree/updater_prune.cc:74: tree pruning end, 1 roots, 16 extra nodes, 12 pruned nodes, max_depth=5\u001b[0m\n",
      "\u001b[34m[110]#011train-error:0.097133#011validation-error:0.1514\u001b[0m\n",
      "\u001b[34m[15:01:17] src/tree/updater_prune.cc:74: tree pruning end, 1 roots, 18 extra nodes, 8 pruned nodes, max_depth=5\u001b[0m\n",
      "\u001b[34m[111]#011train-error:0.096133#011validation-error:0.1522\u001b[0m\n",
      "\u001b[34m[15:01:19] src/tree/updater_prune.cc:74: tree pruning end, 1 roots, 10 extra nodes, 8 pruned nodes, max_depth=5\u001b[0m\n",
      "\u001b[34m[112]#011train-error:0.095267#011validation-error:0.1518\u001b[0m\n",
      "\u001b[34m[15:01:20] src/tree/updater_prune.cc:74: tree pruning end, 1 roots, 14 extra nodes, 6 pruned nodes, max_depth=5\u001b[0m\n",
      "\u001b[34m[113]#011train-error:0.095#011validation-error:0.1527\u001b[0m\n",
      "\u001b[34m[15:01:21] src/tree/updater_prune.cc:74: tree pruning end, 1 roots, 14 extra nodes, 6 pruned nodes, max_depth=5\u001b[0m\n",
      "\u001b[34m[114]#011train-error:0.094333#011validation-error:0.1518\u001b[0m\n",
      "\u001b[34m[15:01:23] src/tree/updater_prune.cc:74: tree pruning end, 1 roots, 24 extra nodes, 10 pruned nodes, max_depth=5\u001b[0m\n",
      "\u001b[34m[115]#011train-error:0.094467#011validation-error:0.1523\u001b[0m\n",
      "\u001b[34m[15:01:24] src/tree/updater_prune.cc:74: tree pruning end, 1 roots, 16 extra nodes, 10 pruned nodes, max_depth=5\u001b[0m\n",
      "\u001b[34m[116]#011train-error:0.093933#011validation-error:0.1521\u001b[0m\n",
      "\u001b[34m[15:01:25] src/tree/updater_prune.cc:74: tree pruning end, 1 roots, 18 extra nodes, 2 pruned nodes, max_depth=5\u001b[0m\n",
      "\u001b[34m[117]#011train-error:0.093467#011validation-error:0.1518\u001b[0m\n",
      "\u001b[34m[15:01:27] src/tree/updater_prune.cc:74: tree pruning end, 1 roots, 20 extra nodes, 16 pruned nodes, max_depth=5\u001b[0m\n",
      "\u001b[34m[118]#011train-error:0.092867#011validation-error:0.1504\u001b[0m\n",
      "\u001b[34m[15:01:28] src/tree/updater_prune.cc:74: tree pruning end, 1 roots, 20 extra nodes, 8 pruned nodes, max_depth=5\u001b[0m\n",
      "\u001b[34m[119]#011train-error:0.0924#011validation-error:0.1514\u001b[0m\n",
      "\u001b[34m[15:01:30] src/tree/updater_prune.cc:74: tree pruning end, 1 roots, 12 extra nodes, 6 pruned nodes, max_depth=5\u001b[0m\n",
      "\u001b[34m[120]#011train-error:0.092333#011validation-error:0.1495\u001b[0m\n",
      "\u001b[34m[15:01:31] src/tree/updater_prune.cc:74: tree pruning end, 1 roots, 10 extra nodes, 6 pruned nodes, max_depth=5\u001b[0m\n",
      "\u001b[34m[121]#011train-error:0.0918#011validation-error:0.1502\u001b[0m\n",
      "\u001b[34m[15:01:32] src/tree/updater_prune.cc:74: tree pruning end, 1 roots, 10 extra nodes, 8 pruned nodes, max_depth=5\u001b[0m\n",
      "\u001b[34m[122]#011train-error:0.091333#011validation-error:0.1496\u001b[0m\n",
      "\u001b[34m[15:01:34] src/tree/updater_prune.cc:74: tree pruning end, 1 roots, 12 extra nodes, 6 pruned nodes, max_depth=5\u001b[0m\n",
      "\u001b[34m[123]#011train-error:0.091333#011validation-error:0.1497\u001b[0m\n",
      "\u001b[34m[15:01:35] src/tree/updater_prune.cc:74: tree pruning end, 1 roots, 22 extra nodes, 12 pruned nodes, max_depth=5\u001b[0m\n",
      "\u001b[34m[124]#011train-error:0.0908#011validation-error:0.1499\u001b[0m\n",
      "\u001b[34m[15:01:36] src/tree/updater_prune.cc:74: tree pruning end, 1 roots, 30 extra nodes, 6 pruned nodes, max_depth=5\u001b[0m\n",
      "\u001b[34m[125]#011train-error:0.090533#011validation-error:0.1493\u001b[0m\n",
      "\u001b[34m[15:01:38] src/tree/updater_prune.cc:74: tree pruning end, 1 roots, 22 extra nodes, 8 pruned nodes, max_depth=5\u001b[0m\n",
      "\u001b[34m[126]#011train-error:0.090333#011validation-error:0.1482\u001b[0m\n",
      "\u001b[34m[15:01:39] src/tree/updater_prune.cc:74: tree pruning end, 1 roots, 10 extra nodes, 10 pruned nodes, max_depth=5\u001b[0m\n",
      "\u001b[34m[127]#011train-error:0.089533#011validation-error:0.1473\u001b[0m\n",
      "\u001b[34m[15:01:40] src/tree/updater_prune.cc:74: tree pruning end, 1 roots, 10 extra nodes, 4 pruned nodes, max_depth=5\u001b[0m\n",
      "\u001b[34m[128]#011train-error:0.089533#011validation-error:0.1471\u001b[0m\n",
      "\u001b[34m[15:01:42] src/tree/updater_prune.cc:74: tree pruning end, 1 roots, 22 extra nodes, 2 pruned nodes, max_depth=5\u001b[0m\n",
      "\u001b[34m[129]#011train-error:0.089133#011validation-error:0.1478\u001b[0m\n",
      "\u001b[34m[15:01:43] src/tree/updater_prune.cc:74: tree pruning end, 1 roots, 20 extra nodes, 10 pruned nodes, max_depth=5\u001b[0m\n",
      "\u001b[34m[130]#011train-error:0.088933#011validation-error:0.1473\u001b[0m\n",
      "\u001b[34m[15:01:45] src/tree/updater_prune.cc:74: tree pruning end, 1 roots, 36 extra nodes, 18 pruned nodes, max_depth=5\u001b[0m\n",
      "\u001b[34m[131]#011train-error:0.087533#011validation-error:0.1467\u001b[0m\n",
      "\u001b[34m[15:01:46] src/tree/updater_prune.cc:74: tree pruning end, 1 roots, 26 extra nodes, 8 pruned nodes, max_depth=5\u001b[0m\n",
      "\u001b[34m[132]#011train-error:0.086933#011validation-error:0.147\u001b[0m\n",
      "\u001b[34m[15:01:47] src/tree/updater_prune.cc:74: tree pruning end, 1 roots, 12 extra nodes, 10 pruned nodes, max_depth=5\u001b[0m\n",
      "\u001b[34m[133]#011train-error:0.0868#011validation-error:0.1465\u001b[0m\n",
      "\u001b[34m[15:01:49] src/tree/updater_prune.cc:74: tree pruning end, 1 roots, 24 extra nodes, 4 pruned nodes, max_depth=5\u001b[0m\n",
      "\u001b[34m[134]#011train-error:0.086267#011validation-error:0.1465\u001b[0m\n",
      "\u001b[34m[15:01:50] src/tree/updater_prune.cc:74: tree pruning end, 1 roots, 10 extra nodes, 8 pruned nodes, max_depth=5\u001b[0m\n",
      "\u001b[34m[135]#011train-error:0.086133#011validation-error:0.1466\u001b[0m\n",
      "\u001b[34m[15:01:51] src/tree/updater_prune.cc:74: tree pruning end, 1 roots, 12 extra nodes, 6 pruned nodes, max_depth=5\u001b[0m\n",
      "\u001b[34m[136]#011train-error:0.086133#011validation-error:0.1463\u001b[0m\n",
      "\u001b[34m[15:01:53] src/tree/updater_prune.cc:74: tree pruning end, 1 roots, 12 extra nodes, 18 pruned nodes, max_depth=5\u001b[0m\n",
      "\u001b[34m[137]#011train-error:0.085733#011validation-error:0.1449\u001b[0m\n"
     ]
    },
    {
     "name": "stdout",
     "output_type": "stream",
     "text": [
      "\u001b[34m[15:01:54] src/tree/updater_prune.cc:74: tree pruning end, 1 roots, 14 extra nodes, 20 pruned nodes, max_depth=5\u001b[0m\n",
      "\u001b[34m[138]#011train-error:0.085333#011validation-error:0.1449\u001b[0m\n",
      "\u001b[34m[15:01:55] src/tree/updater_prune.cc:74: tree pruning end, 1 roots, 10 extra nodes, 6 pruned nodes, max_depth=5\u001b[0m\n",
      "\u001b[34m[139]#011train-error:0.085#011validation-error:0.1447\u001b[0m\n",
      "\u001b[34m[15:01:57] src/tree/updater_prune.cc:74: tree pruning end, 1 roots, 16 extra nodes, 6 pruned nodes, max_depth=5\u001b[0m\n",
      "\u001b[34m[140]#011train-error:0.084933#011validation-error:0.1443\u001b[0m\n",
      "\u001b[34m[15:01:58] src/tree/updater_prune.cc:74: tree pruning end, 1 roots, 16 extra nodes, 2 pruned nodes, max_depth=5\u001b[0m\n",
      "\u001b[34m[141]#011train-error:0.084933#011validation-error:0.1446\u001b[0m\n",
      "\u001b[34m[15:01:59] src/tree/updater_prune.cc:74: tree pruning end, 1 roots, 14 extra nodes, 2 pruned nodes, max_depth=5\u001b[0m\n",
      "\u001b[34m[142]#011train-error:0.084867#011validation-error:0.1445\u001b[0m\n",
      "\u001b[34m[15:02:01] src/tree/updater_prune.cc:74: tree pruning end, 1 roots, 10 extra nodes, 12 pruned nodes, max_depth=5\u001b[0m\n",
      "\u001b[34m[143]#011train-error:0.0848#011validation-error:0.1441\u001b[0m\n",
      "\u001b[34m[15:02:02] src/tree/updater_prune.cc:74: tree pruning end, 1 roots, 24 extra nodes, 10 pruned nodes, max_depth=5\u001b[0m\n",
      "\u001b[34m[144]#011train-error:0.084133#011validation-error:0.1447\u001b[0m\n",
      "\u001b[34m[15:02:04] src/tree/updater_prune.cc:74: tree pruning end, 1 roots, 20 extra nodes, 4 pruned nodes, max_depth=5\u001b[0m\n",
      "\u001b[34m[145]#011train-error:0.084333#011validation-error:0.1439\u001b[0m\n",
      "\u001b[34m[15:02:05] src/tree/updater_prune.cc:74: tree pruning end, 1 roots, 16 extra nodes, 4 pruned nodes, max_depth=5\u001b[0m\n",
      "\u001b[34m[146]#011train-error:0.083467#011validation-error:0.1437\u001b[0m\n",
      "\u001b[34m[15:02:07] src/tree/updater_prune.cc:74: tree pruning end, 1 roots, 10 extra nodes, 14 pruned nodes, max_depth=5\u001b[0m\n",
      "\u001b[34m[147]#011train-error:0.083133#011validation-error:0.1438\u001b[0m\n",
      "\u001b[34m[15:02:08] src/tree/updater_prune.cc:74: tree pruning end, 1 roots, 14 extra nodes, 6 pruned nodes, max_depth=5\u001b[0m\n",
      "\u001b[34m[148]#011train-error:0.0834#011validation-error:0.1434\u001b[0m\n",
      "\u001b[34m[15:02:10] src/tree/updater_prune.cc:74: tree pruning end, 1 roots, 12 extra nodes, 6 pruned nodes, max_depth=5\u001b[0m\n",
      "\u001b[34m[149]#011train-error:0.083267#011validation-error:0.143\u001b[0m\n",
      "\u001b[34m[15:02:11] src/tree/updater_prune.cc:74: tree pruning end, 1 roots, 16 extra nodes, 10 pruned nodes, max_depth=5\u001b[0m\n",
      "\u001b[34m[150]#011train-error:0.083467#011validation-error:0.143\u001b[0m\n",
      "\u001b[34m[15:02:12] src/tree/updater_prune.cc:74: tree pruning end, 1 roots, 12 extra nodes, 2 pruned nodes, max_depth=5\u001b[0m\n",
      "\u001b[34m[151]#011train-error:0.083067#011validation-error:0.1432\u001b[0m\n",
      "\u001b[34m[15:02:14] src/tree/updater_prune.cc:74: tree pruning end, 1 roots, 10 extra nodes, 6 pruned nodes, max_depth=5\u001b[0m\n",
      "\u001b[34m[152]#011train-error:0.082733#011validation-error:0.1426\u001b[0m\n",
      "\u001b[34m[15:02:15] src/tree/updater_prune.cc:74: tree pruning end, 1 roots, 24 extra nodes, 14 pruned nodes, max_depth=5\u001b[0m\n",
      "\u001b[34m[153]#011train-error:0.082133#011validation-error:0.1431\u001b[0m\n",
      "\u001b[34m[15:02:17] src/tree/updater_prune.cc:74: tree pruning end, 1 roots, 14 extra nodes, 10 pruned nodes, max_depth=5\u001b[0m\n",
      "\u001b[34m[154]#011train-error:0.082333#011validation-error:0.1441\u001b[0m\n",
      "\u001b[34m[15:02:18] src/tree/updater_prune.cc:74: tree pruning end, 1 roots, 16 extra nodes, 10 pruned nodes, max_depth=5\u001b[0m\n",
      "\u001b[34m[155]#011train-error:0.0814#011validation-error:0.143\u001b[0m\n",
      "\u001b[34m[15:02:19] src/tree/updater_prune.cc:74: tree pruning end, 1 roots, 14 extra nodes, 4 pruned nodes, max_depth=5\u001b[0m\n",
      "\u001b[34m[156]#011train-error:0.081#011validation-error:0.1426\u001b[0m\n",
      "\u001b[34m[15:02:21] src/tree/updater_prune.cc:74: tree pruning end, 1 roots, 18 extra nodes, 6 pruned nodes, max_depth=5\u001b[0m\n",
      "\u001b[34m[157]#011train-error:0.080533#011validation-error:0.1421\u001b[0m\n",
      "\u001b[34m[15:02:22] src/tree/updater_prune.cc:74: tree pruning end, 1 roots, 20 extra nodes, 6 pruned nodes, max_depth=5\u001b[0m\n",
      "\u001b[34m[158]#011train-error:0.080067#011validation-error:0.1416\u001b[0m\n",
      "\u001b[34m[15:02:23] src/tree/updater_prune.cc:74: tree pruning end, 1 roots, 18 extra nodes, 6 pruned nodes, max_depth=5\u001b[0m\n",
      "\u001b[34m[159]#011train-error:0.079667#011validation-error:0.1402\u001b[0m\n",
      "\u001b[34m[15:02:25] src/tree/updater_prune.cc:74: tree pruning end, 1 roots, 20 extra nodes, 6 pruned nodes, max_depth=5\u001b[0m\n",
      "\u001b[34m[160]#011train-error:0.0798#011validation-error:0.1398\u001b[0m\n",
      "\u001b[34m[15:02:26] src/tree/updater_prune.cc:74: tree pruning end, 1 roots, 12 extra nodes, 8 pruned nodes, max_depth=5\u001b[0m\n",
      "\u001b[34m[161]#011train-error:0.079467#011validation-error:0.1399\u001b[0m\n",
      "\u001b[34m[15:02:27] src/tree/updater_prune.cc:74: tree pruning end, 1 roots, 14 extra nodes, 0 pruned nodes, max_depth=5\u001b[0m\n",
      "\u001b[34m[162]#011train-error:0.079333#011validation-error:0.1395\u001b[0m\n",
      "\u001b[34m[15:02:29] src/tree/updater_prune.cc:74: tree pruning end, 1 roots, 16 extra nodes, 4 pruned nodes, max_depth=5\u001b[0m\n",
      "\u001b[34m[163]#011train-error:0.0784#011validation-error:0.1398\u001b[0m\n",
      "\u001b[34m[15:02:30] src/tree/updater_prune.cc:74: tree pruning end, 1 roots, 12 extra nodes, 6 pruned nodes, max_depth=5\u001b[0m\n",
      "\u001b[34m[164]#011train-error:0.0786#011validation-error:0.1391\u001b[0m\n",
      "\u001b[34m[15:02:32] src/tree/updater_prune.cc:74: tree pruning end, 1 roots, 10 extra nodes, 8 pruned nodes, max_depth=5\u001b[0m\n",
      "\u001b[34m[165]#011train-error:0.078733#011validation-error:0.139\u001b[0m\n",
      "\u001b[34m[15:02:33] src/tree/updater_prune.cc:74: tree pruning end, 1 roots, 16 extra nodes, 18 pruned nodes, max_depth=5\u001b[0m\n",
      "\u001b[34m[166]#011train-error:0.0786#011validation-error:0.1394\u001b[0m\n",
      "\u001b[34m[15:02:34] src/tree/updater_prune.cc:74: tree pruning end, 1 roots, 12 extra nodes, 6 pruned nodes, max_depth=5\u001b[0m\n",
      "\u001b[34m[167]#011train-error:0.0786#011validation-error:0.1397\u001b[0m\n",
      "\u001b[34m[15:02:36] src/tree/updater_prune.cc:74: tree pruning end, 1 roots, 18 extra nodes, 4 pruned nodes, max_depth=5\u001b[0m\n",
      "\u001b[34m[168]#011train-error:0.078467#011validation-error:0.1391\u001b[0m\n",
      "\u001b[34m[15:02:37] src/tree/updater_prune.cc:74: tree pruning end, 1 roots, 12 extra nodes, 4 pruned nodes, max_depth=5\u001b[0m\n",
      "\u001b[34m[169]#011train-error:0.078133#011validation-error:0.1389\u001b[0m\n",
      "\u001b[34m[15:02:38] src/tree/updater_prune.cc:74: tree pruning end, 1 roots, 14 extra nodes, 6 pruned nodes, max_depth=5\u001b[0m\n",
      "\u001b[34m[170]#011train-error:0.077933#011validation-error:0.1389\u001b[0m\n",
      "\u001b[34m[15:02:40] src/tree/updater_prune.cc:74: tree pruning end, 1 roots, 16 extra nodes, 20 pruned nodes, max_depth=5\u001b[0m\n",
      "\u001b[34m[171]#011train-error:0.078133#011validation-error:0.1385\u001b[0m\n",
      "\u001b[34m[15:02:41] src/tree/updater_prune.cc:74: tree pruning end, 1 roots, 20 extra nodes, 4 pruned nodes, max_depth=5\u001b[0m\n",
      "\u001b[34m[172]#011train-error:0.077733#011validation-error:0.1377\u001b[0m\n",
      "\u001b[34m[15:02:42] src/tree/updater_prune.cc:74: tree pruning end, 1 roots, 20 extra nodes, 8 pruned nodes, max_depth=5\u001b[0m\n",
      "\u001b[34m[173]#011train-error:0.0778#011validation-error:0.1379\u001b[0m\n",
      "\u001b[34m[15:02:44] src/tree/updater_prune.cc:74: tree pruning end, 1 roots, 16 extra nodes, 8 pruned nodes, max_depth=5\u001b[0m\n",
      "\u001b[34m[174]#011train-error:0.077667#011validation-error:0.1377\u001b[0m\n",
      "\u001b[34m[15:02:45] src/tree/updater_prune.cc:74: tree pruning end, 1 roots, 14 extra nodes, 16 pruned nodes, max_depth=5\u001b[0m\n",
      "\u001b[34m[175]#011train-error:0.077133#011validation-error:0.1383\u001b[0m\n",
      "\u001b[34m[15:02:47] src/tree/updater_prune.cc:74: tree pruning end, 1 roots, 10 extra nodes, 14 pruned nodes, max_depth=5\u001b[0m\n",
      "\u001b[34m[176]#011train-error:0.0766#011validation-error:0.1386\u001b[0m\n",
      "\u001b[34m[15:02:48] src/tree/updater_prune.cc:74: tree pruning end, 1 roots, 20 extra nodes, 12 pruned nodes, max_depth=5\u001b[0m\n",
      "\u001b[34m[177]#011train-error:0.0768#011validation-error:0.139\u001b[0m\n",
      "\u001b[34m[15:02:49] src/tree/updater_prune.cc:74: tree pruning end, 1 roots, 14 extra nodes, 4 pruned nodes, max_depth=5\u001b[0m\n",
      "\u001b[34m[178]#011train-error:0.076267#011validation-error:0.1391\u001b[0m\n",
      "\u001b[34m[15:02:51] src/tree/updater_prune.cc:74: tree pruning end, 1 roots, 12 extra nodes, 4 pruned nodes, max_depth=5\u001b[0m\n",
      "\u001b[34m[179]#011train-error:0.076467#011validation-error:0.1387\u001b[0m\n",
      "\u001b[34m[15:02:52] src/tree/updater_prune.cc:74: tree pruning end, 1 roots, 10 extra nodes, 8 pruned nodes, max_depth=5\u001b[0m\n",
      "\u001b[34m[180]#011train-error:0.0764#011validation-error:0.139\u001b[0m\n",
      "\u001b[34m[15:02:53] src/tree/updater_prune.cc:74: tree pruning end, 1 roots, 14 extra nodes, 12 pruned nodes, max_depth=5\u001b[0m\n",
      "\u001b[34m[181]#011train-error:0.0758#011validation-error:0.1388\u001b[0m\n"
     ]
    },
    {
     "name": "stdout",
     "output_type": "stream",
     "text": [
      "\u001b[34m[15:02:55] src/tree/updater_prune.cc:74: tree pruning end, 1 roots, 10 extra nodes, 8 pruned nodes, max_depth=5\u001b[0m\n",
      "\u001b[34m[182]#011train-error:0.0758#011validation-error:0.139\u001b[0m\n",
      "\u001b[34mStopping. Best iteration:\u001b[0m\n",
      "\u001b[34m[172]#011train-error:0.077733#011validation-error:0.1377\n",
      "\u001b[0m\n",
      "\n",
      "2021-06-30 15:03:43 Uploading - Uploading generated training model\n",
      "2021-06-30 15:03:43 Completed - Training job completed\n",
      "Training seconds: 359\n",
      "Billable seconds: 359\n"
     ]
    }
   ],
   "source": [
    "xgb.fit({'train': s3_input_train, 'validation': s3_input_validation})"
   ]
  },
  {
   "cell_type": "markdown",
   "metadata": {},
   "source": [
    "## Step 5: Testing the model\n",
    "\n",
    "Now that we've fit our XGBoost model, it's time to see how well it performs. To do this we will use SageMakers Batch Transform functionality. Batch Transform is a convenient way to perform inference on a large dataset in a way that is not realtime. That is, we don't necessarily need to use our model's results immediately and instead we can perform inference on a large number of samples. An example of this in industry might be performing an end of month report. This method of inference can also be useful to us as it means that we can perform inference on our entire test set. \n",
    "\n",
    "To perform a Batch Transformation we need to first create a transformer objects from our trained estimator object."
   ]
  },
  {
   "cell_type": "code",
   "execution_count": 25,
   "metadata": {},
   "outputs": [
    {
     "name": "stderr",
     "output_type": "stream",
     "text": [
      "Parameter image will be renamed to image_uri in SageMaker Python SDK v2.\n"
     ]
    }
   ],
   "source": [
    "xgb_transformer = xgb.transformer(instance_count = 1, instance_type = 'ml.m4.xlarge')"
   ]
  },
  {
   "cell_type": "markdown",
   "metadata": {},
   "source": [
    "Next we actually perform the transform job. When doing so we need to make sure to specify the type of data we are sending so that it is serialized correctly in the background. In our case we are providing our model with csv data so we specify `text/csv`. Also, if the test data that we have provided is too large to process all at once then we need to specify how the data file should be split up. Since each line is a single entry in our data set we tell SageMaker that it can split the input on each line."
   ]
  },
  {
   "cell_type": "code",
   "execution_count": 26,
   "metadata": {},
   "outputs": [],
   "source": [
    "xgb_transformer.transform(test_location, content_type='text/csv', split_type='Line')"
   ]
  },
  {
   "cell_type": "markdown",
   "metadata": {},
   "source": [
    "Currently the transform job is running but it is doing so in the background. Since we wish to wait until the transform job is done and we would like a bit of feedback we can run the `wait()` method."
   ]
  },
  {
   "cell_type": "code",
   "execution_count": 27,
   "metadata": {},
   "outputs": [
    {
     "name": "stdout",
     "output_type": "stream",
     "text": [
      ".....................................\u001b[34mArguments: serve\u001b[0m\n",
      "\u001b[34m[2021-06-30 15:10:04 +0000] [1] [INFO] Starting gunicorn 19.9.0\u001b[0m\n",
      "\u001b[34m[2021-06-30 15:10:04 +0000] [1] [INFO] Listening at: http://0.0.0.0:8080 (1)\u001b[0m\n",
      "\u001b[34m[2021-06-30 15:10:04 +0000] [1] [INFO] Using worker: gevent\u001b[0m\n",
      "\u001b[34m[2021-06-30 15:10:04 +0000] [21] [INFO] Booting worker with pid: 21\u001b[0m\n",
      "\u001b[34m[2021-06-30 15:10:04 +0000] [22] [INFO] Booting worker with pid: 22\u001b[0m\n",
      "\u001b[34m[2021-06-30 15:10:04 +0000] [23] [INFO] Booting worker with pid: 23\u001b[0m\n",
      "\u001b[34m[2021-06-30 15:10:05 +0000] [24] [INFO] Booting worker with pid: 24\u001b[0m\n",
      "\u001b[34m/opt/amazon/lib/python3.7/site-packages/gunicorn/workers/ggevent.py:65: MonkeyPatchWarning: Monkey-patching ssl after ssl has already been imported may lead to errors, including RecursionError on Python 3.6. It may also silently lead to incorrect behaviour on Python 3.7. Please monkey-patch earlier. See https://github.com/gevent/gevent/issues/1016. Modules that had direct imports (NOT patched): ['urllib3.util (/opt/amazon/lib/python3.7/site-packages/urllib3/util/__init__.py)', 'urllib3.util.ssl_ (/opt/amazon/lib/python3.7/site-packages/urllib3/util/ssl_.py)']. \n",
      "  monkey.patch_all(subprocess=True)\u001b[0m\n",
      "\u001b[34m[2021-06-30:15:10:05:INFO] Model loaded successfully for worker : 21\u001b[0m\n",
      "\u001b[34m/opt/amazon/lib/python3.7/site-packages/gunicorn/workers/ggevent.py:65: MonkeyPatchWarning: Monkey-patching ssl after ssl has already been imported may lead to errors, including RecursionError on Python 3.6. It may also silently lead to incorrect behaviour on Python 3.7. Please monkey-patch earlier. See https://github.com/gevent/gevent/issues/1016. Modules that had direct imports (NOT patched): ['urllib3.util (/opt/amazon/lib/python3.7/site-packages/urllib3/util/__init__.py)', 'urllib3.util.ssl_ (/opt/amazon/lib/python3.7/site-packages/urllib3/util/ssl_.py)']. \n",
      "  monkey.patch_all(subprocess=True)\u001b[0m\n",
      "\u001b[34m[2021-06-30:15:10:05:INFO] Model loaded successfully for worker : 22\u001b[0m\n",
      "\u001b[34m/opt/amazon/lib/python3.7/site-packages/gunicorn/workers/ggevent.py:65: MonkeyPatchWarning: Monkey-patching ssl after ssl has already been imported may lead to errors, including RecursionError on Python 3.6. It may also silently lead to incorrect behaviour on Python 3.7. Please monkey-patch earlier. See https://github.com/gevent/gevent/issues/1016. Modules that had direct imports (NOT patched): ['urllib3.util (/opt/amazon/lib/python3.7/site-packages/urllib3/util/__init__.py)', 'urllib3.util.ssl_ (/opt/amazon/lib/python3.7/site-packages/urllib3/util/ssl_.py)']. \n",
      "  monkey.patch_all(subprocess=True)\u001b[0m\n",
      "\u001b[34m[2021-06-30:15:10:05:INFO] Model loaded successfully for worker : 23\u001b[0m\n",
      "\u001b[34m/opt/amazon/lib/python3.7/site-packages/gunicorn/workers/ggevent.py:65: MonkeyPatchWarning: Monkey-patching ssl after ssl has already been imported may lead to errors, including RecursionError on Python 3.6. It may also silently lead to incorrect behaviour on Python 3.7. Please monkey-patch earlier. See https://github.com/gevent/gevent/issues/1016. Modules that had direct imports (NOT patched): ['urllib3.util (/opt/amazon/lib/python3.7/site-packages/urllib3/util/__init__.py)', 'urllib3.util.ssl_ (/opt/amazon/lib/python3.7/site-packages/urllib3/util/ssl_.py)']. \n",
      "  monkey.patch_all(subprocess=True)\u001b[0m\n",
      "\u001b[34m[2021-06-30:15:10:05:INFO] Model loaded successfully for worker : 24\u001b[0m\n",
      "\u001b[34m[2021-06-30:15:10:10:INFO] Sniff delimiter as ','\u001b[0m\n",
      "\u001b[34m[2021-06-30:15:10:10:INFO] Determined delimiter of CSV input is ','\u001b[0m\n",
      "\u001b[35m[2021-06-30:15:10:10:INFO] Sniff delimiter as ','\u001b[0m\n",
      "\u001b[35m[2021-06-30:15:10:10:INFO] Determined delimiter of CSV input is ','\u001b[0m\n",
      "\u001b[34m[2021-06-30:15:10:10:INFO] Sniff delimiter as ','\u001b[0m\n",
      "\u001b[34m[2021-06-30:15:10:10:INFO] Determined delimiter of CSV input is ','\u001b[0m\n",
      "\u001b[34m[2021-06-30:15:10:11:INFO] Sniff delimiter as ','\u001b[0m\n",
      "\u001b[34m[2021-06-30:15:10:11:INFO] Determined delimiter of CSV input is ','\u001b[0m\n",
      "\u001b[35m[2021-06-30:15:10:10:INFO] Sniff delimiter as ','\u001b[0m\n",
      "\u001b[35m[2021-06-30:15:10:10:INFO] Determined delimiter of CSV input is ','\u001b[0m\n",
      "\u001b[35m[2021-06-30:15:10:11:INFO] Sniff delimiter as ','\u001b[0m\n",
      "\u001b[35m[2021-06-30:15:10:11:INFO] Determined delimiter of CSV input is ','\u001b[0m\n",
      "\u001b[32m2021-06-30T15:10:08.703:[sagemaker logs]: MaxConcurrentTransforms=4, MaxPayloadInMB=6, BatchStrategy=MULTI_RECORD\u001b[0m\n",
      "\u001b[34m[2021-06-30:15:10:11:INFO] Sniff delimiter as ','\u001b[0m\n",
      "\u001b[34m[2021-06-30:15:10:11:INFO] Determined delimiter of CSV input is ','\u001b[0m\n",
      "\u001b[35m[2021-06-30:15:10:11:INFO] Sniff delimiter as ','\u001b[0m\n",
      "\u001b[35m[2021-06-30:15:10:11:INFO] Determined delimiter of CSV input is ','\u001b[0m\n",
      "\u001b[34m[2021-06-30:15:10:14:INFO] Sniff delimiter as ','\u001b[0m\n",
      "\u001b[34m[2021-06-30:15:10:14:INFO] Determined delimiter of CSV input is ','\u001b[0m\n",
      "\u001b[35m[2021-06-30:15:10:14:INFO] Sniff delimiter as ','\u001b[0m\n",
      "\u001b[35m[2021-06-30:15:10:14:INFO] Determined delimiter of CSV input is ','\u001b[0m\n",
      "\u001b[34m[2021-06-30:15:10:14:INFO] Sniff delimiter as ','\u001b[0m\n",
      "\u001b[34m[2021-06-30:15:10:14:INFO] Determined delimiter of CSV input is ','\u001b[0m\n",
      "\u001b[34m[2021-06-30:15:10:15:INFO] Sniff delimiter as ','\u001b[0m\n",
      "\u001b[35m[2021-06-30:15:10:14:INFO] Sniff delimiter as ','\u001b[0m\n",
      "\u001b[35m[2021-06-30:15:10:14:INFO] Determined delimiter of CSV input is ','\u001b[0m\n",
      "\u001b[35m[2021-06-30:15:10:15:INFO] Sniff delimiter as ','\u001b[0m\n",
      "\u001b[34m[2021-06-30:15:10:15:INFO] Determined delimiter of CSV input is ','\u001b[0m\n",
      "\u001b[35m[2021-06-30:15:10:15:INFO] Determined delimiter of CSV input is ','\u001b[0m\n",
      "\u001b[34m[2021-06-30:15:10:15:INFO] Sniff delimiter as ','\u001b[0m\n",
      "\u001b[34m[2021-06-30:15:10:15:INFO] Determined delimiter of CSV input is ','\u001b[0m\n",
      "\u001b[35m[2021-06-30:15:10:15:INFO] Sniff delimiter as ','\u001b[0m\n",
      "\u001b[35m[2021-06-30:15:10:15:INFO] Determined delimiter of CSV input is ','\u001b[0m\n",
      "\u001b[34m[2021-06-30:15:10:18:INFO] Sniff delimiter as ','\u001b[0m\n",
      "\u001b[34m[2021-06-30:15:10:18:INFO] Determined delimiter of CSV input is ','\u001b[0m\n",
      "\u001b[35m[2021-06-30:15:10:18:INFO] Sniff delimiter as ','\u001b[0m\n",
      "\u001b[35m[2021-06-30:15:10:18:INFO] Determined delimiter of CSV input is ','\u001b[0m\n",
      "\u001b[34m[2021-06-30:15:10:18:INFO] Sniff delimiter as ','\u001b[0m\n",
      "\u001b[35m[2021-06-30:15:10:18:INFO] Sniff delimiter as ','\u001b[0m\n",
      "\u001b[34m[2021-06-30:15:10:18:INFO] Determined delimiter of CSV input is ','\u001b[0m\n",
      "\u001b[34m[2021-06-30:15:10:19:INFO] Sniff delimiter as ','\u001b[0m\n",
      "\u001b[34m[2021-06-30:15:10:19:INFO] Determined delimiter of CSV input is ','\u001b[0m\n",
      "\u001b[35m[2021-06-30:15:10:18:INFO] Determined delimiter of CSV input is ','\u001b[0m\n",
      "\u001b[35m[2021-06-30:15:10:19:INFO] Sniff delimiter as ','\u001b[0m\n",
      "\u001b[35m[2021-06-30:15:10:19:INFO] Determined delimiter of CSV input is ','\u001b[0m\n",
      "\u001b[34m[2021-06-30:15:10:19:INFO] Sniff delimiter as ','\u001b[0m\n",
      "\u001b[34m[2021-06-30:15:10:19:INFO] Determined delimiter of CSV input is ','\u001b[0m\n",
      "\u001b[35m[2021-06-30:15:10:19:INFO] Sniff delimiter as ','\u001b[0m\n",
      "\u001b[35m[2021-06-30:15:10:19:INFO] Determined delimiter of CSV input is ','\u001b[0m\n",
      "\u001b[34m[2021-06-30:15:10:22:INFO] Sniff delimiter as ','\u001b[0m\n",
      "\u001b[34m[2021-06-30:15:10:22:INFO] Determined delimiter of CSV input is ','\u001b[0m\n",
      "\u001b[35m[2021-06-30:15:10:22:INFO] Sniff delimiter as ','\u001b[0m\n",
      "\u001b[35m[2021-06-30:15:10:22:INFO] Determined delimiter of CSV input is ','\u001b[0m\n",
      "\u001b[34m[2021-06-30:15:10:23:INFO] Sniff delimiter as ','\u001b[0m\n",
      "\u001b[34m[2021-06-30:15:10:23:INFO] Determined delimiter of CSV input is ','\u001b[0m\n",
      "\u001b[34m[2021-06-30:15:10:23:INFO] Sniff delimiter as ','\u001b[0m\n",
      "\u001b[34m[2021-06-30:15:10:23:INFO] Determined delimiter of CSV input is ','\u001b[0m\n",
      "\u001b[35m[2021-06-30:15:10:23:INFO] Sniff delimiter as ','\u001b[0m\n",
      "\u001b[35m[2021-06-30:15:10:23:INFO] Determined delimiter of CSV input is ','\u001b[0m\n",
      "\u001b[35m[2021-06-30:15:10:23:INFO] Sniff delimiter as ','\u001b[0m\n",
      "\u001b[35m[2021-06-30:15:10:23:INFO] Determined delimiter of CSV input is ','\u001b[0m\n",
      "\u001b[34m[2021-06-30:15:10:26:INFO] Sniff delimiter as ','\u001b[0m\n",
      "\u001b[34m[2021-06-30:15:10:26:INFO] Determined delimiter of CSV input is ','\u001b[0m\n",
      "\u001b[34m[2021-06-30:15:10:26:INFO] Sniff delimiter as ','\u001b[0m\n",
      "\u001b[34m[2021-06-30:15:10:26:INFO] Determined delimiter of CSV input is ','\u001b[0m\n",
      "\u001b[35m[2021-06-30:15:10:26:INFO] Sniff delimiter as ','\u001b[0m\n",
      "\u001b[35m[2021-06-30:15:10:26:INFO] Determined delimiter of CSV input is ','\u001b[0m\n",
      "\u001b[35m[2021-06-30:15:10:26:INFO] Sniff delimiter as ','\u001b[0m\n",
      "\u001b[35m[2021-06-30:15:10:26:INFO] Determined delimiter of CSV input is ','\u001b[0m\n",
      "\u001b[34m[2021-06-30:15:10:27:INFO] Sniff delimiter as ','\u001b[0m\n",
      "\u001b[34m[2021-06-30:15:10:27:INFO] Determined delimiter of CSV input is ','\u001b[0m\n",
      "\u001b[34m[2021-06-30:15:10:27:INFO] Sniff delimiter as ','\u001b[0m\n",
      "\u001b[34m[2021-06-30:15:10:27:INFO] Determined delimiter of CSV input is ','\u001b[0m\n",
      "\u001b[35m[2021-06-30:15:10:27:INFO] Sniff delimiter as ','\u001b[0m\n",
      "\u001b[35m[2021-06-30:15:10:27:INFO] Determined delimiter of CSV input is ','\u001b[0m\n",
      "\u001b[35m[2021-06-30:15:10:27:INFO] Sniff delimiter as ','\u001b[0m\n",
      "\u001b[35m[2021-06-30:15:10:27:INFO] Determined delimiter of CSV input is ','\u001b[0m\n",
      "\u001b[34m[2021-06-30:15:10:30:INFO] Sniff delimiter as ','\u001b[0m\n",
      "\u001b[34m[2021-06-30:15:10:30:INFO] Determined delimiter of CSV input is ','\u001b[0m\n",
      "\u001b[34m[2021-06-30:15:10:30:INFO] Sniff delimiter as ','\u001b[0m\n",
      "\u001b[34m[2021-06-30:15:10:30:INFO] Determined delimiter of CSV input is ','\u001b[0m\n",
      "\u001b[35m[2021-06-30:15:10:30:INFO] Sniff delimiter as ','\u001b[0m\n",
      "\u001b[35m[2021-06-30:15:10:30:INFO] Determined delimiter of CSV input is ','\u001b[0m\n",
      "\u001b[35m[2021-06-30:15:10:30:INFO] Sniff delimiter as ','\u001b[0m\n",
      "\u001b[35m[2021-06-30:15:10:30:INFO] Determined delimiter of CSV input is ','\u001b[0m\n",
      "\u001b[34m[2021-06-30:15:10:31:INFO] Sniff delimiter as ','\u001b[0m\n",
      "\u001b[34m[2021-06-30:15:10:31:INFO] Determined delimiter of CSV input is ','\u001b[0m\n",
      "\u001b[35m[2021-06-30:15:10:31:INFO] Sniff delimiter as ','\u001b[0m\n",
      "\u001b[35m[2021-06-30:15:10:31:INFO] Determined delimiter of CSV input is ','\u001b[0m\n",
      "\u001b[34m[2021-06-30:15:10:31:INFO] Sniff delimiter as ','\u001b[0m\n",
      "\u001b[34m[2021-06-30:15:10:31:INFO] Determined delimiter of CSV input is ','\u001b[0m\n",
      "\u001b[35m[2021-06-30:15:10:31:INFO] Sniff delimiter as ','\u001b[0m\n",
      "\u001b[35m[2021-06-30:15:10:31:INFO] Determined delimiter of CSV input is ','\u001b[0m\n"
     ]
    },
    {
     "name": "stdout",
     "output_type": "stream",
     "text": [
      "\u001b[34m[2021-06-30:15:10:34:INFO] Sniff delimiter as ','\u001b[0m\n",
      "\u001b[34m[2021-06-30:15:10:34:INFO] Determined delimiter of CSV input is ','\u001b[0m\n",
      "\u001b[35m[2021-06-30:15:10:34:INFO] Sniff delimiter as ','\u001b[0m\n",
      "\u001b[35m[2021-06-30:15:10:34:INFO] Determined delimiter of CSV input is ','\u001b[0m\n",
      "\u001b[34m[2021-06-30:15:10:34:INFO] Sniff delimiter as ','\u001b[0m\n",
      "\u001b[34m[2021-06-30:15:10:34:INFO] Determined delimiter of CSV input is ','\u001b[0m\n",
      "\u001b[34m[2021-06-30:15:10:35:INFO] Sniff delimiter as ','\u001b[0m\n",
      "\u001b[35m[2021-06-30:15:10:34:INFO] Sniff delimiter as ','\u001b[0m\n",
      "\u001b[35m[2021-06-30:15:10:34:INFO] Determined delimiter of CSV input is ','\u001b[0m\n",
      "\u001b[35m[2021-06-30:15:10:35:INFO] Sniff delimiter as ','\u001b[0m\n",
      "\u001b[34m[2021-06-30:15:10:35:INFO] Determined delimiter of CSV input is ','\u001b[0m\n",
      "\u001b[35m[2021-06-30:15:10:35:INFO] Determined delimiter of CSV input is ','\u001b[0m\n",
      "\u001b[34m[2021-06-30:15:10:37:INFO] Sniff delimiter as ','\u001b[0m\n",
      "\u001b[34m[2021-06-30:15:10:37:INFO] Determined delimiter of CSV input is ','\u001b[0m\n",
      "\u001b[34m[2021-06-30:15:10:38:INFO] Sniff delimiter as ','\u001b[0m\n",
      "\u001b[34m[2021-06-30:15:10:38:INFO] Determined delimiter of CSV input is ','\u001b[0m\n",
      "\u001b[34m[2021-06-30:15:10:38:INFO] Sniff delimiter as ','\u001b[0m\n",
      "\u001b[34m[2021-06-30:15:10:38:INFO] Determined delimiter of CSV input is ','\u001b[0m\n",
      "\u001b[35m[2021-06-30:15:10:37:INFO] Sniff delimiter as ','\u001b[0m\n",
      "\u001b[35m[2021-06-30:15:10:37:INFO] Determined delimiter of CSV input is ','\u001b[0m\n",
      "\u001b[35m[2021-06-30:15:10:38:INFO] Sniff delimiter as ','\u001b[0m\n",
      "\u001b[35m[2021-06-30:15:10:38:INFO] Determined delimiter of CSV input is ','\u001b[0m\n",
      "\u001b[35m[2021-06-30:15:10:38:INFO] Sniff delimiter as ','\u001b[0m\n",
      "\u001b[35m[2021-06-30:15:10:38:INFO] Determined delimiter of CSV input is ','\u001b[0m\n",
      "\u001b[34m[2021-06-30:15:10:38:INFO] Sniff delimiter as ','\u001b[0m\n",
      "\u001b[34m[2021-06-30:15:10:38:INFO] Determined delimiter of CSV input is ','\u001b[0m\n",
      "\u001b[35m[2021-06-30:15:10:38:INFO] Sniff delimiter as ','\u001b[0m\n",
      "\u001b[35m[2021-06-30:15:10:38:INFO] Determined delimiter of CSV input is ','\u001b[0m\n",
      "\u001b[34m[2021-06-30:15:10:41:INFO] Sniff delimiter as ','\u001b[0m\n",
      "\u001b[34m[2021-06-30:15:10:41:INFO] Determined delimiter of CSV input is ','\u001b[0m\n",
      "\u001b[35m[2021-06-30:15:10:41:INFO] Sniff delimiter as ','\u001b[0m\n",
      "\u001b[35m[2021-06-30:15:10:41:INFO] Determined delimiter of CSV input is ','\u001b[0m\n",
      "\u001b[34m[2021-06-30:15:10:41:INFO] Sniff delimiter as ','\u001b[0m\n",
      "\u001b[34m[2021-06-30:15:10:41:INFO] Determined delimiter of CSV input is ','\u001b[0m\n",
      "\u001b[34m[2021-06-30:15:10:42:INFO] Sniff delimiter as ','\u001b[0m\n",
      "\u001b[34m[2021-06-30:15:10:42:INFO] Determined delimiter of CSV input is ','\u001b[0m\n",
      "\u001b[34m[2021-06-30:15:10:42:INFO] Sniff delimiter as ','\u001b[0m\n",
      "\u001b[34m[2021-06-30:15:10:42:INFO] Determined delimiter of CSV input is ','\u001b[0m\n",
      "\u001b[35m[2021-06-30:15:10:41:INFO] Sniff delimiter as ','\u001b[0m\n",
      "\u001b[35m[2021-06-30:15:10:41:INFO] Determined delimiter of CSV input is ','\u001b[0m\n",
      "\u001b[35m[2021-06-30:15:10:42:INFO] Sniff delimiter as ','\u001b[0m\n",
      "\u001b[35m[2021-06-30:15:10:42:INFO] Determined delimiter of CSV input is ','\u001b[0m\n",
      "\u001b[35m[2021-06-30:15:10:42:INFO] Sniff delimiter as ','\u001b[0m\n",
      "\u001b[35m[2021-06-30:15:10:42:INFO] Determined delimiter of CSV input is ','\u001b[0m\n",
      "\u001b[34m[2021-06-30:15:10:46:INFO] Sniff delimiter as ','\u001b[0m\n",
      "\u001b[34m[2021-06-30:15:10:46:INFO] Determined delimiter of CSV input is ','\u001b[0m\n",
      "\u001b[35m[2021-06-30:15:10:46:INFO] Sniff delimiter as ','\u001b[0m\n",
      "\u001b[35m[2021-06-30:15:10:46:INFO] Determined delimiter of CSV input is ','\u001b[0m\n",
      "\n"
     ]
    }
   ],
   "source": [
    "xgb_transformer.wait()"
   ]
  },
  {
   "cell_type": "markdown",
   "metadata": {},
   "source": [
    "Now the transform job has executed and the result, the estimated sentiment of each review, has been saved on S3. Since we would rather work on this file locally we can perform a bit of notebook magic to copy the file to the `data_dir`."
   ]
  },
  {
   "cell_type": "code",
   "execution_count": 28,
   "metadata": {},
   "outputs": [
    {
     "name": "stdout",
     "output_type": "stream",
     "text": [
      "download: s3://sagemaker-us-east-1-608850729155/xgboost-2021-06-30-15-04-01-173/test.csv.out to ../data/sentiment_web_app/test.csv.out\n"
     ]
    }
   ],
   "source": [
    "!aws s3 cp --recursive $xgb_transformer.output_path $data_dir"
   ]
  },
  {
   "cell_type": "markdown",
   "metadata": {},
   "source": [
    "The last step is now to read in the output from our model, convert the output to something a little more usable, in this case we want the sentiment to be either `1` (positive) or `0` (negative), and then compare to the ground truth labels."
   ]
  },
  {
   "cell_type": "code",
   "execution_count": 29,
   "metadata": {},
   "outputs": [],
   "source": [
    "predictions = pd.read_csv(os.path.join(data_dir, 'test.csv.out'), header=None)\n",
    "predictions = [round(num) for num in predictions.squeeze().values]"
   ]
  },
  {
   "cell_type": "code",
   "execution_count": 30,
   "metadata": {},
   "outputs": [
    {
     "data": {
      "text/plain": [
       "0.8618"
      ]
     },
     "execution_count": 30,
     "metadata": {},
     "output_type": "execute_result"
    }
   ],
   "source": [
    "from sklearn.metrics import accuracy_score\n",
    "accuracy_score(test_y, predictions)"
   ]
  },
  {
   "cell_type": "markdown",
   "metadata": {},
   "source": [
    "## Step 6: Deploying the model\n",
    "\n",
    "Once we construct and fit our model, SageMaker stores the resulting model artifacts and we can use those to deploy an endpoint (inference code). To see this, look in the SageMaker console and you should see that a model has been created along with a link to the S3 location where the model artifacts have been stored.\n",
    "\n",
    "Deploying an endpoint is a lot like training the model with a few important differences. The first is that a deployed model doesn't change the model artifacts, so as you send it various testing instances the model won't change. Another difference is that since we aren't performing a fixed computation, as we were in the training step or while performing a batch transform, the compute instance that gets started stays running until we tell it to stop. This is important to note as if we forget and leave it running we will be charged the entire time.\n",
    "\n",
    "In other words **If you are no longer using a deployed endpoint, shut it down!**"
   ]
  },
  {
   "cell_type": "code",
   "execution_count": 32,
   "metadata": {
    "scrolled": true
   },
   "outputs": [
    {
     "name": "stderr",
     "output_type": "stream",
     "text": [
      "Parameter image will be renamed to image_uri in SageMaker Python SDK v2.\n",
      "Using already existing model: xgboost-2021-06-30-14-55-12-457\n"
     ]
    },
    {
     "ename": "ClientError",
     "evalue": "An error occurred (ValidationException) when calling the CreateEndpoint operation: Cannot create already existing endpoint \"arn:aws:sagemaker:us-east-1:608850729155:endpoint/xgboost-2021-06-30-14-55-12-457\".",
     "output_type": "error",
     "traceback": [
      "\u001b[0;31m---------------------------------------------------------------------------\u001b[0m",
      "\u001b[0;31mClientError\u001b[0m                               Traceback (most recent call last)",
      "\u001b[0;32m<ipython-input-32-ccb632c8fb45>\u001b[0m in \u001b[0;36m<module>\u001b[0;34m\u001b[0m\n\u001b[0;32m----> 1\u001b[0;31m \u001b[0mxgb_predictor\u001b[0m \u001b[0;34m=\u001b[0m \u001b[0mxgb\u001b[0m\u001b[0;34m.\u001b[0m\u001b[0mdeploy\u001b[0m\u001b[0;34m(\u001b[0m\u001b[0minitial_instance_count\u001b[0m \u001b[0;34m=\u001b[0m \u001b[0;36m1\u001b[0m\u001b[0;34m,\u001b[0m \u001b[0minstance_type\u001b[0m \u001b[0;34m=\u001b[0m \u001b[0;34m'ml.m4.xlarge'\u001b[0m\u001b[0;34m)\u001b[0m\u001b[0;34m\u001b[0m\u001b[0;34m\u001b[0m\u001b[0m\n\u001b[0m",
      "\u001b[0;32m~/anaconda3/envs/python3/lib/python3.6/site-packages/sagemaker/estimator.py\u001b[0m in \u001b[0;36mdeploy\u001b[0;34m(self, initial_instance_count, instance_type, accelerator_type, endpoint_name, use_compiled_model, update_endpoint, wait, model_name, kms_key, data_capture_config, tags, **kwargs)\u001b[0m\n\u001b[1;32m    743\u001b[0m             \u001b[0mwait\u001b[0m\u001b[0;34m=\u001b[0m\u001b[0mwait\u001b[0m\u001b[0;34m,\u001b[0m\u001b[0;34m\u001b[0m\u001b[0;34m\u001b[0m\u001b[0m\n\u001b[1;32m    744\u001b[0m             \u001b[0mkms_key\u001b[0m\u001b[0;34m=\u001b[0m\u001b[0mkms_key\u001b[0m\u001b[0;34m,\u001b[0m\u001b[0;34m\u001b[0m\u001b[0;34m\u001b[0m\u001b[0m\n\u001b[0;32m--> 745\u001b[0;31m             \u001b[0mdata_capture_config\u001b[0m\u001b[0;34m=\u001b[0m\u001b[0mdata_capture_config\u001b[0m\u001b[0;34m,\u001b[0m\u001b[0;34m\u001b[0m\u001b[0;34m\u001b[0m\u001b[0m\n\u001b[0m\u001b[1;32m    746\u001b[0m         )\n\u001b[1;32m    747\u001b[0m \u001b[0;34m\u001b[0m\u001b[0m\n",
      "\u001b[0;32m~/anaconda3/envs/python3/lib/python3.6/site-packages/sagemaker/model.py\u001b[0m in \u001b[0;36mdeploy\u001b[0;34m(self, initial_instance_count, instance_type, accelerator_type, endpoint_name, update_endpoint, tags, kms_key, wait, data_capture_config)\u001b[0m\n\u001b[1;32m    577\u001b[0m                 \u001b[0mkms_key\u001b[0m\u001b[0;34m=\u001b[0m\u001b[0mkms_key\u001b[0m\u001b[0;34m,\u001b[0m\u001b[0;34m\u001b[0m\u001b[0;34m\u001b[0m\u001b[0m\n\u001b[1;32m    578\u001b[0m                 \u001b[0mwait\u001b[0m\u001b[0;34m=\u001b[0m\u001b[0mwait\u001b[0m\u001b[0;34m,\u001b[0m\u001b[0;34m\u001b[0m\u001b[0;34m\u001b[0m\u001b[0m\n\u001b[0;32m--> 579\u001b[0;31m                 \u001b[0mdata_capture_config_dict\u001b[0m\u001b[0;34m=\u001b[0m\u001b[0mdata_capture_config_dict\u001b[0m\u001b[0;34m,\u001b[0m\u001b[0;34m\u001b[0m\u001b[0;34m\u001b[0m\u001b[0m\n\u001b[0m\u001b[1;32m    580\u001b[0m             )\n\u001b[1;32m    581\u001b[0m \u001b[0;34m\u001b[0m\u001b[0m\n",
      "\u001b[0;32m~/anaconda3/envs/python3/lib/python3.6/site-packages/sagemaker/session.py\u001b[0m in \u001b[0;36mendpoint_from_production_variants\u001b[0;34m(self, name, production_variants, tags, kms_key, wait, data_capture_config_dict)\u001b[0m\n\u001b[1;32m   2903\u001b[0m \u001b[0;34m\u001b[0m\u001b[0m\n\u001b[1;32m   2904\u001b[0m             \u001b[0mself\u001b[0m\u001b[0;34m.\u001b[0m\u001b[0msagemaker_client\u001b[0m\u001b[0;34m.\u001b[0m\u001b[0mcreate_endpoint_config\u001b[0m\u001b[0;34m(\u001b[0m\u001b[0;34m**\u001b[0m\u001b[0mconfig_options\u001b[0m\u001b[0;34m)\u001b[0m\u001b[0;34m\u001b[0m\u001b[0;34m\u001b[0m\u001b[0m\n\u001b[0;32m-> 2905\u001b[0;31m         \u001b[0;32mreturn\u001b[0m \u001b[0mself\u001b[0m\u001b[0;34m.\u001b[0m\u001b[0mcreate_endpoint\u001b[0m\u001b[0;34m(\u001b[0m\u001b[0mendpoint_name\u001b[0m\u001b[0;34m=\u001b[0m\u001b[0mname\u001b[0m\u001b[0;34m,\u001b[0m \u001b[0mconfig_name\u001b[0m\u001b[0;34m=\u001b[0m\u001b[0mname\u001b[0m\u001b[0;34m,\u001b[0m \u001b[0mtags\u001b[0m\u001b[0;34m=\u001b[0m\u001b[0mtags\u001b[0m\u001b[0;34m,\u001b[0m \u001b[0mwait\u001b[0m\u001b[0;34m=\u001b[0m\u001b[0mwait\u001b[0m\u001b[0;34m)\u001b[0m\u001b[0;34m\u001b[0m\u001b[0;34m\u001b[0m\u001b[0m\n\u001b[0m\u001b[1;32m   2906\u001b[0m \u001b[0;34m\u001b[0m\u001b[0m\n\u001b[1;32m   2907\u001b[0m     \u001b[0;32mdef\u001b[0m \u001b[0mexpand_role\u001b[0m\u001b[0;34m(\u001b[0m\u001b[0mself\u001b[0m\u001b[0;34m,\u001b[0m \u001b[0mrole\u001b[0m\u001b[0;34m)\u001b[0m\u001b[0;34m:\u001b[0m\u001b[0;34m\u001b[0m\u001b[0;34m\u001b[0m\u001b[0m\n",
      "\u001b[0;32m~/anaconda3/envs/python3/lib/python3.6/site-packages/sagemaker/session.py\u001b[0m in \u001b[0;36mcreate_endpoint\u001b[0;34m(self, endpoint_name, config_name, tags, wait)\u001b[0m\n\u001b[1;32m   2420\u001b[0m \u001b[0;34m\u001b[0m\u001b[0m\n\u001b[1;32m   2421\u001b[0m         self.sagemaker_client.create_endpoint(\n\u001b[0;32m-> 2422\u001b[0;31m             \u001b[0mEndpointName\u001b[0m\u001b[0;34m=\u001b[0m\u001b[0mendpoint_name\u001b[0m\u001b[0;34m,\u001b[0m \u001b[0mEndpointConfigName\u001b[0m\u001b[0;34m=\u001b[0m\u001b[0mconfig_name\u001b[0m\u001b[0;34m,\u001b[0m \u001b[0mTags\u001b[0m\u001b[0;34m=\u001b[0m\u001b[0mtags\u001b[0m\u001b[0;34m\u001b[0m\u001b[0;34m\u001b[0m\u001b[0m\n\u001b[0m\u001b[1;32m   2423\u001b[0m         )\n\u001b[1;32m   2424\u001b[0m         \u001b[0;32mif\u001b[0m \u001b[0mwait\u001b[0m\u001b[0;34m:\u001b[0m\u001b[0;34m\u001b[0m\u001b[0;34m\u001b[0m\u001b[0m\n",
      "\u001b[0;32m~/anaconda3/envs/python3/lib/python3.6/site-packages/botocore/client.py\u001b[0m in \u001b[0;36m_api_call\u001b[0;34m(self, *args, **kwargs)\u001b[0m\n\u001b[1;32m    384\u001b[0m                     \"%s() only accepts keyword arguments.\" % py_operation_name)\n\u001b[1;32m    385\u001b[0m             \u001b[0;31m# The \"self\" in this scope is referring to the BaseClient.\u001b[0m\u001b[0;34m\u001b[0m\u001b[0;34m\u001b[0m\u001b[0;34m\u001b[0m\u001b[0m\n\u001b[0;32m--> 386\u001b[0;31m             \u001b[0;32mreturn\u001b[0m \u001b[0mself\u001b[0m\u001b[0;34m.\u001b[0m\u001b[0m_make_api_call\u001b[0m\u001b[0;34m(\u001b[0m\u001b[0moperation_name\u001b[0m\u001b[0;34m,\u001b[0m \u001b[0mkwargs\u001b[0m\u001b[0;34m)\u001b[0m\u001b[0;34m\u001b[0m\u001b[0;34m\u001b[0m\u001b[0m\n\u001b[0m\u001b[1;32m    387\u001b[0m \u001b[0;34m\u001b[0m\u001b[0m\n\u001b[1;32m    388\u001b[0m         \u001b[0m_api_call\u001b[0m\u001b[0;34m.\u001b[0m\u001b[0m__name__\u001b[0m \u001b[0;34m=\u001b[0m \u001b[0mstr\u001b[0m\u001b[0;34m(\u001b[0m\u001b[0mpy_operation_name\u001b[0m\u001b[0;34m)\u001b[0m\u001b[0;34m\u001b[0m\u001b[0;34m\u001b[0m\u001b[0m\n",
      "\u001b[0;32m~/anaconda3/envs/python3/lib/python3.6/site-packages/botocore/client.py\u001b[0m in \u001b[0;36m_make_api_call\u001b[0;34m(self, operation_name, api_params)\u001b[0m\n\u001b[1;32m    703\u001b[0m             \u001b[0merror_code\u001b[0m \u001b[0;34m=\u001b[0m \u001b[0mparsed_response\u001b[0m\u001b[0;34m.\u001b[0m\u001b[0mget\u001b[0m\u001b[0;34m(\u001b[0m\u001b[0;34m\"Error\"\u001b[0m\u001b[0;34m,\u001b[0m \u001b[0;34m{\u001b[0m\u001b[0;34m}\u001b[0m\u001b[0;34m)\u001b[0m\u001b[0;34m.\u001b[0m\u001b[0mget\u001b[0m\u001b[0;34m(\u001b[0m\u001b[0;34m\"Code\"\u001b[0m\u001b[0;34m)\u001b[0m\u001b[0;34m\u001b[0m\u001b[0;34m\u001b[0m\u001b[0m\n\u001b[1;32m    704\u001b[0m             \u001b[0merror_class\u001b[0m \u001b[0;34m=\u001b[0m \u001b[0mself\u001b[0m\u001b[0;34m.\u001b[0m\u001b[0mexceptions\u001b[0m\u001b[0;34m.\u001b[0m\u001b[0mfrom_code\u001b[0m\u001b[0;34m(\u001b[0m\u001b[0merror_code\u001b[0m\u001b[0;34m)\u001b[0m\u001b[0;34m\u001b[0m\u001b[0;34m\u001b[0m\u001b[0m\n\u001b[0;32m--> 705\u001b[0;31m             \u001b[0;32mraise\u001b[0m \u001b[0merror_class\u001b[0m\u001b[0;34m(\u001b[0m\u001b[0mparsed_response\u001b[0m\u001b[0;34m,\u001b[0m \u001b[0moperation_name\u001b[0m\u001b[0;34m)\u001b[0m\u001b[0;34m\u001b[0m\u001b[0;34m\u001b[0m\u001b[0m\n\u001b[0m\u001b[1;32m    706\u001b[0m         \u001b[0;32melse\u001b[0m\u001b[0;34m:\u001b[0m\u001b[0;34m\u001b[0m\u001b[0;34m\u001b[0m\u001b[0m\n\u001b[1;32m    707\u001b[0m             \u001b[0;32mreturn\u001b[0m \u001b[0mparsed_response\u001b[0m\u001b[0;34m\u001b[0m\u001b[0;34m\u001b[0m\u001b[0m\n",
      "\u001b[0;31mClientError\u001b[0m: An error occurred (ValidationException) when calling the CreateEndpoint operation: Cannot create already existing endpoint \"arn:aws:sagemaker:us-east-1:608850729155:endpoint/xgboost-2021-06-30-14-55-12-457\"."
     ]
    }
   ],
   "source": [
    "xgb_predictor = xgb.deploy(initial_instance_count = 1, instance_type = 'ml.m4.xlarge')"
   ]
  },
  {
   "cell_type": "markdown",
   "metadata": {},
   "source": [
    "### Testing the model (again)\n",
    "\n",
    "Now that we have deployed our endpoint, we can send the testing data to it and get back the inference results. We already did this earlier using the batch transform functionality of SageMaker, however, we will test our model again using the newly deployed endpoint so that we can make sure that it works properly and to get a bit of a feel for how the endpoint works.\n",
    "\n",
    "When using the created endpoint it is important to know that we are limited in the amount of information we can send in each call so we need to break the testing data up into chunks and then send each chunk. Also, we need to serialize our data before we send it to the endpoint to ensure that our data is transmitted properly. Fortunately, SageMaker can do the serialization part for us provided we tell it the format of our data."
   ]
  },
  {
   "cell_type": "code",
   "execution_count": 33,
   "metadata": {},
   "outputs": [],
   "source": [
    "from sagemaker.predictor import csv_serializer\n",
    "\n",
    "# We need to tell the endpoint what format the data we are sending is in so that SageMaker can perform the serialization.\n",
    "xgb_predictor.content_type = 'text/csv'\n",
    "xgb_predictor.serializer = csv_serializer"
   ]
  },
  {
   "cell_type": "code",
   "execution_count": 34,
   "metadata": {},
   "outputs": [],
   "source": [
    "# We split the data into chunks and send each chunk seperately, accumulating the results.\n",
    "\n",
    "def predict(data, rows=512):\n",
    "    split_array = np.array_split(data, int(data.shape[0] / float(rows) + 1))\n",
    "    predictions = ''\n",
    "    for array in split_array:\n",
    "        predictions = ','.join([predictions, xgb_predictor.predict(array).decode('utf-8')])\n",
    "    \n",
    "    return np.fromstring(predictions[1:], sep=',')"
   ]
  },
  {
   "cell_type": "code",
   "execution_count": 35,
   "metadata": {},
   "outputs": [],
   "source": [
    "test_X = pd.read_csv(os.path.join(data_dir, 'test.csv'), header=None).values\n",
    "\n",
    "predictions = predict(test_X)\n",
    "predictions = [round(num) for num in predictions]"
   ]
  },
  {
   "cell_type": "markdown",
   "metadata": {},
   "source": [
    "Lastly, we check to see what the accuracy of our model is."
   ]
  },
  {
   "cell_type": "code",
   "execution_count": 36,
   "metadata": {},
   "outputs": [
    {
     "data": {
      "text/plain": [
       "0.8618"
      ]
     },
     "execution_count": 36,
     "metadata": {},
     "output_type": "execute_result"
    }
   ],
   "source": [
    "from sklearn.metrics import accuracy_score\n",
    "accuracy_score(test_y, predictions)"
   ]
  },
  {
   "cell_type": "markdown",
   "metadata": {},
   "source": [
    "And the results here should agree with the model testing that we did earlier using the batch transform job.\n",
    "\n",
    "### Cleaning up\n",
    "\n",
    "Now that we've determined that deploying our model works as expected, we are going to shut it down. Remember that the longer the endpoint is left running, the greater the cost and since we have a bit more work to do before we are able to use our endpoint with our simple web app, we should shut everything down."
   ]
  },
  {
   "cell_type": "code",
   "execution_count": 37,
   "metadata": {},
   "outputs": [],
   "source": [
    "xgb_predictor.delete_endpoint()"
   ]
  },
  {
   "cell_type": "markdown",
   "metadata": {},
   "source": [
    "## Step 7: Putting our model to work\n",
    "\n",
    "As we've mentioned a few times now, our goal is to have our model deployed and then access it using a very simple web app. The intent is for this web app to take some user submitted data (a review), send it off to our endpoint (the model) and then display the result.\n",
    "\n",
    "However, there is a small catch. Currently the only way we can access the endpoint to send it data is using the SageMaker API. We can, if we wish, expose the actual URL that our model's endpoint is receiving data from, however, if we just send it data ourselves we will not get anything in return. This is because the endpoint created by SageMaker requires the entity accessing it have the correct permissions. So, we would need to somehow authenticate our web app with AWS.\n",
    "\n",
    "Having a website that authenticates to AWS seems a bit beyond the scope of this lesson so we will opt for an alternative approach. Namely, we will create a new endpoint which does not require authentication and which acts as a proxy for the SageMaker endpoint.\n",
    "\n",
    "As an additional constraint, we will try to avoid doing any data processing in the web app itself. Remember that when we constructed and tested our model we started with a movie review, then we simplified it by removing any html formatting and punctuation, then we constructed a bag of words embedding and the resulting vector is what we sent to our model. All of this needs to be done to our user input as well.\n",
    "\n",
    "Fortunately we can do all of this data processing in the backend, using Amazon's Lambda service.\n",
    "\n",
    "<img src=\"Web App Diagram.svg\">\n",
    "\n",
    "The diagram above gives an overview of how the various services will work together. On the far right is the model which we trained above and which will be deployed using SageMaker. On the far left is our web app that collects a user's movie review, sends it off and expects a positive or negative sentiment in return.\n",
    "\n",
    "In the middle is where some of the magic happens. We will construct a Lambda function, which you can think of as a straightforward Python function that can be executed whenever a specified event occurs. This Python function will do the data processing we need to perform on a user submitted review. In addition, we will give this function permission to send and recieve data from a SageMaker endpoint.\n",
    "\n",
    "Lastly, the method we will use to execute the Lambda function is a new endpoint that we will create using API Gateway. This endpoint will be a url that listens for data to be sent to it. Once it gets some data it will pass that data on to the Lambda function and then return whatever the Lambda function returns. Essentially it will act as an interface that lets our web app communicate with the Lambda function.\n",
    "\n",
    "### Processing a single review\n",
    "\n",
    "For now, suppose we are given a movie review by our user in the form of a string, like so:"
   ]
  },
  {
   "cell_type": "code",
   "execution_count": 38,
   "metadata": {},
   "outputs": [],
   "source": [
    "test_review = \"Nothing but a disgusting materialistic pageant of glistening abed remote control greed zombies, totally devoid of any heart or heat. A romantic comedy that has zero romantic chemestry and zero laughs!\""
   ]
  },
  {
   "cell_type": "markdown",
   "metadata": {},
   "source": [
    "How do we go from this string to the bag of words feature vector that is expected by our model?\n",
    "\n",
    "If we recall at the beginning of this notebook, the first step is to remove any unnecessary characters using the `review_to_words` method. Remember that we intentionally did this in a very simplistic way. This is because we are going to have to copy this method to our (eventual) Lambda function (we will go into more detail later) and this means it needs to be rather simplistic."
   ]
  },
  {
   "cell_type": "code",
   "execution_count": 39,
   "metadata": {},
   "outputs": [
    {
     "name": "stdout",
     "output_type": "stream",
     "text": [
      "nothing but a disgusting materialistic pageant of glistening abed remote control greed zombies totally devoid of any heart or heat a romantic comedy that has zero romantic chemestry and zero laughs\n"
     ]
    }
   ],
   "source": [
    "test_words = review_to_words(test_review)\n",
    "print(test_words)"
   ]
  },
  {
   "cell_type": "markdown",
   "metadata": {},
   "source": [
    "Next, we need to construct a bag of words embedding of the `test_words` string. To do this, remember that a bag of words embedding uses a `vocabulary` consisting of the most frequently appearing words in a set of documents. Then, for each word in the vocabulary we record the number of times that word appears in `test_words`. We constructed the `vocabulary` earlier using the training set for our problem so encoding `test_words` is relatively straightforward."
   ]
  },
  {
   "cell_type": "code",
   "execution_count": 40,
   "metadata": {},
   "outputs": [],
   "source": [
    "def bow_encoding(words, vocabulary):\n",
    "    bow = [0] * len(vocabulary) # Start by setting the count for each word in the vocabulary to zero.\n",
    "    for word in words.split():  # For each word in the string\n",
    "        if word in vocabulary:  # If the word is one that occurs in the vocabulary, increase its count.\n",
    "            bow[vocabulary[word]] += 1\n",
    "    return bow"
   ]
  },
  {
   "cell_type": "code",
   "execution_count": 41,
   "metadata": {},
   "outputs": [
    {
     "name": "stdout",
     "output_type": "stream",
     "text": [
      "[0, 0, 0, 0, 0, 0, 0, 0, 0, 0, 0, 0, 0, 0, 0, 0, 0, 0, 0, 0, 0, 0, 0, 0, 0, 0, 0, 0, 0, 0, 0, 0, 0, 0, 0, 0, 0, 0, 0, 0, 0, 0, 0, 0, 0, 0, 0, 0, 0, 0, 0, 0, 0, 0, 0, 0, 0, 0, 0, 0, 0, 0, 0, 0, 0, 0, 0, 0, 0, 0, 0, 0, 0, 0, 0, 0, 0, 0, 0, 0, 0, 0, 0, 0, 0, 0, 0, 0, 0, 0, 0, 0, 0, 0, 0, 0, 0, 0, 0, 0, 0, 0, 0, 0, 0, 0, 0, 0, 0, 0, 0, 0, 0, 0, 0, 0, 0, 0, 0, 0, 0, 0, 0, 0, 0, 0, 0, 0, 0, 0, 0, 0, 0, 0, 0, 0, 0, 0, 0, 0, 0, 0, 0, 0, 0, 0, 0, 0, 0, 0, 0, 0, 0, 0, 0, 0, 0, 0, 0, 0, 0, 0, 0, 0, 0, 0, 0, 0, 0, 0, 0, 0, 0, 0, 0, 0, 0, 0, 0, 0, 0, 0, 0, 0, 0, 0, 0, 0, 0, 0, 0, 0, 0, 0, 0, 0, 0, 0, 0, 0, 0, 0, 0, 0, 0, 0, 0, 0, 0, 0, 0, 0, 0, 0, 0, 0, 0, 0, 0, 0, 0, 0, 0, 0, 0, 0, 1, 0, 0, 0, 0, 0, 0, 0, 0, 0, 0, 0, 0, 0, 0, 0, 0, 0, 0, 0, 0, 0, 0, 0, 0, 0, 0, 0, 0, 0, 1, 0, 0, 0, 0, 0, 0, 0, 0, 0, 0, 0, 0, 0, 0, 0, 0, 0, 0, 0, 0, 0, 0, 0, 0, 0, 0, 0, 0, 0, 0, 0, 0, 0, 0, 0, 0, 0, 0, 0, 0, 0, 0, 0, 0, 0, 0, 0, 0, 0, 0, 0, 0, 0, 0, 0, 0, 0, 0, 0, 0, 0, 0, 0, 0, 0, 0, 0, 0, 0, 0, 0, 0, 0, 0, 0, 0, 0, 0, 0, 0, 0, 0, 0, 0, 0, 0, 0, 0, 0, 0, 0, 0, 0, 0, 0, 0, 0, 0, 0, 0, 0, 0, 0, 0, 0, 0, 0, 0, 0, 0, 0, 0, 0, 0, 0, 0, 0, 0, 0, 0, 0, 0, 0, 0, 0, 0, 0, 0, 0, 0, 0, 0, 0, 0, 0, 0, 0, 0, 0, 0, 0, 0, 0, 0, 0, 0, 0, 0, 0, 0, 0, 0, 0, 0, 0, 0, 0, 0, 0, 0, 0, 0, 0, 0, 0, 0, 0, 0, 0, 0, 0, 0, 0, 0, 0, 0, 0, 0, 0, 0, 0, 0, 0, 0, 0, 0, 0, 0, 0, 0, 0, 0, 0, 0, 0, 0, 0, 0, 0, 0, 0, 0, 0, 0, 0, 0, 0, 0, 0, 0, 0, 0, 0, 0, 0, 0, 0, 0, 0, 0, 0, 0, 0, 0, 0, 0, 0, 0, 0, 0, 0, 0, 0, 0, 0, 0, 0, 0, 0, 0, 0, 0, 0, 0, 0, 0, 0, 0, 0, 0, 0, 0, 0, 0, 0, 0, 0, 0, 0, 0, 0, 0, 0, 0, 0, 0, 0, 0, 0, 0, 0, 0, 0, 0, 0, 0, 0, 0, 0, 0, 0, 0, 0, 0, 0, 0, 0, 0, 0, 0, 0, 0, 0, 0, 0, 0, 0, 0, 0, 0, 0, 0, 0, 0, 0, 0, 0, 0, 0, 0, 0, 0, 0, 0, 0, 0, 0, 0, 0, 0, 0, 0, 0, 0, 0, 0, 0, 0, 0, 0, 0, 0, 0, 0, 0, 0, 0, 0, 0, 0, 0, 0, 0, 0, 0, 0, 0, 0, 0, 0, 0, 0, 0, 0, 0, 0, 0, 0, 0, 0, 0, 0, 0, 0, 0, 0, 0, 0, 0, 0, 0, 0, 0, 0, 0, 0, 0, 0, 0, 1, 0, 0, 0, 0, 0, 0, 0, 0, 0, 0, 0, 0, 0, 0, 0, 0, 0, 0, 0, 0, 0, 0, 0, 0, 0, 0, 0, 0, 0, 0, 0, 0, 0, 0, 0, 0, 0, 0, 0, 0, 0, 0, 0, 0, 0, 0, 0, 0, 0, 0, 0, 0, 0, 0, 0, 0, 0, 0, 0, 0, 0, 0, 0, 0, 0, 0, 0, 0, 0, 0, 0, 0, 0, 0, 0, 0, 0, 0, 0, 0, 0, 0, 0, 0, 0, 0, 0, 0, 0, 0, 0, 0, 0, 0, 0, 0, 0, 0, 0, 0, 0, 0, 0, 0, 0, 0, 0, 0, 0, 0, 0, 0, 0, 0, 0, 0, 0, 0, 0, 0, 0, 0, 0, 0, 0, 0, 0, 0, 0, 0, 0, 0, 0, 0, 0, 0, 0, 0, 0, 0, 0, 0, 0, 0, 0, 0, 0, 0, 0, 0, 0, 0, 0, 0, 0, 0, 0, 0, 0, 0, 0, 0, 0, 0, 0, 0, 0, 0, 0, 0, 0, 0, 0, 0, 0, 0, 0, 0, 0, 0, 0, 0, 0, 0, 0, 0, 0, 0, 0, 0, 0, 0, 0, 0, 0, 0, 0, 0, 0, 0, 0, 0, 0, 0, 0, 0, 0, 0, 0, 0, 0, 0, 0, 0, 0, 0, 0, 0, 0, 0, 0, 0, 0, 0, 0, 0, 0, 0, 0, 0, 0, 0, 0, 0, 0, 0, 0, 0, 0, 0, 0, 0, 0, 0, 0, 0, 0, 0, 0, 0, 0, 0, 0, 1, 0, 0, 0, 0, 0, 0, 0, 0, 0, 0, 0, 0, 0, 0, 0, 0, 0, 0, 0, 0, 0, 0, 0, 0, 0, 0, 0, 0, 0, 0, 0, 0, 0, 0, 0, 0, 0, 0, 0, 0, 0, 0, 0, 0, 0, 0, 0, 0, 0, 0, 0, 0, 0, 0, 0, 0, 0, 0, 0, 0, 0, 0, 0, 0, 0, 0, 0, 0, 0, 0, 0, 0, 0, 0, 0, 0, 0, 0, 0, 0, 0, 0, 0, 0, 0, 0, 1, 0, 0, 0, 0, 0, 0, 0, 0, 0, 0, 0, 0, 0, 0, 0, 0, 0, 0, 0, 0, 0, 0, 0, 0, 0, 0, 0, 0, 0, 0, 0, 0, 0, 0, 0, 0, 0, 0, 0, 0, 0, 0, 0, 0, 0, 0, 0, 0, 0, 0, 0, 0, 0, 0, 0, 0, 0, 0, 0, 0, 0, 0, 0, 0, 0, 0, 0, 0, 0, 0, 0, 0, 0, 0, 0, 0, 0, 0, 0, 0, 0, 0, 0, 0, 0, 0, 0, 0, 0, 0, 0, 0, 0, 0, 0, 0, 0, 0, 0, 0, 0, 0, 0, 0, 0, 0, 0, 0, 0, 0, 0, 0, 0, 0, 0, 0, 0, 0, 0, 0, 0, 0, 0, 0, 0, 0, 0, 0, 0, 0, 0, 0, 0, 0, 0, 0, 0, 0, 0, 0, 0, 0, 0, 0, 0, 0, 0, 0, 0, 0, 0, 0, 0, 0, 0, 0, 0, 0, 0, 0, 0, 0, 0, 0, 0, 0, 0, 0, 0, 0, 0, 0, 0, 0, 0, 0, 0, 0, 0, 0, 0, 0, 0, 0, 0, 0, 0, 0, 0, 0, 0, 0, 0, 0, 0, 0, 0, 0, 0, 0, 0, 0, 0, 0, 0, 0, 0, 0, 0, 0, 0, 0, 0, 0, 0, 0, 0, 0, 0, 0, 0, 0, 0, 0, 0, 0, 0, 0, 0, 0, 0, 0, 0, 0, 0, 0, 0, 0, 0, 0, 0, 0, 0, 0, 0, 0, 0, 0, 0, 0, 0, 0, 1, 0, 0, 0, 0, 0, 0, 0, 0, 0, 0, 0, 0, 0, 0, 0, 0, 0, 0, 0, 0, 0, 0, 0, 0, 0, 0, 0, 0, 0, 0, 0, 0, 0, 0, 0, 0, 0, 0, 0, 0, 0, 0, 0, 0, 0, 0, 0, 0, 0, 0, 0, 0, 0, 0, 0, 1, 0, 0, 0, 0, 0, 0, 0, 0, 0, 0, 0, 0, 0, 0, 0, 0, 0, 0, 0, 0, 0, 0, 0, 0, 0, 0, 0, 0, 0, 0, 0, 0, 0, 0, 0, 0, 0, 0, 0, 0, 0, 0, 0, 0, 0, 0, 0, 0, 0, 0, 0, 0, 0, 0, 0, 0, 0, 0, 0, 0, 0, 0, 0, 0, 0, 0, 0, 0, 0, 0, 0, 0, 0, 0, 0, 0, 0, 0, 0, 0, 0, 0, 0, 0, 0, 0, 0, 0, 0, 0, 0, 0, 0, 0, 0, 0, 0, 0, 0, 0, 0, 0, 0, 0, 0, 0, 0, 0, 0, 0, 0, 0, 0, 0, 0, 0, 0, 0, 0, 0, 0, 0, 0, 0, 0, 0, 0, 0, 0, 0, 0, 0, 0, 0, 0, 0, 0, 0, 0, 0, 0, 0, 0, 0, 0, 0, 0, 0, 0, 0, 0, 0, 0, 0, 0, 0, 0, 0, 0, 0, 0, 0, 0, 0, 0, 0, 0, 0, 0, 0, 0, 0, 0, 0, 0, 0, 0, 0, 0, 0, 0, 0, 0, 0, 0, 0, 0, 0, 0, 0, 0, 0, 0, 0, 0, 0, 0, 0, 0, 0, 0, 0, 0, 0, 0, 0, 0, 0, 0, 0, 0, 0, 0, 0, 0, 0, 0, 0, 0, 0, 0, 0, 0, 0, 0, 0, 0, 0, 0, 0, 0, 0, 0, 0, 0, 0, 0, 0, 0, 0, 0, 0, 0, 0, 0, 0, 0, 0, 0, 0, 0, 0, 0, 0, 0, 0, 0, 0, 0, 0, 0, 0, 0, 0, 0, 0, 0, 0, 0, 0, 0, 0, 0, 0, 0, 0, 0, 0, 0, 0, 0, 0, 0, 0, 0, 0, 0, 0, 0, 0, 0, 0, 0, 0, 0, 0, 0, 0, 0, 0, 0, 0, 0, 0, 0, 0, 0, 0, 0, 0, 0, 0, 0, 0, 0, 0, 0, 0, 0, 0, 0, 0, 0, 0, 0, 0, 0, 0, 0, 0, 0, 0, 0, 0, 0, 0, 0, 0, 0, 0, 0, 0, 0, 0, 0, 0, 0, 0, 0, 0, 0, 0, 0, 0, 0, 0, 0, 0, 0, 0, 0, 0, 0, 0, 0, 0, 0, 0, 0, 0, 0, 0, 0, 0, 0, 0, 0, 0, 0, 0, 0, 0, 0, 0, 0, 0, 0, 0, 0, 0, 0, 0, 0, 0, 0, 0, 0, 0, 0, 0, 0, 0, 0, 0, 0, 0, 0, 0, 0, 0, 0, 0, 0, 0, 0, 0, 0, 0, 0, 0, 0, 0, 0, 0, 0, 0, 0, 0, 0, 0, 0, 0, 0, 0, 0, 0, 0, 0, 0, 0, 0, 0, 0, 0, 0, 0, 0, 0, 0, 0, 0, 0, 0, 0, 0, 0, 0, 0, 0, 0, 0, 0, 0, 0, 0, 0, 0, 0, 0, 0, 0, 0, 0, 0, 0, 0, 0, 0, 0, 0, 0, 0, 0, 0, 0, 0, 0, 0, 0, 0, 0, 0, 0, 0, 0, 0, 0, 0, 0, 0, 0, 0, 0, 0, 0, 0, 0, 0, 0, 0, 0, 0, 0, 0, 0, 0, 0, 0, 0, 0, 0, 0, 0, 0, 0, 0, 0, 0, 0, 0, 0, 0, 0, 0, 0, 0, 0, 0, 0, 0, 0, 0, 0, 0, 0, 0, 0, 0, 0, 0, 0, 0, 0, 0, 0, 0, 0, 0, 0, 0, 0, 0, 0, 0, 0, 0, 0, 0, 0, 0, 0, 0, 0, 0, 0, 0, 0, 0, 0, 0, 0, 0, 0, 0, 0, 0, 0, 0, 0, 0, 0, 0, 0, 0, 0, 0, 0, 0, 0, 0, 0, 0, 0, 0, 0, 0, 0, 0, 0, 0, 0, 0, 0, 0, 0, 0, 0, 0, 0, 0, 0, 0, 0, 0, 0, 0, 0, 0, 0, 0, 0, 0, 0, 0, 0, 0, 0, 0, 0, 0, 0, 0, 0, 0, 0, 0, 0, 0, 0, 0, 0, 0, 0, 0, 0, 0, 0, 0, 0, 0, 0, 0, 0, 0, 0, 0, 0, 0, 0, 0, 0, 0, 0, 0, 0, 0, 0, 0, 0, 0, 0, 1, 0, 0, 0, 0, 0, 0, 0, 0, 0, 0, 0, 0, 0, 0, 0, 0, 0, 0, 0, 0, 0, 0, 0, 0, 0, 0, 0, 0, 0, 0, 0, 0, 0, 0, 0, 0, 0, 0, 0, 0, 0, 0, 0, 0, 0, 0, 0, 0, 0, 0, 0, 0, 0, 0, 0, 0, 0, 0, 0, 0, 0, 0, 0, 0, 0, 0, 0, 0, 0, 0, 0, 0, 0, 0, 1, 0, 0, 0, 0, 0, 0, 0, 0, 0, 0, 0, 0, 0, 0, 0, 0, 0, 0, 0, 0, 1, 0, 0, 1, 0, 0, 0, 0, 0, 0, 0, 0, 0, 0, 0, 0, 0, 0, 0, 0, 0, 0, 0, 0, 0, 0, 0, 0, 0, 0, 0, 0, 0, 0, 0, 0, 0, 0, 0, 0, 0, 0, 0, 0, 0, 0, 0, 0, 0, 0, 0, 0, 0, 0, 0, 0, 0, 0, 0, 0, 0, 0, 0, 0, 0, 0, 0, 0, 0, 0, 0, 0, 0, 0, 0, 0, 0, 0, 0, 0, 0, 0, 0, 0, 0, 0, 0, 0, 0, 0, 0, 0, 0, 0, 0, 0, 0, 0, 0, 0, 0, 0, 0, 0, 0, 0, 0, 0, 0, 0, 0, 0, 0, 0, 0, 0, 0, 0, 0, 0, 0, 0, 0, 0, 0, 0, 0, 0, 0, 0, 0, 0, 0, 0, 0, 0, 0, 0, 0, 0, 0, 0, 0, 0, 0, 0, 0, 0, 0, 0, 0, 0, 0, 0, 0, 0, 0, 0, 0, 0, 0, 0, 0, 0, 0, 0, 0, 0, 0, 0, 0, 0, 0, 0, 0, 0, 0, 0, 0, 0, 0, 0, 0, 0, 0, 0, 0, 0, 0, 0, 0, 0, 0, 0, 0, 0, 0, 0, 0, 0, 0, 0, 0, 0, 0, 0, 0, 0, 0, 0, 0, 0, 0, 0, 0, 0, 0, 0, 0, 0, 0, 0, 0, 0, 0, 0, 0, 0, 0, 0, 0, 0, 0, 0, 0, 0, 0, 0, 0, 0, 0, 0, 0, 0, 0, 0, 0, 0, 0, 0, 0, 0, 0, 0, 0, 0, 0, 0, 0, 0, 0, 0, 0, 0, 0, 0, 0, 0, 0, 0, 0, 0, 0, 0, 0, 0, 0, 0, 0, 0, 0, 0, 0, 0, 0, 0, 0, 0, 0, 0, 0, 0, 0, 0, 0, 0, 0, 0, 0, 0, 0, 0, 0, 0, 0, 0, 0, 0, 0, 0, 0, 0, 0, 0, 0, 0, 0, 0, 0, 0, 0, 0, 0, 0, 0, 0, 0, 0, 0, 0, 0, 0, 0, 0, 0, 0, 0, 0, 0, 0, 0, 0, 0, 0, 0, 0, 0, 0, 0, 0, 0, 0, 0, 0, 0, 0, 0, 0, 0, 0, 0, 0, 0, 0, 0, 0, 0, 0, 0, 0, 0, 0, 0, 0, 0, 0, 0, 0, 0, 0, 0, 0, 0, 0, 0, 0, 0, 0, 0, 0, 0, 0, 0, 0, 0, 0, 0, 0, 0, 0, 0, 0, 0, 0, 0, 0, 0, 0, 0, 0, 0, 0, 0, 0, 0, 0, 0, 0, 0, 0, 0, 0, 0, 0, 0, 0, 0, 0, 0, 0, 0, 0, 0, 0, 0, 0, 0, 0, 0, 0, 0, 0, 0, 0, 0, 0, 0, 0, 0, 0, 0, 0, 0, 0, 0, 0, 0, 0, 0, 0, 0, 0, 0, 0, 0, 0, 0, 0, 0, 0, 1, 0, 0, 0, 0, 0, 0, 0, 0, 0, 0, 0, 0, 0, 0, 0, 0, 0, 0, 0, 0, 0, 0, 0, 0, 0, 0, 0, 0, 0, 0, 0, 0, 0, 0, 0, 0, 0, 0, 0, 0, 0, 0, 0, 0, 0, 0, 0, 0, 0, 0, 0, 0, 0, 0, 0, 0, 0, 0, 0, 0, 0, 0, 0, 0, 0, 0, 0, 0, 0, 0, 0, 0, 0, 0, 0, 0, 0, 0, 0, 0, 0, 0, 0, 0, 0, 0, 0, 0, 0, 0, 0, 0, 0, 0, 0, 0, 0, 0, 0, 0, 0, 0, 0, 0, 0, 0, 0, 0, 0, 0, 0, 0, 0, 0, 0, 0, 0, 0, 0, 0, 0, 0, 0, 0, 0, 0, 0, 0, 0, 0, 0, 0, 0, 0, 0, 0, 0, 0, 0, 0, 0, 0, 0, 0, 0, 0, 0, 0, 0, 0, 0, 0, 0, 0, 0, 0, 0, 0, 0, 0, 0, 0, 0, 0, 0, 0, 0, 0, 0, 0, 0, 0, 0, 0, 0, 0, 0, 0, 0, 0, 0, 0, 0, 0, 0, 0, 0, 0, 0, 0, 0, 0, 0, 0, 0, 0, 0, 0, 0, 0, 0, 0, 0, 0, 0, 0, 0, 0, 0, 0, 0, 0, 0, 0, 0, 0, 0, 0, 0, 0, 0, 0, 0, 0, 0, 0, 0, 0, 0, 0, 0, 0, 0, 0, 0, 0, 0, 0, 0, 0, 0, 0, 0, 0, 0, 0, 0, 0, 0, 0, 0, 0, 0, 0, 0, 0, 0, 0, 0, 0, 0, 0, 0, 0, 0, 0, 0, 0, 0, 0, 0, 0, 0, 0, 0, 0, 0, 0, 0, 0, 0, 0, 0, 0, 0, 0, 0, 0, 0, 0, 0, 0, 0, 0, 0, 0, 0, 0, 0, 0, 0, 0, 0, 0, 0, 0, 0, 0, 0, 0, 0, 0, 0, 0, 0, 0, 0, 0, 0, 0, 0, 0, 0, 0, 0, 0, 0, 0, 0, 0, 0, 0, 0, 0, 0, 0, 0, 0, 0, 0, 0, 0, 0, 0, 0, 0, 0, 0, 0, 0, 0, 0, 0, 0, 0, 0, 0, 0, 0, 0, 0, 0, 0, 0, 0, 0, 0, 0, 0, 0, 0, 0, 0, 0, 0, 0, 0, 0, 0, 0, 0, 0, 0, 0, 0, 0, 0, 0, 0, 0, 0, 0, 0, 0, 0, 0, 0, 0, 0, 0, 0, 0, 0, 0, 0, 0, 0, 0, 0, 0, 0, 0, 0, 0, 0, 0, 0, 0, 0, 0, 0, 0, 0, 0, 0, 0, 0, 0, 0, 0, 0, 0, 0, 0, 0, 0, 0, 0, 0, 0, 0, 0, 0, 0, 0, 0, 0, 0, 0, 0, 0, 0, 0, 0, 0, 0, 0, 0, 0, 0, 0, 0, 0, 0, 0, 0, 0, 0, 0, 0, 0, 0, 0, 0, 0, 0, 0, 0, 0, 0, 0, 0, 0, 0, 0, 0, 0, 0, 0, 0, 0, 0, 0, 0, 0, 0, 0, 0, 0, 0, 0, 0, 0, 0, 0, 0, 0, 0, 0, 0, 0, 0, 1, 0, 0, 0, 0, 0, 0, 0, 0, 0, 0, 0, 0, 0, 0, 0, 0, 0, 0, 0, 0, 0, 0, 0, 0, 0, 0, 0, 0, 0, 0, 0, 0, 0, 0, 0, 2, 0, 0, 0, 0, 0, 0, 0, 0, 0, 0, 0, 0, 0, 0, 0, 0, 0, 0, 0, 0, 0, 0, 0, 0, 0, 0, 0, 0, 0, 0, 0, 0, 0, 0, 0, 0, 0, 0, 0, 0, 1, 0, 0, 0, 0, 0, 0, 0, 0, 0, 0, 0, 0, 0, 0, 0, 0, 0, 0, 0, 0, 0, 0, 0, 0, 0, 0, 0, 0, 0, 0, 0, 0, 0, 0, 0, 0, 0, 0, 0, 0, 0, 0, 0, 0, 0, 0, 0, 0, 0, 0, 0, 0, 0, 0, 0, 0, 0, 0, 0, 0, 0, 0, 0, 0, 0, 0, 0, 0, 0, 0, 0, 0, 0, 0, 0, 0, 0, 0, 0, 0, 0, 0, 0, 0, 0, 0, 0, 0, 0, 0, 0, 0, 0, 0, 0, 0, 0, 0, 0, 0, 0, 0, 0, 0, 0, 0, 0, 0, 0, 0, 0, 0, 0, 0, 0, 0, 0, 0, 0, 0, 0, 0, 0, 0, 0, 0, 0, 0, 0, 0, 0, 0, 0, 0, 0, 0, 0, 0, 0, 0, 0, 0, 0, 0, 0, 0, 0, 0, 0, 0, 0, 0, 0, 0, 0, 0, 0, 0, 0, 0, 0, 0, 0, 0, 0, 0, 0, 0, 0, 0, 0, 0, 0, 0, 0, 0, 0, 0, 0, 0, 0, 0, 0, 0, 0, 0, 0, 0, 0, 0, 0, 0, 0, 0, 0, 0, 0, 0, 0, 0, 0, 0, 0, 0, 0, 0, 0, 0, 0, 0, 0, 0, 0, 0, 0, 0, 0, 0, 0, 0, 0, 0, 0, 0, 0, 0, 0, 0, 0, 0, 0, 0, 0, 0, 0, 0, 0, 0, 0, 0, 0, 0, 0, 0, 0, 0, 0, 0, 0, 0, 0, 0, 0, 0, 0, 0, 0, 0, 0, 0, 0, 0, 0, 0, 0, 0, 0, 0, 0, 0, 0, 0, 0, 0, 0, 0, 0, 0, 0, 0, 0, 0, 0, 0, 0, 0, 0, 0, 0, 0, 0, 0, 0, 0, 0, 0, 0, 0, 0, 0, 0, 0, 0, 0, 0, 0, 0, 0, 0, 0, 0, 0, 0, 0, 0, 0, 0, 0, 0, 0, 0, 0, 0, 0, 0, 0, 0, 0, 0, 0, 0, 0, 0, 0, 0, 0, 0, 0, 0, 0, 0, 0, 0, 0, 0, 0, 0, 0, 0, 0, 0, 0, 0, 0, 0, 0, 0, 0, 0, 0, 0, 0, 0, 0, 0, 0, 0, 0, 0, 0, 0, 0, 0, 0, 0, 0, 0, 0, 0, 0, 0, 0, 0, 0, 0, 0, 0, 0, 0, 0, 0, 0, 0, 0, 0, 0, 0, 0, 0, 0, 0, 0, 0, 0, 0, 0, 0, 0, 0, 0, 0, 0, 0, 0, 0, 0, 0, 0, 0, 0, 0, 0, 0, 0, 0, 0, 0, 0, 0, 0, 0, 0, 0, 0, 0, 0, 0, 0, 0, 0, 0, 0, 0, 0, 0, 0, 0, 0, 0, 0, 0, 0, 0, 0, 0, 0, 0, 0, 0, 0, 0, 0, 0, 0, 0, 0, 0, 0, 0, 0, 0, 0, 0, 0, 0, 0, 0, 0, 0, 0, 0, 0, 0, 0, 0, 0, 0, 0, 0, 0, 0, 0, 0, 0, 0, 0, 0, 1, 0, 0, 0, 0, 0, 0, 0, 0, 0, 0, 0, 0, 0, 0, 0, 0, 0, 0, 0, 0, 0, 0, 0, 0, 0, 0, 0, 0, 0, 0, 0, 0, 0, 0, 0, 0, 0, 0, 0, 0, 0, 0, 0, 0, 0, 0, 0, 0, 0, 0, 0, 0, 0, 0, 0, 0, 0, 0, 0, 0, 0, 0, 0, 0, 0, 0, 0, 0, 0, 0, 0, 0, 0, 0, 0, 0, 0, 0, 0, 0, 0, 0, 0, 0, 0, 0, 0, 0, 0, 0, 0, 0, 0, 0, 0, 0, 0, 0, 0, 0, 0, 0, 0, 0, 0, 0, 0, 0, 0, 0, 2, 0, 0, 0, 0, 0, 0, 0, 0, 0, 0, 0, 0, 0, 0, 0, 0, 0, 0, 0, 0, 0, 0, 0, 0, 0, 0, 0, 0, 0, 0, 0, 0, 0, 0, 0, 0, 0, 0, 0, 0, 0, 0, 0, 0, 0, 0, 0, 0, 0, 0, 0, 0, 0, 0, 0, 0, 0, 0, 0, 0, 0, 0, 0, 0, 0, 0, 0, 0, 0, 0, 0, 0, 0, 0, 0, 0, 0, 0, 0, 0, 0, 0, 0, 0, 0, 0, 0, 0, 0, 0, 0, 0, 0, 0, 0, 0, 0, 0, 0, 0, 0, 0, 0, 0, 0, 0, 0, 0, 0, 0, 0, 0, 0, 0, 0, 0, 0, 0, 0, 0, 0, 0, 0, 0, 0, 0, 0, 0, 0, 0, 0, 0, 0, 0, 0, 0, 0, 0, 0, 0, 0, 0, 0, 0, 0, 0, 0, 0, 0, 0, 0, 0, 0, 0, 0, 0, 0, 0, 0, 0, 0, 0, 0, 0, 0, 0, 0, 0, 0, 0, 0, 0, 0, 0, 0, 0, 0, 0, 0, 0, 0, 0, 0, 0, 0, 0, 0, 0, 0, 0, 0, 0, 0, 0, 0, 0, 0, 0, 0, 0, 0, 0, 0, 0, 0, 0, 0, 0, 0, 0, 0, 0, 0, 0, 0, 0, 0, 0, 0, 0, 0, 0, 0, 0, 0, 0, 0, 0, 0, 0, 0, 0, 0, 0, 0, 0, 0, 0, 0, 0, 0, 0, 0, 0, 0, 0, 0, 0, 0, 0, 0, 0, 0, 0, 0, 0, 0, 0, 0, 0, 0, 0, 0, 0, 0, 0, 0, 0, 0, 0, 0, 0, 0, 0, 0, 0, 0, 0, 0, 0, 0, 0, 0, 0, 0, 0, 0, 0, 0, 0, 0, 0, 0, 0, 0, 0, 0, 0, 0, 0, 0, 0, 0, 0, 0, 0, 0, 0, 0, 0, 0, 0, 0, 0, 0, 0, 0, 0, 0, 0, 0, 0, 0, 0, 0, 0, 0, 0, 0, 0, 0, 0, 0, 0, 0, 0, 0, 0, 0, 0, 0, 0, 0, 0, 0, 0, 0, 0, 0, 0, 0, 0, 0, 0, 0, 0, 0, 0, 0, 0, 0, 0, 0, 0, 0, 0, 0, 0, 0, 0, 0, 0, 0, 0, 0, 0, 0, 0, 0, 0, 0, 0, 0, 0, 0, 0, 0, 0, 0, 0, 0, 0, 0, 0, 0, 0, 0, 0, 0, 0, 0, 0, 0, 0, 0, 0, 0, 0, 0, 0, 0, 0, 0, 0, 0, 0, 0, 0, 0, 0, 0, 0, 0, 0, 0, 0, 0, 0, 0, 0, 0, 0, 0, 0, 0, 0, 0, 0, 0, 0, 0, 0, 0, 0, 0, 0, 0, 0, 0, 0, 0, 0, 0, 0, 0, 0, 0, 0, 0, 0, 0, 0, 0, 0, 0, 0, 0, 0, 0, 0, 0, 0, 0, 0, 0, 0, 0, 0, 0, 0, 0, 0, 0, 0, 0, 0, 0, 0, 0, 0, 0, 0, 0, 0, 0, 0, 0, 0, 0, 0, 0, 0, 0, 0, 0, 0, 0, 0, 0, 0, 0, 0, 0, 0, 0, 0, 0, 0, 0, 0, 0, 0, 0, 0, 0, 0, 0, 0, 0, 0, 0, 0, 0, 0, 0, 0, 0, 0, 0, 0, 0, 0, 0, 0, 0, 0, 0, 0, 0, 0, 0, 0, 0, 0, 0, 0, 0, 0, 0, 0, 0, 0, 0, 0, 0, 0, 0, 0, 0, 0, 0, 0, 0, 0, 0, 0, 0, 0, 0, 0, 0, 0, 0, 0, 0, 0, 0, 0, 0, 0, 0, 0, 0, 0, 0, 0, 0, 0, 0, 0, 0, 0, 0, 0, 0, 0, 0, 0, 0, 0, 0, 0, 0, 0, 0, 0, 0, 0, 0, 0, 0, 0, 0, 0, 0, 0, 0, 0, 0, 0, 0, 0, 0, 0, 0, 0, 0, 0, 0, 0, 0, 0, 0, 0, 0, 0, 0, 0, 0, 0, 0, 0, 0, 0, 0, 0, 0, 0, 0, 0, 0, 0, 0, 0, 0, 0, 0, 0, 0, 0, 0, 0, 0, 0, 0, 0, 0, 0, 0, 0, 0, 0, 0, 0, 0, 0, 0, 0, 0, 0, 1, 0, 0, 0, 0, 0, 0, 0, 0, 0, 0, 0, 0, 0, 0, 0, 0, 0, 0, 0, 0, 0, 0, 0, 0, 0, 0, 0, 0, 0, 0, 0, 0, 0, 0, 0, 0, 0, 0, 0, 0, 0, 0, 0, 0, 0, 0, 0, 0, 0, 0, 0, 0, 0, 0, 0, 0, 0, 0, 0, 0, 0, 0, 0, 0, 0, 0, 0, 0, 0, 0, 0, 0, 0, 0, 0, 0, 0, 0, 0, 0, 0, 0, 0, 0, 0, 0, 0, 0, 0, 0, 0, 0, 0, 0, 0, 0, 0, 0, 0, 0, 0, 0, 0, 0, 0, 0, 0, 1, 0, 0, 0, 0, 0, 0, 0, 0, 0, 0, 0, 0, 0, 0, 0, 0, 0, 0, 0, 0, 0, 0, 0, 0, 0, 0, 0, 0, 0, 0, 0, 0, 0, 0, 0, 0, 0, 0, 0, 0, 0, 0, 0, 0, 0, 0, 0, 0, 0, 0, 0, 0, 0, 0, 0, 0, 0, 0, 0, 0, 0, 0, 0, 0, 0, 0, 0, 0, 0, 0, 0, 0, 0, 0, 0, 0, 0, 0, 0, 0, 0, 0, 0, 0, 0, 0, 0, 0, 0, 0, 0, 0, 0, 0, 0, 0, 0, 0, 0, 0, 0, 0, 0, 0, 0, 0, 0, 0, 0, 0, 0, 0, 0, 0, 0, 0, 0, 0, 0, 0, 0, 0, 0, 0, 0, 0, 0, 0, 0, 0, 0, 0, 0, 0, 0, 0, 0, 0, 0, 0, 0, 0, 0, 0, 0, 0, 0, 0, 0, 0, 0, 0, 0, 0, 0, 0, 0, 0, 0, 0, 0, 0, 0, 0, 0, 0, 0, 0, 0, 0, 0, 0, 0, 0, 0, 0, 0, 0, 0, 0, 0, 0, 0, 0, 0, 0, 0, 0, 0, 0, 0, 0, 0, 0, 0, 0, 0, 0, 0, 0, 0, 0, 0, 0, 0, 0, 0, 0, 0, 0, 0, 0, 0, 0, 0, 0, 0, 0, 0, 0, 0, 0, 0, 0, 0, 0, 0, 0, 0, 0, 0, 0, 0, 0, 0, 0, 0, 0, 0, 0, 0, 0, 0, 0, 0, 0, 0, 0, 0, 0, 0, 0, 0, 0, 0, 0, 0, 0, 0, 0, 0, 0, 0, 0, 0, 0, 0, 0, 0, 0, 0, 0, 0, 0, 0, 0, 0, 0, 0, 0, 0, 0, 0, 0, 0, 0, 0, 0, 0, 0, 0, 0, 0, 0, 0, 0, 0, 0, 0, 0, 0, 0, 0, 0, 0, 0, 0, 0, 0, 0, 0, 0, 0, 0, 0, 0, 0, 0, 0, 0, 0, 0, 0, 0, 0, 0, 0, 0, 0, 0, 0, 0, 0, 0, 0, 0, 0, 0, 0, 0, 0, 0, 0, 0, 0, 0, 0, 0, 0, 0, 0, 0, 0, 0, 0, 0, 0, 0, 0, 0, 0, 0, 0, 0, 0, 0, 0, 0, 0, 0, 0, 0, 0, 0, 0, 0, 0, 0, 0, 0, 0, 0, 0, 0, 0, 0, 0, 0, 0, 0, 0, 0, 0, 0, 0, 0, 0, 0, 0, 0, 0, 0, 0, 0, 0, 0, 0, 0, 0, 0, 0, 0, 0, 0, 0, 0, 0, 0, 0, 0, 0, 0, 0, 0, 0, 0, 0, 0, 0, 0, 0, 0, 0, 0, 0, 0, 0, 0, 0, 0, 0, 0, 0, 0, 0, 0, 0, 0, 0, 0, 0, 0, 0, 0, 0, 0, 0, 0, 0, 0, 0, 0, 0, 2, 0, 1, 0]\n"
     ]
    }
   ],
   "source": [
    "test_bow = bow_encoding(test_words, vocabulary)\n",
    "print(test_bow)"
   ]
  },
  {
   "cell_type": "code",
   "execution_count": 42,
   "metadata": {},
   "outputs": [
    {
     "data": {
      "text/plain": [
       "5000"
      ]
     },
     "execution_count": 42,
     "metadata": {},
     "output_type": "execute_result"
    }
   ],
   "source": [
    "len(test_bow)"
   ]
  },
  {
   "cell_type": "markdown",
   "metadata": {},
   "source": [
    "So now we know how to construct a bag of words encoding of a user provided review, how to we send it to our endpoint? First, we need to start the endpoint back up."
   ]
  },
  {
   "cell_type": "code",
   "execution_count": 58,
   "metadata": {},
   "outputs": [
    {
     "name": "stderr",
     "output_type": "stream",
     "text": [
      "Parameter image will be renamed to image_uri in SageMaker Python SDK v2.\n",
      "Using already existing model: xgboost-2021-06-30-14-55-12-457\n"
     ]
    },
    {
     "name": "stdout",
     "output_type": "stream",
     "text": [
      "-----------------!"
     ]
    }
   ],
   "source": [
    "xgb_predictor = xgb.deploy(initial_instance_count = 1, instance_type = 'ml.m4.xlarge')"
   ]
  },
  {
   "cell_type": "markdown",
   "metadata": {},
   "source": [
    "At this point we could just do the same thing that we did earlier when we tested our deployed model and send `test_bow` to our endpoint using the `xgb_predictor` object. However, when we eventually construct our Lambda function we won't have access to this object, so how do we call a SageMaker endpoint?\n",
    "\n",
    "It turns out that Python functions that are used in Lambda have access to another Amazon library called `boto3`. This library provides an API for working with Amazon services, including SageMaker. To start with, we need to get a handle to the SageMaker runtime."
   ]
  },
  {
   "cell_type": "code",
   "execution_count": 44,
   "metadata": {},
   "outputs": [],
   "source": [
    "import boto3\n",
    "\n",
    "runtime = boto3.Session().client('sagemaker-runtime')"
   ]
  },
  {
   "cell_type": "markdown",
   "metadata": {},
   "source": [
    "And now that we have access to the SageMaker runtime, we can ask it to make use of (invoke) an endpoint that has already been created. However, we need to provide SageMaker with the name of the deployed endpoint. To find this out we can print it out using the `xgb_predictor` object."
   ]
  },
  {
   "cell_type": "code",
   "execution_count": 59,
   "metadata": {},
   "outputs": [
    {
     "data": {
      "text/plain": [
       "'xgboost-2021-06-30-14-55-12-457'"
      ]
     },
     "execution_count": 59,
     "metadata": {},
     "output_type": "execute_result"
    }
   ],
   "source": [
    "xgb_predictor.endpoint"
   ]
  },
  {
   "cell_type": "markdown",
   "metadata": {},
   "source": [
    "Using the SageMaker runtime and the name of our endpoint, we can invoke the endpoint and send it the `test_bow` data."
   ]
  },
  {
   "cell_type": "code",
   "execution_count": 46,
   "metadata": {},
   "outputs": [
    {
     "ename": "ParamValidationError",
     "evalue": "Parameter validation failed:\nInvalid type for parameter Body, value: [0, 0, 0, 0, 0, 0, 0, 0, 0, 0, 0, 0, 0, 0, 0, 0, 0, 0, 0, 0, 0, 0, 0, 0, 0, 0, 0, 0, 0, 0, 0, 0, 0, 0, 0, 0, 0, 0, 0, 0, 0, 0, 0, 0, 0, 0, 0, 0, 0, 0, 0, 0, 0, 0, 0, 0, 0, 0, 0, 0, 0, 0, 0, 0, 0, 0, 0, 0, 0, 0, 0, 0, 0, 0, 0, 0, 0, 0, 0, 0, 0, 0, 0, 0, 0, 0, 0, 0, 0, 0, 0, 0, 0, 0, 0, 0, 0, 0, 0, 0, 0, 0, 0, 0, 0, 0, 0, 0, 0, 0, 0, 0, 0, 0, 0, 0, 0, 0, 0, 0, 0, 0, 0, 0, 0, 0, 0, 0, 0, 0, 0, 0, 0, 0, 0, 0, 0, 0, 0, 0, 0, 0, 0, 0, 0, 0, 0, 0, 0, 0, 0, 0, 0, 0, 0, 0, 0, 0, 0, 0, 0, 0, 0, 0, 0, 0, 0, 0, 0, 0, 0, 0, 0, 0, 0, 0, 0, 0, 0, 0, 0, 0, 0, 0, 0, 0, 0, 0, 0, 0, 0, 0, 0, 0, 0, 0, 0, 0, 0, 0, 0, 0, 0, 0, 0, 0, 0, 0, 0, 0, 0, 0, 0, 0, 0, 0, 0, 0, 0, 0, 0, 0, 0, 0, 0, 0, 1, 0, 0, 0, 0, 0, 0, 0, 0, 0, 0, 0, 0, 0, 0, 0, 0, 0, 0, 0, 0, 0, 0, 0, 0, 0, 0, 0, 0, 0, 1, 0, 0, 0, 0, 0, 0, 0, 0, 0, 0, 0, 0, 0, 0, 0, 0, 0, 0, 0, 0, 0, 0, 0, 0, 0, 0, 0, 0, 0, 0, 0, 0, 0, 0, 0, 0, 0, 0, 0, 0, 0, 0, 0, 0, 0, 0, 0, 0, 0, 0, 0, 0, 0, 0, 0, 0, 0, 0, 0, 0, 0, 0, 0, 0, 0, 0, 0, 0, 0, 0, 0, 0, 0, 0, 0, 0, 0, 0, 0, 0, 0, 0, 0, 0, 0, 0, 0, 0, 0, 0, 0, 0, 0, 0, 0, 0, 0, 0, 0, 0, 0, 0, 0, 0, 0, 0, 0, 0, 0, 0, 0, 0, 0, 0, 0, 0, 0, 0, 0, 0, 0, 0, 0, 0, 0, 0, 0, 0, 0, 0, 0, 0, 0, 0, 0, 0, 0, 0, 0, 0, 0, 0, 0, 0, 0, 0, 0, 0, 0, 0, 0, 0, 0, 0, 0, 0, 0, 0, 0, 0, 0, 0, 0, 0, 0, 0, 0, 0, 0, 0, 0, 0, 0, 0, 0, 0, 0, 0, 0, 0, 0, 0, 0, 0, 0, 0, 0, 0, 0, 0, 0, 0, 0, 0, 0, 0, 0, 0, 0, 0, 0, 0, 0, 0, 0, 0, 0, 0, 0, 0, 0, 0, 0, 0, 0, 0, 0, 0, 0, 0, 0, 0, 0, 0, 0, 0, 0, 0, 0, 0, 0, 0, 0, 0, 0, 0, 0, 0, 0, 0, 0, 0, 0, 0, 0, 0, 0, 0, 0, 0, 0, 0, 0, 0, 0, 0, 0, 0, 0, 0, 0, 0, 0, 0, 0, 0, 0, 0, 0, 0, 0, 0, 0, 0, 0, 0, 0, 0, 0, 0, 0, 0, 0, 0, 0, 0, 0, 0, 0, 0, 0, 0, 0, 0, 0, 0, 0, 0, 0, 0, 0, 0, 0, 0, 0, 0, 0, 0, 0, 0, 0, 0, 0, 0, 0, 0, 0, 0, 0, 0, 0, 0, 0, 0, 0, 0, 0, 0, 0, 0, 0, 0, 0, 0, 0, 0, 0, 0, 0, 0, 0, 0, 0, 0, 0, 0, 0, 0, 0, 0, 0, 0, 0, 0, 0, 0, 0, 0, 0, 0, 0, 0, 0, 0, 0, 0, 0, 0, 0, 0, 0, 0, 0, 0, 0, 0, 0, 0, 0, 1, 0, 0, 0, 0, 0, 0, 0, 0, 0, 0, 0, 0, 0, 0, 0, 0, 0, 0, 0, 0, 0, 0, 0, 0, 0, 0, 0, 0, 0, 0, 0, 0, 0, 0, 0, 0, 0, 0, 0, 0, 0, 0, 0, 0, 0, 0, 0, 0, 0, 0, 0, 0, 0, 0, 0, 0, 0, 0, 0, 0, 0, 0, 0, 0, 0, 0, 0, 0, 0, 0, 0, 0, 0, 0, 0, 0, 0, 0, 0, 0, 0, 0, 0, 0, 0, 0, 0, 0, 0, 0, 0, 0, 0, 0, 0, 0, 0, 0, 0, 0, 0, 0, 0, 0, 0, 0, 0, 0, 0, 0, 0, 0, 0, 0, 0, 0, 0, 0, 0, 0, 0, 0, 0, 0, 0, 0, 0, 0, 0, 0, 0, 0, 0, 0, 0, 0, 0, 0, 0, 0, 0, 0, 0, 0, 0, 0, 0, 0, 0, 0, 0, 0, 0, 0, 0, 0, 0, 0, 0, 0, 0, 0, 0, 0, 0, 0, 0, 0, 0, 0, 0, 0, 0, 0, 0, 0, 0, 0, 0, 0, 0, 0, 0, 0, 0, 0, 0, 0, 0, 0, 0, 0, 0, 0, 0, 0, 0, 0, 0, 0, 0, 0, 0, 0, 0, 0, 0, 0, 0, 0, 0, 0, 0, 0, 0, 0, 0, 0, 0, 0, 0, 0, 0, 0, 0, 0, 0, 0, 0, 0, 0, 0, 0, 0, 0, 0, 0, 0, 0, 0, 0, 0, 0, 0, 0, 0, 0, 0, 0, 0, 0, 0, 0, 1, 0, 0, 0, 0, 0, 0, 0, 0, 0, 0, 0, 0, 0, 0, 0, 0, 0, 0, 0, 0, 0, 0, 0, 0, 0, 0, 0, 0, 0, 0, 0, 0, 0, 0, 0, 0, 0, 0, 0, 0, 0, 0, 0, 0, 0, 0, 0, 0, 0, 0, 0, 0, 0, 0, 0, 0, 0, 0, 0, 0, 0, 0, 0, 0, 0, 0, 0, 0, 0, 0, 0, 0, 0, 0, 0, 0, 0, 0, 0, 0, 0, 0, 0, 0, 0, 0, 1, 0, 0, 0, 0, 0, 0, 0, 0, 0, 0, 0, 0, 0, 0, 0, 0, 0, 0, 0, 0, 0, 0, 0, 0, 0, 0, 0, 0, 0, 0, 0, 0, 0, 0, 0, 0, 0, 0, 0, 0, 0, 0, 0, 0, 0, 0, 0, 0, 0, 0, 0, 0, 0, 0, 0, 0, 0, 0, 0, 0, 0, 0, 0, 0, 0, 0, 0, 0, 0, 0, 0, 0, 0, 0, 0, 0, 0, 0, 0, 0, 0, 0, 0, 0, 0, 0, 0, 0, 0, 0, 0, 0, 0, 0, 0, 0, 0, 0, 0, 0, 0, 0, 0, 0, 0, 0, 0, 0, 0, 0, 0, 0, 0, 0, 0, 0, 0, 0, 0, 0, 0, 0, 0, 0, 0, 0, 0, 0, 0, 0, 0, 0, 0, 0, 0, 0, 0, 0, 0, 0, 0, 0, 0, 0, 0, 0, 0, 0, 0, 0, 0, 0, 0, 0, 0, 0, 0, 0, 0, 0, 0, 0, 0, 0, 0, 0, 0, 0, 0, 0, 0, 0, 0, 0, 0, 0, 0, 0, 0, 0, 0, 0, 0, 0, 0, 0, 0, 0, 0, 0, 0, 0, 0, 0, 0, 0, 0, 0, 0, 0, 0, 0, 0, 0, 0, 0, 0, 0, 0, 0, 0, 0, 0, 0, 0, 0, 0, 0, 0, 0, 0, 0, 0, 0, 0, 0, 0, 0, 0, 0, 0, 0, 0, 0, 0, 0, 0, 0, 0, 0, 0, 0, 0, 0, 0, 0, 0, 0, 0, 0, 0, 0, 1, 0, 0, 0, 0, 0, 0, 0, 0, 0, 0, 0, 0, 0, 0, 0, 0, 0, 0, 0, 0, 0, 0, 0, 0, 0, 0, 0, 0, 0, 0, 0, 0, 0, 0, 0, 0, 0, 0, 0, 0, 0, 0, 0, 0, 0, 0, 0, 0, 0, 0, 0, 0, 0, 0, 0, 1, 0, 0, 0, 0, 0, 0, 0, 0, 0, 0, 0, 0, 0, 0, 0, 0, 0, 0, 0, 0, 0, 0, 0, 0, 0, 0, 0, 0, 0, 0, 0, 0, 0, 0, 0, 0, 0, 0, 0, 0, 0, 0, 0, 0, 0, 0, 0, 0, 0, 0, 0, 0, 0, 0, 0, 0, 0, 0, 0, 0, 0, 0, 0, 0, 0, 0, 0, 0, 0, 0, 0, 0, 0, 0, 0, 0, 0, 0, 0, 0, 0, 0, 0, 0, 0, 0, 0, 0, 0, 0, 0, 0, 0, 0, 0, 0, 0, 0, 0, 0, 0, 0, 0, 0, 0, 0, 0, 0, 0, 0, 0, 0, 0, 0, 0, 0, 0, 0, 0, 0, 0, 0, 0, 0, 0, 0, 0, 0, 0, 0, 0, 0, 0, 0, 0, 0, 0, 0, 0, 0, 0, 0, 0, 0, 0, 0, 0, 0, 0, 0, 0, 0, 0, 0, 0, 0, 0, 0, 0, 0, 0, 0, 0, 0, 0, 0, 0, 0, 0, 0, 0, 0, 0, 0, 0, 0, 0, 0, 0, 0, 0, 0, 0, 0, 0, 0, 0, 0, 0, 0, 0, 0, 0, 0, 0, 0, 0, 0, 0, 0, 0, 0, 0, 0, 0, 0, 0, 0, 0, 0, 0, 0, 0, 0, 0, 0, 0, 0, 0, 0, 0, 0, 0, 0, 0, 0, 0, 0, 0, 0, 0, 0, 0, 0, 0, 0, 0, 0, 0, 0, 0, 0, 0, 0, 0, 0, 0, 0, 0, 0, 0, 0, 0, 0, 0, 0, 0, 0, 0, 0, 0, 0, 0, 0, 0, 0, 0, 0, 0, 0, 0, 0, 0, 0, 0, 0, 0, 0, 0, 0, 0, 0, 0, 0, 0, 0, 0, 0, 0, 0, 0, 0, 0, 0, 0, 0, 0, 0, 0, 0, 0, 0, 0, 0, 0, 0, 0, 0, 0, 0, 0, 0, 0, 0, 0, 0, 0, 0, 0, 0, 0, 0, 0, 0, 0, 0, 0, 0, 0, 0, 0, 0, 0, 0, 0, 0, 0, 0, 0, 0, 0, 0, 0, 0, 0, 0, 0, 0, 0, 0, 0, 0, 0, 0, 0, 0, 0, 0, 0, 0, 0, 0, 0, 0, 0, 0, 0, 0, 0, 0, 0, 0, 0, 0, 0, 0, 0, 0, 0, 0, 0, 0, 0, 0, 0, 0, 0, 0, 0, 0, 0, 0, 0, 0, 0, 0, 0, 0, 0, 0, 0, 0, 0, 0, 0, 0, 0, 0, 0, 0, 0, 0, 0, 0, 0, 0, 0, 0, 0, 0, 0, 0, 0, 0, 0, 0, 0, 0, 0, 0, 0, 0, 0, 0, 0, 0, 0, 0, 0, 0, 0, 0, 0, 0, 0, 0, 0, 0, 0, 0, 0, 0, 0, 0, 0, 0, 0, 0, 0, 0, 0, 0, 0, 0, 0, 0, 0, 0, 0, 0, 0, 0, 0, 0, 0, 0, 0, 0, 0, 0, 0, 0, 0, 0, 0, 0, 0, 0, 0, 0, 0, 0, 0, 0, 0, 0, 0, 0, 0, 0, 0, 0, 0, 0, 0, 0, 0, 0, 0, 0, 0, 0, 0, 0, 0, 0, 0, 0, 0, 0, 0, 0, 0, 0, 0, 0, 0, 0, 0, 0, 0, 0, 0, 0, 0, 0, 0, 0, 0, 0, 0, 0, 0, 0, 0, 0, 0, 0, 0, 0, 0, 0, 0, 0, 0, 0, 0, 0, 0, 0, 0, 0, 0, 0, 0, 0, 0, 0, 0, 0, 0, 0, 0, 0, 0, 0, 0, 0, 0, 0, 0, 0, 0, 0, 0, 0, 0, 0, 0, 0, 0, 0, 0, 0, 0, 0, 0, 0, 0, 0, 0, 0, 0, 0, 0, 0, 0, 0, 0, 0, 0, 0, 0, 0, 0, 0, 0, 0, 0, 0, 0, 0, 0, 0, 0, 0, 0, 0, 0, 0, 0, 0, 0, 0, 0, 0, 0, 0, 0, 0, 0, 0, 0, 0, 0, 0, 0, 0, 0, 0, 0, 0, 0, 0, 0, 0, 0, 0, 0, 0, 0, 0, 0, 0, 0, 0, 0, 0, 0, 0, 0, 0, 0, 0, 0, 0, 0, 0, 0, 0, 0, 1, 0, 0, 0, 0, 0, 0, 0, 0, 0, 0, 0, 0, 0, 0, 0, 0, 0, 0, 0, 0, 0, 0, 0, 0, 0, 0, 0, 0, 0, 0, 0, 0, 0, 0, 0, 0, 0, 0, 0, 0, 0, 0, 0, 0, 0, 0, 0, 0, 0, 0, 0, 0, 0, 0, 0, 0, 0, 0, 0, 0, 0, 0, 0, 0, 0, 0, 0, 0, 0, 0, 0, 0, 0, 0, 1, 0, 0, 0, 0, 0, 0, 0, 0, 0, 0, 0, 0, 0, 0, 0, 0, 0, 0, 0, 0, 1, 0, 0, 1, 0, 0, 0, 0, 0, 0, 0, 0, 0, 0, 0, 0, 0, 0, 0, 0, 0, 0, 0, 0, 0, 0, 0, 0, 0, 0, 0, 0, 0, 0, 0, 0, 0, 0, 0, 0, 0, 0, 0, 0, 0, 0, 0, 0, 0, 0, 0, 0, 0, 0, 0, 0, 0, 0, 0, 0, 0, 0, 0, 0, 0, 0, 0, 0, 0, 0, 0, 0, 0, 0, 0, 0, 0, 0, 0, 0, 0, 0, 0, 0, 0, 0, 0, 0, 0, 0, 0, 0, 0, 0, 0, 0, 0, 0, 0, 0, 0, 0, 0, 0, 0, 0, 0, 0, 0, 0, 0, 0, 0, 0, 0, 0, 0, 0, 0, 0, 0, 0, 0, 0, 0, 0, 0, 0, 0, 0, 0, 0, 0, 0, 0, 0, 0, 0, 0, 0, 0, 0, 0, 0, 0, 0, 0, 0, 0, 0, 0, 0, 0, 0, 0, 0, 0, 0, 0, 0, 0, 0, 0, 0, 0, 0, 0, 0, 0, 0, 0, 0, 0, 0, 0, 0, 0, 0, 0, 0, 0, 0, 0, 0, 0, 0, 0, 0, 0, 0, 0, 0, 0, 0, 0, 0, 0, 0, 0, 0, 0, 0, 0, 0, 0, 0, 0, 0, 0, 0, 0, 0, 0, 0, 0, 0, 0, 0, 0, 0, 0, 0, 0, 0, 0, 0, 0, 0, 0, 0, 0, 0, 0, 0, 0, 0, 0, 0, 0, 0, 0, 0, 0, 0, 0, 0, 0, 0, 0, 0, 0, 0, 0, 0, 0, 0, 0, 0, 0, 0, 0, 0, 0, 0, 0, 0, 0, 0, 0, 0, 0, 0, 0, 0, 0, 0, 0, 0, 0, 0, 0, 0, 0, 0, 0, 0, 0, 0, 0, 0, 0, 0, 0, 0, 0, 0, 0, 0, 0, 0, 0, 0, 0, 0, 0, 0, 0, 0, 0, 0, 0, 0, 0, 0, 0, 0, 0, 0, 0, 0, 0, 0, 0, 0, 0, 0, 0, 0, 0, 0, 0, 0, 0, 0, 0, 0, 0, 0, 0, 0, 0, 0, 0, 0, 0, 0, 0, 0, 0, 0, 0, 0, 0, 0, 0, 0, 0, 0, 0, 0, 0, 0, 0, 0, 0, 0, 0, 0, 0, 0, 0, 0, 0, 0, 0, 0, 0, 0, 0, 0, 0, 0, 0, 0, 0, 0, 0, 0, 0, 0, 0, 0, 0, 0, 0, 0, 0, 0, 0, 0, 0, 0, 0, 0, 0, 0, 0, 0, 0, 0, 0, 0, 0, 0, 0, 0, 0, 0, 0, 0, 0, 0, 0, 0, 0, 0, 0, 0, 0, 0, 0, 0, 0, 0, 0, 0, 0, 0, 0, 0, 0, 0, 0, 0, 0, 0, 0, 0, 0, 0, 0, 0, 0, 0, 0, 0, 0, 0, 0, 0, 0, 0, 0, 0, 0, 0, 0, 0, 0, 0, 1, 0, 0, 0, 0, 0, 0, 0, 0, 0, 0, 0, 0, 0, 0, 0, 0, 0, 0, 0, 0, 0, 0, 0, 0, 0, 0, 0, 0, 0, 0, 0, 0, 0, 0, 0, 0, 0, 0, 0, 0, 0, 0, 0, 0, 0, 0, 0, 0, 0, 0, 0, 0, 0, 0, 0, 0, 0, 0, 0, 0, 0, 0, 0, 0, 0, 0, 0, 0, 0, 0, 0, 0, 0, 0, 0, 0, 0, 0, 0, 0, 0, 0, 0, 0, 0, 0, 0, 0, 0, 0, 0, 0, 0, 0, 0, 0, 0, 0, 0, 0, 0, 0, 0, 0, 0, 0, 0, 0, 0, 0, 0, 0, 0, 0, 0, 0, 0, 0, 0, 0, 0, 0, 0, 0, 0, 0, 0, 0, 0, 0, 0, 0, 0, 0, 0, 0, 0, 0, 0, 0, 0, 0, 0, 0, 0, 0, 0, 0, 0, 0, 0, 0, 0, 0, 0, 0, 0, 0, 0, 0, 0, 0, 0, 0, 0, 0, 0, 0, 0, 0, 0, 0, 0, 0, 0, 0, 0, 0, 0, 0, 0, 0, 0, 0, 0, 0, 0, 0, 0, 0, 0, 0, 0, 0, 0, 0, 0, 0, 0, 0, 0, 0, 0, 0, 0, 0, 0, 0, 0, 0, 0, 0, 0, 0, 0, 0, 0, 0, 0, 0, 0, 0, 0, 0, 0, 0, 0, 0, 0, 0, 0, 0, 0, 0, 0, 0, 0, 0, 0, 0, 0, 0, 0, 0, 0, 0, 0, 0, 0, 0, 0, 0, 0, 0, 0, 0, 0, 0, 0, 0, 0, 0, 0, 0, 0, 0, 0, 0, 0, 0, 0, 0, 0, 0, 0, 0, 0, 0, 0, 0, 0, 0, 0, 0, 0, 0, 0, 0, 0, 0, 0, 0, 0, 0, 0, 0, 0, 0, 0, 0, 0, 0, 0, 0, 0, 0, 0, 0, 0, 0, 0, 0, 0, 0, 0, 0, 0, 0, 0, 0, 0, 0, 0, 0, 0, 0, 0, 0, 0, 0, 0, 0, 0, 0, 0, 0, 0, 0, 0, 0, 0, 0, 0, 0, 0, 0, 0, 0, 0, 0, 0, 0, 0, 0, 0, 0, 0, 0, 0, 0, 0, 0, 0, 0, 0, 0, 0, 0, 0, 0, 0, 0, 0, 0, 0, 0, 0, 0, 0, 0, 0, 0, 0, 0, 0, 0, 0, 0, 0, 0, 0, 0, 0, 0, 0, 0, 0, 0, 0, 0, 0, 0, 0, 0, 0, 0, 0, 0, 0, 0, 0, 0, 0, 0, 0, 0, 0, 0, 0, 0, 0, 0, 0, 0, 0, 0, 0, 0, 0, 0, 0, 0, 0, 0, 0, 0, 0, 0, 0, 0, 0, 0, 0, 0, 0, 0, 0, 0, 0, 0, 0, 0, 0, 0, 0, 0, 0, 0, 0, 0, 0, 0, 0, 0, 0, 0, 0, 0, 0, 0, 0, 0, 0, 0, 0, 0, 0, 0, 0, 0, 0, 0, 0, 0, 0, 0, 0, 0, 0, 0, 0, 0, 0, 0, 0, 0, 0, 0, 0, 0, 0, 0, 0, 0, 0, 0, 0, 0, 0, 0, 0, 0, 1, 0, 0, 0, 0, 0, 0, 0, 0, 0, 0, 0, 0, 0, 0, 0, 0, 0, 0, 0, 0, 0, 0, 0, 0, 0, 0, 0, 0, 0, 0, 0, 0, 0, 0, 0, 2, 0, 0, 0, 0, 0, 0, 0, 0, 0, 0, 0, 0, 0, 0, 0, 0, 0, 0, 0, 0, 0, 0, 0, 0, 0, 0, 0, 0, 0, 0, 0, 0, 0, 0, 0, 0, 0, 0, 0, 0, 1, 0, 0, 0, 0, 0, 0, 0, 0, 0, 0, 0, 0, 0, 0, 0, 0, 0, 0, 0, 0, 0, 0, 0, 0, 0, 0, 0, 0, 0, 0, 0, 0, 0, 0, 0, 0, 0, 0, 0, 0, 0, 0, 0, 0, 0, 0, 0, 0, 0, 0, 0, 0, 0, 0, 0, 0, 0, 0, 0, 0, 0, 0, 0, 0, 0, 0, 0, 0, 0, 0, 0, 0, 0, 0, 0, 0, 0, 0, 0, 0, 0, 0, 0, 0, 0, 0, 0, 0, 0, 0, 0, 0, 0, 0, 0, 0, 0, 0, 0, 0, 0, 0, 0, 0, 0, 0, 0, 0, 0, 0, 0, 0, 0, 0, 0, 0, 0, 0, 0, 0, 0, 0, 0, 0, 0, 0, 0, 0, 0, 0, 0, 0, 0, 0, 0, 0, 0, 0, 0, 0, 0, 0, 0, 0, 0, 0, 0, 0, 0, 0, 0, 0, 0, 0, 0, 0, 0, 0, 0, 0, 0, 0, 0, 0, 0, 0, 0, 0, 0, 0, 0, 0, 0, 0, 0, 0, 0, 0, 0, 0, 0, 0, 0, 0, 0, 0, 0, 0, 0, 0, 0, 0, 0, 0, 0, 0, 0, 0, 0, 0, 0, 0, 0, 0, 0, 0, 0, 0, 0, 0, 0, 0, 0, 0, 0, 0, 0, 0, 0, 0, 0, 0, 0, 0, 0, 0, 0, 0, 0, 0, 0, 0, 0, 0, 0, 0, 0, 0, 0, 0, 0, 0, 0, 0, 0, 0, 0, 0, 0, 0, 0, 0, 0, 0, 0, 0, 0, 0, 0, 0, 0, 0, 0, 0, 0, 0, 0, 0, 0, 0, 0, 0, 0, 0, 0, 0, 0, 0, 0, 0, 0, 0, 0, 0, 0, 0, 0, 0, 0, 0, 0, 0, 0, 0, 0, 0, 0, 0, 0, 0, 0, 0, 0, 0, 0, 0, 0, 0, 0, 0, 0, 0, 0, 0, 0, 0, 0, 0, 0, 0, 0, 0, 0, 0, 0, 0, 0, 0, 0, 0, 0, 0, 0, 0, 0, 0, 0, 0, 0, 0, 0, 0, 0, 0, 0, 0, 0, 0, 0, 0, 0, 0, 0, 0, 0, 0, 0, 0, 0, 0, 0, 0, 0, 0, 0, 0, 0, 0, 0, 0, 0, 0, 0, 0, 0, 0, 0, 0, 0, 0, 0, 0, 0, 0, 0, 0, 0, 0, 0, 0, 0, 0, 0, 0, 0, 0, 0, 0, 0, 0, 0, 0, 0, 0, 0, 0, 0, 0, 0, 0, 0, 0, 0, 0, 0, 0, 0, 0, 0, 0, 0, 0, 0, 0, 0, 0, 0, 0, 0, 0, 0, 0, 0, 0, 0, 0, 0, 0, 0, 0, 0, 0, 0, 0, 0, 0, 0, 0, 0, 0, 0, 0, 0, 0, 0, 0, 0, 0, 0, 0, 0, 0, 0, 0, 0, 0, 0, 0, 0, 0, 0, 0, 0, 0, 0, 0, 0, 0, 0, 0, 0, 0, 0, 0, 0, 0, 0, 0, 0, 0, 0, 0, 0, 0, 0, 0, 0, 1, 0, 0, 0, 0, 0, 0, 0, 0, 0, 0, 0, 0, 0, 0, 0, 0, 0, 0, 0, 0, 0, 0, 0, 0, 0, 0, 0, 0, 0, 0, 0, 0, 0, 0, 0, 0, 0, 0, 0, 0, 0, 0, 0, 0, 0, 0, 0, 0, 0, 0, 0, 0, 0, 0, 0, 0, 0, 0, 0, 0, 0, 0, 0, 0, 0, 0, 0, 0, 0, 0, 0, 0, 0, 0, 0, 0, 0, 0, 0, 0, 0, 0, 0, 0, 0, 0, 0, 0, 0, 0, 0, 0, 0, 0, 0, 0, 0, 0, 0, 0, 0, 0, 0, 0, 0, 0, 0, 0, 0, 0, 2, 0, 0, 0, 0, 0, 0, 0, 0, 0, 0, 0, 0, 0, 0, 0, 0, 0, 0, 0, 0, 0, 0, 0, 0, 0, 0, 0, 0, 0, 0, 0, 0, 0, 0, 0, 0, 0, 0, 0, 0, 0, 0, 0, 0, 0, 0, 0, 0, 0, 0, 0, 0, 0, 0, 0, 0, 0, 0, 0, 0, 0, 0, 0, 0, 0, 0, 0, 0, 0, 0, 0, 0, 0, 0, 0, 0, 0, 0, 0, 0, 0, 0, 0, 0, 0, 0, 0, 0, 0, 0, 0, 0, 0, 0, 0, 0, 0, 0, 0, 0, 0, 0, 0, 0, 0, 0, 0, 0, 0, 0, 0, 0, 0, 0, 0, 0, 0, 0, 0, 0, 0, 0, 0, 0, 0, 0, 0, 0, 0, 0, 0, 0, 0, 0, 0, 0, 0, 0, 0, 0, 0, 0, 0, 0, 0, 0, 0, 0, 0, 0, 0, 0, 0, 0, 0, 0, 0, 0, 0, 0, 0, 0, 0, 0, 0, 0, 0, 0, 0, 0, 0, 0, 0, 0, 0, 0, 0, 0, 0, 0, 0, 0, 0, 0, 0, 0, 0, 0, 0, 0, 0, 0, 0, 0, 0, 0, 0, 0, 0, 0, 0, 0, 0, 0, 0, 0, 0, 0, 0, 0, 0, 0, 0, 0, 0, 0, 0, 0, 0, 0, 0, 0, 0, 0, 0, 0, 0, 0, 0, 0, 0, 0, 0, 0, 0, 0, 0, 0, 0, 0, 0, 0, 0, 0, 0, 0, 0, 0, 0, 0, 0, 0, 0, 0, 0, 0, 0, 0, 0, 0, 0, 0, 0, 0, 0, 0, 0, 0, 0, 0, 0, 0, 0, 0, 0, 0, 0, 0, 0, 0, 0, 0, 0, 0, 0, 0, 0, 0, 0, 0, 0, 0, 0, 0, 0, 0, 0, 0, 0, 0, 0, 0, 0, 0, 0, 0, 0, 0, 0, 0, 0, 0, 0, 0, 0, 0, 0, 0, 0, 0, 0, 0, 0, 0, 0, 0, 0, 0, 0, 0, 0, 0, 0, 0, 0, 0, 0, 0, 0, 0, 0, 0, 0, 0, 0, 0, 0, 0, 0, 0, 0, 0, 0, 0, 0, 0, 0, 0, 0, 0, 0, 0, 0, 0, 0, 0, 0, 0, 0, 0, 0, 0, 0, 0, 0, 0, 0, 0, 0, 0, 0, 0, 0, 0, 0, 0, 0, 0, 0, 0, 0, 0, 0, 0, 0, 0, 0, 0, 0, 0, 0, 0, 0, 0, 0, 0, 0, 0, 0, 0, 0, 0, 0, 0, 0, 0, 0, 0, 0, 0, 0, 0, 0, 0, 0, 0, 0, 0, 0, 0, 0, 0, 0, 0, 0, 0, 0, 0, 0, 0, 0, 0, 0, 0, 0, 0, 0, 0, 0, 0, 0, 0, 0, 0, 0, 0, 0, 0, 0, 0, 0, 0, 0, 0, 0, 0, 0, 0, 0, 0, 0, 0, 0, 0, 0, 0, 0, 0, 0, 0, 0, 0, 0, 0, 0, 0, 0, 0, 0, 0, 0, 0, 0, 0, 0, 0, 0, 0, 0, 0, 0, 0, 0, 0, 0, 0, 0, 0, 0, 0, 0, 0, 0, 0, 0, 0, 0, 0, 0, 0, 0, 0, 0, 0, 0, 0, 0, 0, 0, 0, 0, 0, 0, 0, 0, 0, 0, 0, 0, 0, 0, 0, 0, 0, 0, 0, 0, 0, 0, 0, 0, 0, 0, 0, 0, 0, 0, 0, 0, 0, 0, 0, 0, 0, 0, 0, 0, 0, 0, 0, 0, 0, 0, 0, 0, 0, 0, 0, 0, 0, 0, 0, 0, 0, 0, 0, 0, 0, 0, 0, 0, 0, 0, 0, 0, 0, 0, 0, 0, 0, 0, 0, 0, 0, 0, 0, 0, 0, 0, 0, 0, 0, 0, 0, 0, 0, 0, 0, 0, 0, 0, 0, 0, 0, 0, 0, 0, 0, 0, 0, 0, 0, 0, 0, 0, 0, 0, 0, 0, 0, 0, 0, 0, 0, 0, 0, 0, 0, 0, 0, 0, 0, 0, 0, 0, 0, 0, 0, 0, 0, 0, 0, 0, 0, 0, 0, 0, 0, 0, 0, 0, 0, 0, 0, 0, 0, 0, 0, 0, 0, 0, 0, 0, 0, 0, 0, 0, 0, 0, 0, 1, 0, 0, 0, 0, 0, 0, 0, 0, 0, 0, 0, 0, 0, 0, 0, 0, 0, 0, 0, 0, 0, 0, 0, 0, 0, 0, 0, 0, 0, 0, 0, 0, 0, 0, 0, 0, 0, 0, 0, 0, 0, 0, 0, 0, 0, 0, 0, 0, 0, 0, 0, 0, 0, 0, 0, 0, 0, 0, 0, 0, 0, 0, 0, 0, 0, 0, 0, 0, 0, 0, 0, 0, 0, 0, 0, 0, 0, 0, 0, 0, 0, 0, 0, 0, 0, 0, 0, 0, 0, 0, 0, 0, 0, 0, 0, 0, 0, 0, 0, 0, 0, 0, 0, 0, 0, 0, 0, 1, 0, 0, 0, 0, 0, 0, 0, 0, 0, 0, 0, 0, 0, 0, 0, 0, 0, 0, 0, 0, 0, 0, 0, 0, 0, 0, 0, 0, 0, 0, 0, 0, 0, 0, 0, 0, 0, 0, 0, 0, 0, 0, 0, 0, 0, 0, 0, 0, 0, 0, 0, 0, 0, 0, 0, 0, 0, 0, 0, 0, 0, 0, 0, 0, 0, 0, 0, 0, 0, 0, 0, 0, 0, 0, 0, 0, 0, 0, 0, 0, 0, 0, 0, 0, 0, 0, 0, 0, 0, 0, 0, 0, 0, 0, 0, 0, 0, 0, 0, 0, 0, 0, 0, 0, 0, 0, 0, 0, 0, 0, 0, 0, 0, 0, 0, 0, 0, 0, 0, 0, 0, 0, 0, 0, 0, 0, 0, 0, 0, 0, 0, 0, 0, 0, 0, 0, 0, 0, 0, 0, 0, 0, 0, 0, 0, 0, 0, 0, 0, 0, 0, 0, 0, 0, 0, 0, 0, 0, 0, 0, 0, 0, 0, 0, 0, 0, 0, 0, 0, 0, 0, 0, 0, 0, 0, 0, 0, 0, 0, 0, 0, 0, 0, 0, 0, 0, 0, 0, 0, 0, 0, 0, 0, 0, 0, 0, 0, 0, 0, 0, 0, 0, 0, 0, 0, 0, 0, 0, 0, 0, 0, 0, 0, 0, 0, 0, 0, 0, 0, 0, 0, 0, 0, 0, 0, 0, 0, 0, 0, 0, 0, 0, 0, 0, 0, 0, 0, 0, 0, 0, 0, 0, 0, 0, 0, 0, 0, 0, 0, 0, 0, 0, 0, 0, 0, 0, 0, 0, 0, 0, 0, 0, 0, 0, 0, 0, 0, 0, 0, 0, 0, 0, 0, 0, 0, 0, 0, 0, 0, 0, 0, 0, 0, 0, 0, 0, 0, 0, 0, 0, 0, 0, 0, 0, 0, 0, 0, 0, 0, 0, 0, 0, 0, 0, 0, 0, 0, 0, 0, 0, 0, 0, 0, 0, 0, 0, 0, 0, 0, 0, 0, 0, 0, 0, 0, 0, 0, 0, 0, 0, 0, 0, 0, 0, 0, 0, 0, 0, 0, 0, 0, 0, 0, 0, 0, 0, 0, 0, 0, 0, 0, 0, 0, 0, 0, 0, 0, 0, 0, 0, 0, 0, 0, 0, 0, 0, 0, 0, 0, 0, 0, 0, 0, 0, 0, 0, 0, 0, 0, 0, 0, 0, 0, 0, 0, 0, 0, 0, 0, 0, 0, 0, 0, 0, 0, 0, 0, 0, 0, 0, 0, 0, 0, 0, 0, 0, 0, 0, 0, 0, 0, 0, 0, 0, 0, 0, 0, 0, 0, 0, 0, 0, 0, 0, 0, 0, 0, 0, 0, 0, 0, 0, 0, 0, 0, 0, 0, 0, 0, 0, 0, 0, 0, 0, 0, 0, 0, 0, 0, 0, 0, 0, 0, 0, 0, 0, 0, 0, 0, 0, 0, 0, 0, 2, 0, 1, 0], type: <class 'list'>, valid types: <class 'bytes'>, <class 'bytearray'>, file-like object",
     "output_type": "error",
     "traceback": [
      "\u001b[0;31m---------------------------------------------------------------------------\u001b[0m",
      "\u001b[0;31mParamValidationError\u001b[0m                      Traceback (most recent call last)",
      "\u001b[0;32m<ipython-input-46-c9ab54ae3a48>\u001b[0m in \u001b[0;36m<module>\u001b[0;34m\u001b[0m\n\u001b[1;32m      1\u001b[0m response = runtime.invoke_endpoint(EndpointName = xgb_predictor.endpoint, # The name of the endpoint we created\n\u001b[1;32m      2\u001b[0m                                        \u001b[0mContentType\u001b[0m \u001b[0;34m=\u001b[0m \u001b[0;34m'text/csv'\u001b[0m\u001b[0;34m,\u001b[0m                     \u001b[0;31m# The data format that is expected\u001b[0m\u001b[0;34m\u001b[0m\u001b[0;34m\u001b[0m\u001b[0m\n\u001b[0;32m----> 3\u001b[0;31m                                        Body = test_bow)\n\u001b[0m",
      "\u001b[0;32m~/anaconda3/envs/python3/lib/python3.6/site-packages/botocore/client.py\u001b[0m in \u001b[0;36m_api_call\u001b[0;34m(self, *args, **kwargs)\u001b[0m\n\u001b[1;32m    384\u001b[0m                     \"%s() only accepts keyword arguments.\" % py_operation_name)\n\u001b[1;32m    385\u001b[0m             \u001b[0;31m# The \"self\" in this scope is referring to the BaseClient.\u001b[0m\u001b[0;34m\u001b[0m\u001b[0;34m\u001b[0m\u001b[0;34m\u001b[0m\u001b[0m\n\u001b[0;32m--> 386\u001b[0;31m             \u001b[0;32mreturn\u001b[0m \u001b[0mself\u001b[0m\u001b[0;34m.\u001b[0m\u001b[0m_make_api_call\u001b[0m\u001b[0;34m(\u001b[0m\u001b[0moperation_name\u001b[0m\u001b[0;34m,\u001b[0m \u001b[0mkwargs\u001b[0m\u001b[0;34m)\u001b[0m\u001b[0;34m\u001b[0m\u001b[0;34m\u001b[0m\u001b[0m\n\u001b[0m\u001b[1;32m    387\u001b[0m \u001b[0;34m\u001b[0m\u001b[0m\n\u001b[1;32m    388\u001b[0m         \u001b[0m_api_call\u001b[0m\u001b[0;34m.\u001b[0m\u001b[0m__name__\u001b[0m \u001b[0;34m=\u001b[0m \u001b[0mstr\u001b[0m\u001b[0;34m(\u001b[0m\u001b[0mpy_operation_name\u001b[0m\u001b[0;34m)\u001b[0m\u001b[0;34m\u001b[0m\u001b[0;34m\u001b[0m\u001b[0m\n",
      "\u001b[0;32m~/anaconda3/envs/python3/lib/python3.6/site-packages/botocore/client.py\u001b[0m in \u001b[0;36m_make_api_call\u001b[0;34m(self, operation_name, api_params)\u001b[0m\n\u001b[1;32m    676\u001b[0m         }\n\u001b[1;32m    677\u001b[0m         request_dict = self._convert_to_request_dict(\n\u001b[0;32m--> 678\u001b[0;31m             api_params, operation_model, context=request_context)\n\u001b[0m\u001b[1;32m    679\u001b[0m \u001b[0;34m\u001b[0m\u001b[0m\n\u001b[1;32m    680\u001b[0m         \u001b[0mservice_id\u001b[0m \u001b[0;34m=\u001b[0m \u001b[0mself\u001b[0m\u001b[0;34m.\u001b[0m\u001b[0m_service_model\u001b[0m\u001b[0;34m.\u001b[0m\u001b[0mservice_id\u001b[0m\u001b[0;34m.\u001b[0m\u001b[0mhyphenize\u001b[0m\u001b[0;34m(\u001b[0m\u001b[0;34m)\u001b[0m\u001b[0;34m\u001b[0m\u001b[0;34m\u001b[0m\u001b[0m\n",
      "\u001b[0;32m~/anaconda3/envs/python3/lib/python3.6/site-packages/botocore/client.py\u001b[0m in \u001b[0;36m_convert_to_request_dict\u001b[0;34m(self, api_params, operation_model, context)\u001b[0m\n\u001b[1;32m    724\u001b[0m             api_params, operation_model, context)\n\u001b[1;32m    725\u001b[0m         request_dict = self._serializer.serialize_to_request(\n\u001b[0;32m--> 726\u001b[0;31m             api_params, operation_model)\n\u001b[0m\u001b[1;32m    727\u001b[0m         \u001b[0;32mif\u001b[0m \u001b[0;32mnot\u001b[0m \u001b[0mself\u001b[0m\u001b[0;34m.\u001b[0m\u001b[0m_client_config\u001b[0m\u001b[0;34m.\u001b[0m\u001b[0minject_host_prefix\u001b[0m\u001b[0;34m:\u001b[0m\u001b[0;34m\u001b[0m\u001b[0;34m\u001b[0m\u001b[0m\n\u001b[1;32m    728\u001b[0m             \u001b[0mrequest_dict\u001b[0m\u001b[0;34m.\u001b[0m\u001b[0mpop\u001b[0m\u001b[0;34m(\u001b[0m\u001b[0;34m'host_prefix'\u001b[0m\u001b[0;34m,\u001b[0m \u001b[0;32mNone\u001b[0m\u001b[0;34m)\u001b[0m\u001b[0;34m\u001b[0m\u001b[0;34m\u001b[0m\u001b[0m\n",
      "\u001b[0;32m~/anaconda3/envs/python3/lib/python3.6/site-packages/botocore/validate.py\u001b[0m in \u001b[0;36mserialize_to_request\u001b[0;34m(self, parameters, operation_model)\u001b[0m\n\u001b[1;32m    317\u001b[0m                                                     operation_model.input_shape)\n\u001b[1;32m    318\u001b[0m             \u001b[0;32mif\u001b[0m \u001b[0mreport\u001b[0m\u001b[0;34m.\u001b[0m\u001b[0mhas_errors\u001b[0m\u001b[0;34m(\u001b[0m\u001b[0;34m)\u001b[0m\u001b[0;34m:\u001b[0m\u001b[0;34m\u001b[0m\u001b[0;34m\u001b[0m\u001b[0m\n\u001b[0;32m--> 319\u001b[0;31m                 \u001b[0;32mraise\u001b[0m \u001b[0mParamValidationError\u001b[0m\u001b[0;34m(\u001b[0m\u001b[0mreport\u001b[0m\u001b[0;34m=\u001b[0m\u001b[0mreport\u001b[0m\u001b[0;34m.\u001b[0m\u001b[0mgenerate_report\u001b[0m\u001b[0;34m(\u001b[0m\u001b[0;34m)\u001b[0m\u001b[0;34m)\u001b[0m\u001b[0;34m\u001b[0m\u001b[0;34m\u001b[0m\u001b[0m\n\u001b[0m\u001b[1;32m    320\u001b[0m         return self._serializer.serialize_to_request(parameters,\n\u001b[1;32m    321\u001b[0m                                                      operation_model)\n",
      "\u001b[0;31mParamValidationError\u001b[0m: Parameter validation failed:\nInvalid type for parameter Body, value: [0, 0, 0, 0, 0, 0, 0, 0, 0, 0, 0, 0, 0, 0, 0, 0, 0, 0, 0, 0, 0, 0, 0, 0, 0, 0, 0, 0, 0, 0, 0, 0, 0, 0, 0, 0, 0, 0, 0, 0, 0, 0, 0, 0, 0, 0, 0, 0, 0, 0, 0, 0, 0, 0, 0, 0, 0, 0, 0, 0, 0, 0, 0, 0, 0, 0, 0, 0, 0, 0, 0, 0, 0, 0, 0, 0, 0, 0, 0, 0, 0, 0, 0, 0, 0, 0, 0, 0, 0, 0, 0, 0, 0, 0, 0, 0, 0, 0, 0, 0, 0, 0, 0, 0, 0, 0, 0, 0, 0, 0, 0, 0, 0, 0, 0, 0, 0, 0, 0, 0, 0, 0, 0, 0, 0, 0, 0, 0, 0, 0, 0, 0, 0, 0, 0, 0, 0, 0, 0, 0, 0, 0, 0, 0, 0, 0, 0, 0, 0, 0, 0, 0, 0, 0, 0, 0, 0, 0, 0, 0, 0, 0, 0, 0, 0, 0, 0, 0, 0, 0, 0, 0, 0, 0, 0, 0, 0, 0, 0, 0, 0, 0, 0, 0, 0, 0, 0, 0, 0, 0, 0, 0, 0, 0, 0, 0, 0, 0, 0, 0, 0, 0, 0, 0, 0, 0, 0, 0, 0, 0, 0, 0, 0, 0, 0, 0, 0, 0, 0, 0, 0, 0, 0, 0, 0, 0, 1, 0, 0, 0, 0, 0, 0, 0, 0, 0, 0, 0, 0, 0, 0, 0, 0, 0, 0, 0, 0, 0, 0, 0, 0, 0, 0, 0, 0, 0, 1, 0, 0, 0, 0, 0, 0, 0, 0, 0, 0, 0, 0, 0, 0, 0, 0, 0, 0, 0, 0, 0, 0, 0, 0, 0, 0, 0, 0, 0, 0, 0, 0, 0, 0, 0, 0, 0, 0, 0, 0, 0, 0, 0, 0, 0, 0, 0, 0, 0, 0, 0, 0, 0, 0, 0, 0, 0, 0, 0, 0, 0, 0, 0, 0, 0, 0, 0, 0, 0, 0, 0, 0, 0, 0, 0, 0, 0, 0, 0, 0, 0, 0, 0, 0, 0, 0, 0, 0, 0, 0, 0, 0, 0, 0, 0, 0, 0, 0, 0, 0, 0, 0, 0, 0, 0, 0, 0, 0, 0, 0, 0, 0, 0, 0, 0, 0, 0, 0, 0, 0, 0, 0, 0, 0, 0, 0, 0, 0, 0, 0, 0, 0, 0, 0, 0, 0, 0, 0, 0, 0, 0, 0, 0, 0, 0, 0, 0, 0, 0, 0, 0, 0, 0, 0, 0, 0, 0, 0, 0, 0, 0, 0, 0, 0, 0, 0, 0, 0, 0, 0, 0, 0, 0, 0, 0, 0, 0, 0, 0, 0, 0, 0, 0, 0, 0, 0, 0, 0, 0, 0, 0, 0, 0, 0, 0, 0, 0, 0, 0, 0, 0, 0, 0, 0, 0, 0, 0, 0, 0, 0, 0, 0, 0, 0, 0, 0, 0, 0, 0, 0, 0, 0, 0, 0, 0, 0, 0, 0, 0, 0, 0, 0, 0, 0, 0, 0, 0, 0, 0, 0, 0, 0, 0, 0, 0, 0, 0, 0, 0, 0, 0, 0, 0, 0, 0, 0, 0, 0, 0, 0, 0, 0, 0, 0, 0, 0, 0, 0, 0, 0, 0, 0, 0, 0, 0, 0, 0, 0, 0, 0, 0, 0, 0, 0, 0, 0, 0, 0, 0, 0, 0, 0, 0, 0, 0, 0, 0, 0, 0, 0, 0, 0, 0, 0, 0, 0, 0, 0, 0, 0, 0, 0, 0, 0, 0, 0, 0, 0, 0, 0, 0, 0, 0, 0, 0, 0, 0, 0, 0, 0, 0, 0, 0, 0, 0, 0, 0, 0, 0, 0, 0, 0, 0, 0, 0, 0, 0, 0, 0, 0, 0, 0, 0, 0, 0, 0, 0, 0, 0, 0, 0, 0, 0, 0, 0, 0, 0, 0, 0, 0, 0, 0, 0, 0, 0, 0, 0, 0, 0, 1, 0, 0, 0, 0, 0, 0, 0, 0, 0, 0, 0, 0, 0, 0, 0, 0, 0, 0, 0, 0, 0, 0, 0, 0, 0, 0, 0, 0, 0, 0, 0, 0, 0, 0, 0, 0, 0, 0, 0, 0, 0, 0, 0, 0, 0, 0, 0, 0, 0, 0, 0, 0, 0, 0, 0, 0, 0, 0, 0, 0, 0, 0, 0, 0, 0, 0, 0, 0, 0, 0, 0, 0, 0, 0, 0, 0, 0, 0, 0, 0, 0, 0, 0, 0, 0, 0, 0, 0, 0, 0, 0, 0, 0, 0, 0, 0, 0, 0, 0, 0, 0, 0, 0, 0, 0, 0, 0, 0, 0, 0, 0, 0, 0, 0, 0, 0, 0, 0, 0, 0, 0, 0, 0, 0, 0, 0, 0, 0, 0, 0, 0, 0, 0, 0, 0, 0, 0, 0, 0, 0, 0, 0, 0, 0, 0, 0, 0, 0, 0, 0, 0, 0, 0, 0, 0, 0, 0, 0, 0, 0, 0, 0, 0, 0, 0, 0, 0, 0, 0, 0, 0, 0, 0, 0, 0, 0, 0, 0, 0, 0, 0, 0, 0, 0, 0, 0, 0, 0, 0, 0, 0, 0, 0, 0, 0, 0, 0, 0, 0, 0, 0, 0, 0, 0, 0, 0, 0, 0, 0, 0, 0, 0, 0, 0, 0, 0, 0, 0, 0, 0, 0, 0, 0, 0, 0, 0, 0, 0, 0, 0, 0, 0, 0, 0, 0, 0, 0, 0, 0, 0, 0, 0, 0, 0, 0, 0, 0, 0, 0, 0, 0, 0, 0, 1, 0, 0, 0, 0, 0, 0, 0, 0, 0, 0, 0, 0, 0, 0, 0, 0, 0, 0, 0, 0, 0, 0, 0, 0, 0, 0, 0, 0, 0, 0, 0, 0, 0, 0, 0, 0, 0, 0, 0, 0, 0, 0, 0, 0, 0, 0, 0, 0, 0, 0, 0, 0, 0, 0, 0, 0, 0, 0, 0, 0, 0, 0, 0, 0, 0, 0, 0, 0, 0, 0, 0, 0, 0, 0, 0, 0, 0, 0, 0, 0, 0, 0, 0, 0, 0, 0, 1, 0, 0, 0, 0, 0, 0, 0, 0, 0, 0, 0, 0, 0, 0, 0, 0, 0, 0, 0, 0, 0, 0, 0, 0, 0, 0, 0, 0, 0, 0, 0, 0, 0, 0, 0, 0, 0, 0, 0, 0, 0, 0, 0, 0, 0, 0, 0, 0, 0, 0, 0, 0, 0, 0, 0, 0, 0, 0, 0, 0, 0, 0, 0, 0, 0, 0, 0, 0, 0, 0, 0, 0, 0, 0, 0, 0, 0, 0, 0, 0, 0, 0, 0, 0, 0, 0, 0, 0, 0, 0, 0, 0, 0, 0, 0, 0, 0, 0, 0, 0, 0, 0, 0, 0, 0, 0, 0, 0, 0, 0, 0, 0, 0, 0, 0, 0, 0, 0, 0, 0, 0, 0, 0, 0, 0, 0, 0, 0, 0, 0, 0, 0, 0, 0, 0, 0, 0, 0, 0, 0, 0, 0, 0, 0, 0, 0, 0, 0, 0, 0, 0, 0, 0, 0, 0, 0, 0, 0, 0, 0, 0, 0, 0, 0, 0, 0, 0, 0, 0, 0, 0, 0, 0, 0, 0, 0, 0, 0, 0, 0, 0, 0, 0, 0, 0, 0, 0, 0, 0, 0, 0, 0, 0, 0, 0, 0, 0, 0, 0, 0, 0, 0, 0, 0, 0, 0, 0, 0, 0, 0, 0, 0, 0, 0, 0, 0, 0, 0, 0, 0, 0, 0, 0, 0, 0, 0, 0, 0, 0, 0, 0, 0, 0, 0, 0, 0, 0, 0, 0, 0, 0, 0, 0, 0, 0, 0, 0, 0, 0, 0, 0, 0, 1, 0, 0, 0, 0, 0, 0, 0, 0, 0, 0, 0, 0, 0, 0, 0, 0, 0, 0, 0, 0, 0, 0, 0, 0, 0, 0, 0, 0, 0, 0, 0, 0, 0, 0, 0, 0, 0, 0, 0, 0, 0, 0, 0, 0, 0, 0, 0, 0, 0, 0, 0, 0, 0, 0, 0, 1, 0, 0, 0, 0, 0, 0, 0, 0, 0, 0, 0, 0, 0, 0, 0, 0, 0, 0, 0, 0, 0, 0, 0, 0, 0, 0, 0, 0, 0, 0, 0, 0, 0, 0, 0, 0, 0, 0, 0, 0, 0, 0, 0, 0, 0, 0, 0, 0, 0, 0, 0, 0, 0, 0, 0, 0, 0, 0, 0, 0, 0, 0, 0, 0, 0, 0, 0, 0, 0, 0, 0, 0, 0, 0, 0, 0, 0, 0, 0, 0, 0, 0, 0, 0, 0, 0, 0, 0, 0, 0, 0, 0, 0, 0, 0, 0, 0, 0, 0, 0, 0, 0, 0, 0, 0, 0, 0, 0, 0, 0, 0, 0, 0, 0, 0, 0, 0, 0, 0, 0, 0, 0, 0, 0, 0, 0, 0, 0, 0, 0, 0, 0, 0, 0, 0, 0, 0, 0, 0, 0, 0, 0, 0, 0, 0, 0, 0, 0, 0, 0, 0, 0, 0, 0, 0, 0, 0, 0, 0, 0, 0, 0, 0, 0, 0, 0, 0, 0, 0, 0, 0, 0, 0, 0, 0, 0, 0, 0, 0, 0, 0, 0, 0, 0, 0, 0, 0, 0, 0, 0, 0, 0, 0, 0, 0, 0, 0, 0, 0, 0, 0, 0, 0, 0, 0, 0, 0, 0, 0, 0, 0, 0, 0, 0, 0, 0, 0, 0, 0, 0, 0, 0, 0, 0, 0, 0, 0, 0, 0, 0, 0, 0, 0, 0, 0, 0, 0, 0, 0, 0, 0, 0, 0, 0, 0, 0, 0, 0, 0, 0, 0, 0, 0, 0, 0, 0, 0, 0, 0, 0, 0, 0, 0, 0, 0, 0, 0, 0, 0, 0, 0, 0, 0, 0, 0, 0, 0, 0, 0, 0, 0, 0, 0, 0, 0, 0, 0, 0, 0, 0, 0, 0, 0, 0, 0, 0, 0, 0, 0, 0, 0, 0, 0, 0, 0, 0, 0, 0, 0, 0, 0, 0, 0, 0, 0, 0, 0, 0, 0, 0, 0, 0, 0, 0, 0, 0, 0, 0, 0, 0, 0, 0, 0, 0, 0, 0, 0, 0, 0, 0, 0, 0, 0, 0, 0, 0, 0, 0, 0, 0, 0, 0, 0, 0, 0, 0, 0, 0, 0, 0, 0, 0, 0, 0, 0, 0, 0, 0, 0, 0, 0, 0, 0, 0, 0, 0, 0, 0, 0, 0, 0, 0, 0, 0, 0, 0, 0, 0, 0, 0, 0, 0, 0, 0, 0, 0, 0, 0, 0, 0, 0, 0, 0, 0, 0, 0, 0, 0, 0, 0, 0, 0, 0, 0, 0, 0, 0, 0, 0, 0, 0, 0, 0, 0, 0, 0, 0, 0, 0, 0, 0, 0, 0, 0, 0, 0, 0, 0, 0, 0, 0, 0, 0, 0, 0, 0, 0, 0, 0, 0, 0, 0, 0, 0, 0, 0, 0, 0, 0, 0, 0, 0, 0, 0, 0, 0, 0, 0, 0, 0, 0, 0, 0, 0, 0, 0, 0, 0, 0, 0, 0, 0, 0, 0, 0, 0, 0, 0, 0, 0, 0, 0, 0, 0, 0, 0, 0, 0, 0, 0, 0, 0, 0, 0, 0, 0, 0, 0, 0, 0, 0, 0, 0, 0, 0, 0, 0, 0, 0, 0, 0, 0, 0, 0, 0, 0, 0, 0, 0, 0, 0, 0, 0, 0, 0, 0, 0, 0, 0, 0, 0, 0, 0, 0, 0, 0, 0, 0, 0, 0, 0, 0, 0, 0, 0, 0, 0, 0, 0, 0, 0, 0, 0, 0, 0, 0, 0, 0, 0, 0, 0, 0, 0, 0, 0, 0, 0, 0, 0, 0, 0, 0, 0, 0, 0, 0, 0, 0, 0, 0, 0, 0, 0, 0, 0, 0, 0, 0, 0, 0, 0, 0, 0, 0, 0, 0, 0, 0, 0, 0, 0, 0, 0, 0, 0, 0, 0, 0, 0, 0, 0, 0, 0, 0, 0, 0, 0, 0, 0, 0, 0, 0, 0, 0, 0, 0, 0, 0, 0, 0, 0, 0, 0, 0, 0, 0, 0, 0, 0, 0, 0, 0, 0, 0, 0, 0, 0, 0, 0, 0, 0, 0, 0, 0, 0, 0, 0, 0, 0, 0, 0, 0, 0, 0, 0, 0, 0, 0, 0, 0, 0, 1, 0, 0, 0, 0, 0, 0, 0, 0, 0, 0, 0, 0, 0, 0, 0, 0, 0, 0, 0, 0, 0, 0, 0, 0, 0, 0, 0, 0, 0, 0, 0, 0, 0, 0, 0, 0, 0, 0, 0, 0, 0, 0, 0, 0, 0, 0, 0, 0, 0, 0, 0, 0, 0, 0, 0, 0, 0, 0, 0, 0, 0, 0, 0, 0, 0, 0, 0, 0, 0, 0, 0, 0, 0, 0, 1, 0, 0, 0, 0, 0, 0, 0, 0, 0, 0, 0, 0, 0, 0, 0, 0, 0, 0, 0, 0, 1, 0, 0, 1, 0, 0, 0, 0, 0, 0, 0, 0, 0, 0, 0, 0, 0, 0, 0, 0, 0, 0, 0, 0, 0, 0, 0, 0, 0, 0, 0, 0, 0, 0, 0, 0, 0, 0, 0, 0, 0, 0, 0, 0, 0, 0, 0, 0, 0, 0, 0, 0, 0, 0, 0, 0, 0, 0, 0, 0, 0, 0, 0, 0, 0, 0, 0, 0, 0, 0, 0, 0, 0, 0, 0, 0, 0, 0, 0, 0, 0, 0, 0, 0, 0, 0, 0, 0, 0, 0, 0, 0, 0, 0, 0, 0, 0, 0, 0, 0, 0, 0, 0, 0, 0, 0, 0, 0, 0, 0, 0, 0, 0, 0, 0, 0, 0, 0, 0, 0, 0, 0, 0, 0, 0, 0, 0, 0, 0, 0, 0, 0, 0, 0, 0, 0, 0, 0, 0, 0, 0, 0, 0, 0, 0, 0, 0, 0, 0, 0, 0, 0, 0, 0, 0, 0, 0, 0, 0, 0, 0, 0, 0, 0, 0, 0, 0, 0, 0, 0, 0, 0, 0, 0, 0, 0, 0, 0, 0, 0, 0, 0, 0, 0, 0, 0, 0, 0, 0, 0, 0, 0, 0, 0, 0, 0, 0, 0, 0, 0, 0, 0, 0, 0, 0, 0, 0, 0, 0, 0, 0, 0, 0, 0, 0, 0, 0, 0, 0, 0, 0, 0, 0, 0, 0, 0, 0, 0, 0, 0, 0, 0, 0, 0, 0, 0, 0, 0, 0, 0, 0, 0, 0, 0, 0, 0, 0, 0, 0, 0, 0, 0, 0, 0, 0, 0, 0, 0, 0, 0, 0, 0, 0, 0, 0, 0, 0, 0, 0, 0, 0, 0, 0, 0, 0, 0, 0, 0, 0, 0, 0, 0, 0, 0, 0, 0, 0, 0, 0, 0, 0, 0, 0, 0, 0, 0, 0, 0, 0, 0, 0, 0, 0, 0, 0, 0, 0, 0, 0, 0, 0, 0, 0, 0, 0, 0, 0, 0, 0, 0, 0, 0, 0, 0, 0, 0, 0, 0, 0, 0, 0, 0, 0, 0, 0, 0, 0, 0, 0, 0, 0, 0, 0, 0, 0, 0, 0, 0, 0, 0, 0, 0, 0, 0, 0, 0, 0, 0, 0, 0, 0, 0, 0, 0, 0, 0, 0, 0, 0, 0, 0, 0, 0, 0, 0, 0, 0, 0, 0, 0, 0, 0, 0, 0, 0, 0, 0, 0, 0, 0, 0, 0, 0, 0, 0, 0, 0, 0, 0, 0, 0, 0, 0, 0, 0, 0, 0, 0, 0, 0, 0, 0, 0, 0, 0, 0, 0, 0, 0, 0, 0, 0, 0, 0, 0, 0, 0, 0, 0, 0, 0, 0, 0, 0, 0, 0, 0, 0, 0, 0, 0, 0, 0, 0, 0, 0, 0, 0, 0, 0, 0, 0, 0, 0, 0, 0, 0, 0, 0, 0, 0, 0, 0, 0, 0, 0, 0, 0, 0, 0, 1, 0, 0, 0, 0, 0, 0, 0, 0, 0, 0, 0, 0, 0, 0, 0, 0, 0, 0, 0, 0, 0, 0, 0, 0, 0, 0, 0, 0, 0, 0, 0, 0, 0, 0, 0, 0, 0, 0, 0, 0, 0, 0, 0, 0, 0, 0, 0, 0, 0, 0, 0, 0, 0, 0, 0, 0, 0, 0, 0, 0, 0, 0, 0, 0, 0, 0, 0, 0, 0, 0, 0, 0, 0, 0, 0, 0, 0, 0, 0, 0, 0, 0, 0, 0, 0, 0, 0, 0, 0, 0, 0, 0, 0, 0, 0, 0, 0, 0, 0, 0, 0, 0, 0, 0, 0, 0, 0, 0, 0, 0, 0, 0, 0, 0, 0, 0, 0, 0, 0, 0, 0, 0, 0, 0, 0, 0, 0, 0, 0, 0, 0, 0, 0, 0, 0, 0, 0, 0, 0, 0, 0, 0, 0, 0, 0, 0, 0, 0, 0, 0, 0, 0, 0, 0, 0, 0, 0, 0, 0, 0, 0, 0, 0, 0, 0, 0, 0, 0, 0, 0, 0, 0, 0, 0, 0, 0, 0, 0, 0, 0, 0, 0, 0, 0, 0, 0, 0, 0, 0, 0, 0, 0, 0, 0, 0, 0, 0, 0, 0, 0, 0, 0, 0, 0, 0, 0, 0, 0, 0, 0, 0, 0, 0, 0, 0, 0, 0, 0, 0, 0, 0, 0, 0, 0, 0, 0, 0, 0, 0, 0, 0, 0, 0, 0, 0, 0, 0, 0, 0, 0, 0, 0, 0, 0, 0, 0, 0, 0, 0, 0, 0, 0, 0, 0, 0, 0, 0, 0, 0, 0, 0, 0, 0, 0, 0, 0, 0, 0, 0, 0, 0, 0, 0, 0, 0, 0, 0, 0, 0, 0, 0, 0, 0, 0, 0, 0, 0, 0, 0, 0, 0, 0, 0, 0, 0, 0, 0, 0, 0, 0, 0, 0, 0, 0, 0, 0, 0, 0, 0, 0, 0, 0, 0, 0, 0, 0, 0, 0, 0, 0, 0, 0, 0, 0, 0, 0, 0, 0, 0, 0, 0, 0, 0, 0, 0, 0, 0, 0, 0, 0, 0, 0, 0, 0, 0, 0, 0, 0, 0, 0, 0, 0, 0, 0, 0, 0, 0, 0, 0, 0, 0, 0, 0, 0, 0, 0, 0, 0, 0, 0, 0, 0, 0, 0, 0, 0, 0, 0, 0, 0, 0, 0, 0, 0, 0, 0, 0, 0, 0, 0, 0, 0, 0, 0, 0, 0, 0, 0, 0, 0, 0, 0, 0, 0, 0, 0, 0, 0, 0, 0, 0, 0, 0, 0, 0, 0, 0, 0, 0, 0, 0, 0, 0, 0, 0, 0, 0, 0, 0, 0, 0, 0, 0, 0, 0, 0, 0, 0, 0, 0, 0, 0, 0, 0, 0, 0, 0, 0, 0, 0, 0, 0, 0, 0, 0, 0, 0, 0, 0, 0, 0, 0, 0, 0, 0, 0, 0, 0, 0, 0, 0, 0, 0, 0, 0, 0, 0, 0, 0, 0, 0, 0, 0, 0, 0, 0, 0, 0, 0, 0, 0, 0, 0, 0, 0, 0, 0, 0, 0, 0, 0, 0, 0, 0, 0, 0, 0, 0, 0, 0, 0, 0, 1, 0, 0, 0, 0, 0, 0, 0, 0, 0, 0, 0, 0, 0, 0, 0, 0, 0, 0, 0, 0, 0, 0, 0, 0, 0, 0, 0, 0, 0, 0, 0, 0, 0, 0, 0, 2, 0, 0, 0, 0, 0, 0, 0, 0, 0, 0, 0, 0, 0, 0, 0, 0, 0, 0, 0, 0, 0, 0, 0, 0, 0, 0, 0, 0, 0, 0, 0, 0, 0, 0, 0, 0, 0, 0, 0, 0, 1, 0, 0, 0, 0, 0, 0, 0, 0, 0, 0, 0, 0, 0, 0, 0, 0, 0, 0, 0, 0, 0, 0, 0, 0, 0, 0, 0, 0, 0, 0, 0, 0, 0, 0, 0, 0, 0, 0, 0, 0, 0, 0, 0, 0, 0, 0, 0, 0, 0, 0, 0, 0, 0, 0, 0, 0, 0, 0, 0, 0, 0, 0, 0, 0, 0, 0, 0, 0, 0, 0, 0, 0, 0, 0, 0, 0, 0, 0, 0, 0, 0, 0, 0, 0, 0, 0, 0, 0, 0, 0, 0, 0, 0, 0, 0, 0, 0, 0, 0, 0, 0, 0, 0, 0, 0, 0, 0, 0, 0, 0, 0, 0, 0, 0, 0, 0, 0, 0, 0, 0, 0, 0, 0, 0, 0, 0, 0, 0, 0, 0, 0, 0, 0, 0, 0, 0, 0, 0, 0, 0, 0, 0, 0, 0, 0, 0, 0, 0, 0, 0, 0, 0, 0, 0, 0, 0, 0, 0, 0, 0, 0, 0, 0, 0, 0, 0, 0, 0, 0, 0, 0, 0, 0, 0, 0, 0, 0, 0, 0, 0, 0, 0, 0, 0, 0, 0, 0, 0, 0, 0, 0, 0, 0, 0, 0, 0, 0, 0, 0, 0, 0, 0, 0, 0, 0, 0, 0, 0, 0, 0, 0, 0, 0, 0, 0, 0, 0, 0, 0, 0, 0, 0, 0, 0, 0, 0, 0, 0, 0, 0, 0, 0, 0, 0, 0, 0, 0, 0, 0, 0, 0, 0, 0, 0, 0, 0, 0, 0, 0, 0, 0, 0, 0, 0, 0, 0, 0, 0, 0, 0, 0, 0, 0, 0, 0, 0, 0, 0, 0, 0, 0, 0, 0, 0, 0, 0, 0, 0, 0, 0, 0, 0, 0, 0, 0, 0, 0, 0, 0, 0, 0, 0, 0, 0, 0, 0, 0, 0, 0, 0, 0, 0, 0, 0, 0, 0, 0, 0, 0, 0, 0, 0, 0, 0, 0, 0, 0, 0, 0, 0, 0, 0, 0, 0, 0, 0, 0, 0, 0, 0, 0, 0, 0, 0, 0, 0, 0, 0, 0, 0, 0, 0, 0, 0, 0, 0, 0, 0, 0, 0, 0, 0, 0, 0, 0, 0, 0, 0, 0, 0, 0, 0, 0, 0, 0, 0, 0, 0, 0, 0, 0, 0, 0, 0, 0, 0, 0, 0, 0, 0, 0, 0, 0, 0, 0, 0, 0, 0, 0, 0, 0, 0, 0, 0, 0, 0, 0, 0, 0, 0, 0, 0, 0, 0, 0, 0, 0, 0, 0, 0, 0, 0, 0, 0, 0, 0, 0, 0, 0, 0, 0, 0, 0, 0, 0, 0, 0, 0, 0, 0, 0, 0, 0, 0, 0, 0, 0, 0, 0, 0, 0, 0, 0, 0, 0, 0, 0, 0, 0, 0, 0, 0, 0, 0, 0, 0, 0, 0, 0, 0, 0, 0, 0, 0, 0, 0, 0, 0, 0, 0, 0, 0, 0, 0, 0, 0, 0, 0, 0, 0, 0, 0, 0, 0, 0, 0, 0, 0, 0, 0, 0, 0, 0, 0, 0, 0, 0, 1, 0, 0, 0, 0, 0, 0, 0, 0, 0, 0, 0, 0, 0, 0, 0, 0, 0, 0, 0, 0, 0, 0, 0, 0, 0, 0, 0, 0, 0, 0, 0, 0, 0, 0, 0, 0, 0, 0, 0, 0, 0, 0, 0, 0, 0, 0, 0, 0, 0, 0, 0, 0, 0, 0, 0, 0, 0, 0, 0, 0, 0, 0, 0, 0, 0, 0, 0, 0, 0, 0, 0, 0, 0, 0, 0, 0, 0, 0, 0, 0, 0, 0, 0, 0, 0, 0, 0, 0, 0, 0, 0, 0, 0, 0, 0, 0, 0, 0, 0, 0, 0, 0, 0, 0, 0, 0, 0, 0, 0, 0, 2, 0, 0, 0, 0, 0, 0, 0, 0, 0, 0, 0, 0, 0, 0, 0, 0, 0, 0, 0, 0, 0, 0, 0, 0, 0, 0, 0, 0, 0, 0, 0, 0, 0, 0, 0, 0, 0, 0, 0, 0, 0, 0, 0, 0, 0, 0, 0, 0, 0, 0, 0, 0, 0, 0, 0, 0, 0, 0, 0, 0, 0, 0, 0, 0, 0, 0, 0, 0, 0, 0, 0, 0, 0, 0, 0, 0, 0, 0, 0, 0, 0, 0, 0, 0, 0, 0, 0, 0, 0, 0, 0, 0, 0, 0, 0, 0, 0, 0, 0, 0, 0, 0, 0, 0, 0, 0, 0, 0, 0, 0, 0, 0, 0, 0, 0, 0, 0, 0, 0, 0, 0, 0, 0, 0, 0, 0, 0, 0, 0, 0, 0, 0, 0, 0, 0, 0, 0, 0, 0, 0, 0, 0, 0, 0, 0, 0, 0, 0, 0, 0, 0, 0, 0, 0, 0, 0, 0, 0, 0, 0, 0, 0, 0, 0, 0, 0, 0, 0, 0, 0, 0, 0, 0, 0, 0, 0, 0, 0, 0, 0, 0, 0, 0, 0, 0, 0, 0, 0, 0, 0, 0, 0, 0, 0, 0, 0, 0, 0, 0, 0, 0, 0, 0, 0, 0, 0, 0, 0, 0, 0, 0, 0, 0, 0, 0, 0, 0, 0, 0, 0, 0, 0, 0, 0, 0, 0, 0, 0, 0, 0, 0, 0, 0, 0, 0, 0, 0, 0, 0, 0, 0, 0, 0, 0, 0, 0, 0, 0, 0, 0, 0, 0, 0, 0, 0, 0, 0, 0, 0, 0, 0, 0, 0, 0, 0, 0, 0, 0, 0, 0, 0, 0, 0, 0, 0, 0, 0, 0, 0, 0, 0, 0, 0, 0, 0, 0, 0, 0, 0, 0, 0, 0, 0, 0, 0, 0, 0, 0, 0, 0, 0, 0, 0, 0, 0, 0, 0, 0, 0, 0, 0, 0, 0, 0, 0, 0, 0, 0, 0, 0, 0, 0, 0, 0, 0, 0, 0, 0, 0, 0, 0, 0, 0, 0, 0, 0, 0, 0, 0, 0, 0, 0, 0, 0, 0, 0, 0, 0, 0, 0, 0, 0, 0, 0, 0, 0, 0, 0, 0, 0, 0, 0, 0, 0, 0, 0, 0, 0, 0, 0, 0, 0, 0, 0, 0, 0, 0, 0, 0, 0, 0, 0, 0, 0, 0, 0, 0, 0, 0, 0, 0, 0, 0, 0, 0, 0, 0, 0, 0, 0, 0, 0, 0, 0, 0, 0, 0, 0, 0, 0, 0, 0, 0, 0, 0, 0, 0, 0, 0, 0, 0, 0, 0, 0, 0, 0, 0, 0, 0, 0, 0, 0, 0, 0, 0, 0, 0, 0, 0, 0, 0, 0, 0, 0, 0, 0, 0, 0, 0, 0, 0, 0, 0, 0, 0, 0, 0, 0, 0, 0, 0, 0, 0, 0, 0, 0, 0, 0, 0, 0, 0, 0, 0, 0, 0, 0, 0, 0, 0, 0, 0, 0, 0, 0, 0, 0, 0, 0, 0, 0, 0, 0, 0, 0, 0, 0, 0, 0, 0, 0, 0, 0, 0, 0, 0, 0, 0, 0, 0, 0, 0, 0, 0, 0, 0, 0, 0, 0, 0, 0, 0, 0, 0, 0, 0, 0, 0, 0, 0, 0, 0, 0, 0, 0, 0, 0, 0, 0, 0, 0, 0, 0, 0, 0, 0, 0, 0, 0, 0, 0, 0, 0, 0, 0, 0, 0, 0, 0, 0, 0, 0, 0, 0, 0, 0, 0, 0, 0, 0, 0, 0, 0, 0, 0, 0, 0, 0, 0, 0, 0, 0, 0, 0, 0, 0, 0, 0, 0, 0, 0, 0, 0, 0, 0, 0, 0, 0, 0, 0, 0, 0, 0, 0, 0, 0, 0, 0, 0, 0, 0, 0, 0, 0, 0, 0, 0, 0, 0, 0, 0, 0, 0, 0, 0, 0, 0, 0, 0, 0, 0, 0, 0, 0, 0, 0, 0, 0, 0, 0, 0, 0, 0, 0, 0, 0, 0, 0, 0, 0, 0, 0, 0, 0, 0, 0, 0, 0, 0, 0, 0, 0, 0, 0, 0, 0, 0, 0, 0, 0, 0, 0, 0, 0, 0, 0, 0, 0, 0, 0, 0, 0, 0, 0, 0, 0, 0, 0, 0, 0, 0, 1, 0, 0, 0, 0, 0, 0, 0, 0, 0, 0, 0, 0, 0, 0, 0, 0, 0, 0, 0, 0, 0, 0, 0, 0, 0, 0, 0, 0, 0, 0, 0, 0, 0, 0, 0, 0, 0, 0, 0, 0, 0, 0, 0, 0, 0, 0, 0, 0, 0, 0, 0, 0, 0, 0, 0, 0, 0, 0, 0, 0, 0, 0, 0, 0, 0, 0, 0, 0, 0, 0, 0, 0, 0, 0, 0, 0, 0, 0, 0, 0, 0, 0, 0, 0, 0, 0, 0, 0, 0, 0, 0, 0, 0, 0, 0, 0, 0, 0, 0, 0, 0, 0, 0, 0, 0, 0, 0, 1, 0, 0, 0, 0, 0, 0, 0, 0, 0, 0, 0, 0, 0, 0, 0, 0, 0, 0, 0, 0, 0, 0, 0, 0, 0, 0, 0, 0, 0, 0, 0, 0, 0, 0, 0, 0, 0, 0, 0, 0, 0, 0, 0, 0, 0, 0, 0, 0, 0, 0, 0, 0, 0, 0, 0, 0, 0, 0, 0, 0, 0, 0, 0, 0, 0, 0, 0, 0, 0, 0, 0, 0, 0, 0, 0, 0, 0, 0, 0, 0, 0, 0, 0, 0, 0, 0, 0, 0, 0, 0, 0, 0, 0, 0, 0, 0, 0, 0, 0, 0, 0, 0, 0, 0, 0, 0, 0, 0, 0, 0, 0, 0, 0, 0, 0, 0, 0, 0, 0, 0, 0, 0, 0, 0, 0, 0, 0, 0, 0, 0, 0, 0, 0, 0, 0, 0, 0, 0, 0, 0, 0, 0, 0, 0, 0, 0, 0, 0, 0, 0, 0, 0, 0, 0, 0, 0, 0, 0, 0, 0, 0, 0, 0, 0, 0, 0, 0, 0, 0, 0, 0, 0, 0, 0, 0, 0, 0, 0, 0, 0, 0, 0, 0, 0, 0, 0, 0, 0, 0, 0, 0, 0, 0, 0, 0, 0, 0, 0, 0, 0, 0, 0, 0, 0, 0, 0, 0, 0, 0, 0, 0, 0, 0, 0, 0, 0, 0, 0, 0, 0, 0, 0, 0, 0, 0, 0, 0, 0, 0, 0, 0, 0, 0, 0, 0, 0, 0, 0, 0, 0, 0, 0, 0, 0, 0, 0, 0, 0, 0, 0, 0, 0, 0, 0, 0, 0, 0, 0, 0, 0, 0, 0, 0, 0, 0, 0, 0, 0, 0, 0, 0, 0, 0, 0, 0, 0, 0, 0, 0, 0, 0, 0, 0, 0, 0, 0, 0, 0, 0, 0, 0, 0, 0, 0, 0, 0, 0, 0, 0, 0, 0, 0, 0, 0, 0, 0, 0, 0, 0, 0, 0, 0, 0, 0, 0, 0, 0, 0, 0, 0, 0, 0, 0, 0, 0, 0, 0, 0, 0, 0, 0, 0, 0, 0, 0, 0, 0, 0, 0, 0, 0, 0, 0, 0, 0, 0, 0, 0, 0, 0, 0, 0, 0, 0, 0, 0, 0, 0, 0, 0, 0, 0, 0, 0, 0, 0, 0, 0, 0, 0, 0, 0, 0, 0, 0, 0, 0, 0, 0, 0, 0, 0, 0, 0, 0, 0, 0, 0, 0, 0, 0, 0, 0, 0, 0, 0, 0, 0, 0, 0, 0, 0, 0, 0, 0, 0, 0, 0, 0, 0, 0, 0, 0, 0, 0, 0, 0, 0, 0, 0, 0, 0, 0, 0, 0, 0, 0, 0, 0, 0, 0, 0, 0, 0, 0, 0, 0, 0, 0, 0, 0, 0, 0, 0, 0, 0, 0, 0, 0, 0, 0, 0, 0, 0, 0, 0, 0, 0, 0, 0, 0, 0, 0, 2, 0, 1, 0], type: <class 'list'>, valid types: <class 'bytes'>, <class 'bytearray'>, file-like object"
     ]
    }
   ],
   "source": [
    "response = runtime.invoke_endpoint(EndpointName = xgb_predictor.endpoint, # The name of the endpoint we created\n",
    "                                       ContentType = 'text/csv',                     # The data format that is expected\n",
    "                                       Body = test_bow)"
   ]
  },
  {
   "cell_type": "markdown",
   "metadata": {},
   "source": [
    "So why did we get an error?\n",
    "\n",
    "Because we tried to send the endpoint a list of integers but it expected us to send data of type `text/csv`. So, we need to convert it."
   ]
  },
  {
   "cell_type": "code",
   "execution_count": 48,
   "metadata": {},
   "outputs": [],
   "source": [
    "response = runtime.invoke_endpoint(EndpointName = xgb_predictor.endpoint, # The name of the endpoint we created\n",
    "                                       ContentType = 'text/csv',                     # The data format that is expected\n",
    "                                       Body = ','.join([str(val) for val in test_bow]).encode('utf-8'))"
   ]
  },
  {
   "cell_type": "code",
   "execution_count": 49,
   "metadata": {},
   "outputs": [
    {
     "name": "stdout",
     "output_type": "stream",
     "text": [
      "{'ResponseMetadata': {'RequestId': 'b9037b95-0ffb-47d9-975b-6eeb9caf6c4d', 'HTTPStatusCode': 200, 'HTTPHeaders': {'x-amzn-requestid': 'b9037b95-0ffb-47d9-975b-6eeb9caf6c4d', 'x-amzn-invoked-production-variant': 'AllTraffic', 'date': 'Wed, 30 Jun 2021 17:52:07 GMT', 'content-type': 'text/csv; charset=utf-8', 'content-length': '19'}, 'RetryAttempts': 0}, 'ContentType': 'text/csv; charset=utf-8', 'InvokedProductionVariant': 'AllTraffic', 'Body': <botocore.response.StreamingBody object at 0x7f4d5a77ba90>}\n"
     ]
    }
   ],
   "source": [
    "print(response)"
   ]
  },
  {
   "cell_type": "markdown",
   "metadata": {},
   "source": [
    "As we can see, the response from our model is a somewhat complicated looking dict that contains a bunch of information. The bit that we are most interested in is `'Body'` object which is a streaming object that we need to `read` in order to make use of."
   ]
  },
  {
   "cell_type": "code",
   "execution_count": 50,
   "metadata": {},
   "outputs": [
    {
     "name": "stdout",
     "output_type": "stream",
     "text": [
      "0.41569387912750244\n"
     ]
    }
   ],
   "source": [
    "response = response['Body'].read().decode('utf-8')\n",
    "print(response)"
   ]
  },
  {
   "cell_type": "markdown",
   "metadata": {},
   "source": [
    "Now that we know how to process the incoming user data we can start setting up the infrastructure to make our simple web app work. To do this we will make use of two different services. Amazon's Lambda and API Gateway services.\n",
    "\n",
    "Lambda is a service which allows someone to write some relatively simple code and have it executed whenever a chosen trigger occurs. For example, you may want to update a database whenever new data is uploaded to a folder stored on S3.\n",
    "\n",
    "API Gateway is a service that allows you to create HTTP endpoints (url addresses) which are connected to other AWS services. One of the benefits to this is that you get to decide what credentials, if any, are required to access these endpoints.\n",
    "\n",
    "In our case we are going to set up an HTTP endpoint through API Gateway which is open to the public. Then, whenever anyone sends data to our public endpoint we will trigger a Lambda function which will send the input (in our case a review) to our model's endpoint and then return the result."
   ]
  },
  {
   "cell_type": "markdown",
   "metadata": {},
   "source": [
    "### Setting up a Lambda function\n",
    "\n",
    "The first thing we are going to do is set up a Lambda function. This Lambda function will be executed whenever our public API has data sent to it. When it is executed it will receive the data, perform any sort of processing that is required, send the data (the review) to the SageMaker endpoint we've created and then return the result.\n",
    "\n",
    "#### Part A: Create an IAM Role for the Lambda function\n",
    "\n",
    "Since we want the Lambda function to call a SageMaker endpoint, we need to make sure that it has permission to do so. To do this, we will construct a role that we can later give the Lambda function.\n",
    "\n",
    "Using the AWS Console, navigate to the **IAM** page and click on **Roles**. Then, click on **Create role**. Make sure that the **AWS service** is the type of trusted entity selected and choose **Lambda** as the service that will use this role, then click **Next: Permissions**.\n",
    "\n",
    "In the search box type `sagemaker` and select the check box next to the **AmazonSageMakerFullAccess** policy. Then, click on **Next: Review**.\n",
    "\n",
    "Lastly, give this role a name. Make sure you use a name that you will remember later on, for example `LambdaSageMakerRole`. Then, click on **Create role**."
   ]
  },
  {
   "cell_type": "markdown",
   "metadata": {},
   "source": [
    "#### Part B: Create a Lambda function\n",
    "\n",
    "Now it is time to actually create the Lambda function. Remember from earlier that in order to process the user provided input and send it to our endpoint we need to gather two pieces of information:\n",
    "\n",
    " - The name of the endpoint, and\n",
    " - the vocabulary object.\n",
    "\n",
    "We will copy these pieces of information to our Lambda function after we create it.\n",
    "\n",
    "To start, using the AWS Console, navigate to the AWS Lambda page and click on **Create a function**. When you get to the next page, make sure that **Author from scratch** is selected. Now, name your Lambda function, using a name that you will remember later on, for example `sentiment_analysis_xgboost_func`. Make sure that the **Python 3.6** runtime is selected and then choose the role that you created in the previous part. Then, click on **Create Function**.\n",
    "\n",
    "On the next page you will see some information about the Lambda function you've just created. If you scroll down you should see an editor in which you can write the code that will be executed when your Lambda function is triggered. Collecting the code we wrote above to process a single review and adding it to the provided example `lambda_handler` we arrive at the following.\n",
    "\n",
    "```python\n",
    "# We need to use the low-level library to interact with SageMaker since the SageMaker API\n",
    "# is not available natively through Lambda.\n",
    "import boto3\n",
    "\n",
    "# And we need the regular expression library to do some of the data processing\n",
    "import re\n",
    "\n",
    "REPLACE_NO_SPACE = re.compile(\"(\\.)|(\\;)|(\\:)|(\\!)|(\\')|(\\?)|(\\,)|(\\\")|(\\()|(\\))|(\\[)|(\\])\")\n",
    "REPLACE_WITH_SPACE = re.compile(\"(<br\\s*/><br\\s*/>)|(\\-)|(\\/)\")\n",
    "\n",
    "def review_to_words(review):\n",
    "    words = REPLACE_NO_SPACE.sub(\"\", review.lower())\n",
    "    words = REPLACE_WITH_SPACE.sub(\" \", words)\n",
    "    return words\n",
    "    \n",
    "def bow_encoding(words, vocabulary):\n",
    "    bow = [0] * len(vocabulary) # Start by setting the count for each word in the vocabulary to zero.\n",
    "    for word in words.split():  # For each word in the string\n",
    "        if word in vocabulary:  # If the word is one that occurs in the vocabulary, increase its count.\n",
    "            bow[vocabulary[word]] += 1\n",
    "    return bow\n",
    "\n",
    "\n",
    "def lambda_handler(event, context):\n",
    "    \n",
    "    vocab = \"*** ACTUAL VOCABULARY GOES HERE ***\"\n",
    "    \n",
    "    words = review_to_words(event['body'])\n",
    "    bow = bow_encoding(words, vocab)\n",
    "\n",
    "    # The SageMaker runtime is what allows us to invoke the endpoint that we've created.\n",
    "    runtime = boto3.Session().client('sagemaker-runtime')\n",
    "\n",
    "    # Now we use the SageMaker runtime to invoke our endpoint, sending the review we were given\n",
    "    response = runtime.invoke_endpoint(EndpointName = '***ENDPOINT NAME HERE***',# The name of the endpoint we created\n",
    "                                       ContentType = 'text/csv',                 # The data format that is expected\n",
    "                                       Body = ','.join([str(val) for val in bow]).encode('utf-8')) # The actual review\n",
    "\n",
    "    # The response is an HTTP response whose body contains the result of our inference\n",
    "    result = response['Body'].read().decode('utf-8')\n",
    "    \n",
    "    # Round the result so that our web app only gets '1' or '0' as a response.\n",
    "    result = round(float(result))\n",
    "\n",
    "    return {\n",
    "        'statusCode' : 200,\n",
    "        'headers' : { 'Content-Type' : 'text/plain', 'Access-Control-Allow-Origin' : '*' },\n",
    "        'body' : str(result)\n",
    "    }\n",
    "```"
   ]
  },
  {
   "cell_type": "markdown",
   "metadata": {},
   "source": [
    "Once you have copy and pasted the code above into the Lambda code editor, replace the `**ENDPOINT NAME HERE**` portion with the name of the endpoint that we deployed earlier. You can determine the name of the endpoint using the code cell below."
   ]
  },
  {
   "cell_type": "code",
   "execution_count": 60,
   "metadata": {},
   "outputs": [
    {
     "data": {
      "text/plain": [
       "'xgboost-2021-06-30-14-55-12-457'"
      ]
     },
     "execution_count": 60,
     "metadata": {},
     "output_type": "execute_result"
    }
   ],
   "source": [
    "xgb_predictor.endpoint"
   ]
  },
  {
   "cell_type": "markdown",
   "metadata": {},
   "source": [
    "In addition, you will need to copy the vocabulary dict to the appropriate place in the code at the beginning of the `lambda_handler` method. The cell below prints out the vocabulary dict in a way that is easy to copy and paste."
   ]
  },
  {
   "cell_type": "code",
   "execution_count": 61,
   "metadata": {},
   "outputs": [
    {
     "name": "stdout",
     "output_type": "stream",
     "text": [
      "{'this': 4457, 'is': 2360, 'really': 3556, 'great': 1964, 'short': 3946, 'from': 1840, 'hal': 2006, 'because': 432, 'of': 3083, 'two': 4620, 'main': 2707, 'reasons': 3560, 'the': 4426, 'kids': 2467, 'in': 2257, 'are': 285, 'among': 217, 'to': 4507, 'have': 2052, 'ever': 1538, 'been': 438, 'on': 3105, 'film': 1716, 'and': 226, 'plot': 3309, 'has': 2043, 'so': 4046, 'many': 2732, 'funny': 1852, 'well': 4843, 'written': 4972, 'elements': 1443, 'as': 311, 'for': 1784, 'little': 2624, 'honestly': 2147, 'cant': 671, 'think': 4452, 'kid': 2464, 'than': 4420, 'at': 331, 'about': 67, 'age': 148, 'four': 1812, 'despite': 1211, 'being': 448, 'rather': 3528, 'later': 2525, 'years': 4979, 'he': 2056, 'was': 4805, 'just': 2437, 'precious': 3366, 'here': 2086, 'tiny': 4500, 'boy': 557, 'charge': 761, 'even': 1533, 'younger': 4990, 'not': 3040, 'only': 3110, 'but': 636, 'once': 3106, 'again': 146, 'high': 2100, 'cute': 1090, 'factor': 1622, 'after': 143, 'older': 3101, 'into': 2332, 'doing': 1312, 'awful': 372, 'job': 2405, 'all': 187, 'kinds': 2478, 'breaks': 571, 'loose': 2650, 'gags': 1862, 'pretty': 3384, 'effective': 1429, 'done': 1322, 'time': 4495, 'with': 4911, 'an': 223, 'call': 651, 'involving': 2349, 'murder': 2939, 'final': 1722, 'scene': 3809, 'where': 4864, 'finally': 1724, 'gets': 1900, 'control': 977, 'ones': 3108, 'most': 2909, 'memorable': 2802, 'havent': 2053, 'seen': 3865, 'these': 4441, 'shorts': 3948, 'decades': 1145, 'am': 204, 'glad': 1916, 'gave': 1875, 'one': 3107, 'chance': 747, 'like': 2599, 'good': 1937, 'times': 4497, 'those': 4460, 'classic': 835, 'american': 213, 'which': 4867, 'never': 3001, 'aired': 165, 'uk': 4626, 'mention': 2810, 'it': 2366, 'came': 656, 'out': 3141, '1970s': 17, 'decade': 1144, 'wasnt': 4807, 'born': 544, 'yet': 4984, 'fans': 1650, 'show': 3953, 'watched': 4813, 'few': 1700, 'episodes': 1508, 'you': 4986, 'afterwards': 145, 'loved': 2670, 'family': 1645, 'headed': 2058, 'by': 642, 'james': 2378, 'florida': 1761, 'parents': 3188, 'trying': 4601, 'make': 2713, 'ends': 1474, 'meet': 2793, 'who': 4871, 'their': 4431, 'lack': 2502, 'children': 792, 'own': 3158, 'life': 2592, 'them': 4432, 'take': 4349, 'chances': 748, 'loving': 2675, 'dad': 1095, 'didnt': 1242, 'dare': 1113, 'michael': 2829, 'should': 3951, 'they': 4442, 'over': 3148, 'step': 4175, 'line': 2610, 'whilst': 4869, 'contrast': 975, 'fair': 1630, 'kind': 2476, 'hearted': 2065, 'mother': 2911, 'wife': 4884, 'although': 201, 'she': 3923, 'ways': 4822, 'similar': 3978, 'attitudes': 347, 'values': 4710, 'perspective': 3245, 'were': 4848, 'lively': 2627, 'entertaining': 1499, 'themselves': 4435, 'artist': 307, 'goofy': 1939, 'personality': 3242, 'crazy': 1035, 'sense': 3877, 'humour': 2194, 'would': 4957, 'often': 3095, 'wear': 4830, 'multi': 2935, 'whose': 4877, 'no': 3020, 'familiar': 1643, 'arnold': 296, 'talking': 4360, 'willis': 4890, 'smart': 4035, 'dreams': 1355, 'becoming': 435, 'lawyer': 2541, 'sister': 4001, 'had': 2003, 'her': 2085, 'hopes': 2159, 'mostly': 2910, 'hilarious': 2106, 'love': 2669, 'hate': 2046, 'relationship': 3597, 'between': 475, 'brother': 598, 'played': 3297, 'extremely': 1610, 'both': 547, 'mike': 2838, 'seasons': 3844, 'there': 4438, 'cameo': 657, 'appearances': 275, 'made': 2697, 'notably': 3042, 'jackson': 2375, 'allen': 188, 'young': 4989, 'gary': 1873, 'himself': 2111, 'actually': 109, 'prefer': 3368, 'say': 3799, '80s': 59, 'terms': 4406, 'felt': 1692, 'serious': 3891, 'difficult': 1249, 'social': 4049, 'issues': 2365, 'way': 4820, 'that': 4424, 'viewers': 4739, 'comedy': 890, 'also': 199, 'commentary': 899, 'aimed': 162, 'highlight': 2103, 'lives': 2628, 'working': 4944, 'class': 833, 'americans': 214, 'america': 212, 'attempted': 341, 'mainstream': 2709, 'audience': 352, 'candy': 668, 'portrayed': 3342, 'blacks': 494, 'easily': 1406, 'upper': 4685, 'us': 4690, 'culture': 1079, 'we': 4823, 'whereas': 4865, 'much': 2934, 'more': 2904, 'afraid': 140, 'themes': 4434, 'such': 4268, 'drug': 1373, 'child': 789, 'abuse': 74, 'realistic': 3550, 'found': 1811, 'can': 665, 'be': 418, 'fun': 1848, 'watch': 4811, 'lacked': 2503, 'bit': 488, 'did': 1241, 'jump': 2429, 'shark': 3921, 'during': 1387, 'latter': 2528, 'continued': 970, 'john': 2409, 'character': 758, 'died': 1244, 'freak': 1824, 'accident': 84, 'reality': 3551, 'known': 2492, 'quit': 3494, 'his': 2118, 'characters': 760, 'death': 1141, 'without': 4913, 'suffered': 4276, 'alas': 172, 'lost': 2660, 'lot': 2661, 'its': 2370, 'charm': 767, 'still': 4188, 'sitcom': 4004, 'right': 3696, 'if': 2222, 'shown': 3959, 'certainly': 738, 'put': 3480, 'my': 2951, 'rating': 3529, 'half': 2007, 'went': 4847, 'knowing': 2490, 'anything': 260, 'movie': 2926, 'walked': 4776, 'hour': 2176, 'everything': 1544, 'worst': 4952, 'movies': 2927, 'ive': 2372, 'im': 2232, 'generally': 1881, 'nice': 3008, 'person': 3238, 'somebody': 4062, 'told': 4513, 'me': 2778, 'liked': 2600, 'probably': 3407, 'talk': 4358, 'anybody': 257, 'likes': 2602, 'likely': 2601, 'dry': 1377, 'type': 4621, 'gonna': 1936, 'include': 2261, 'intelligent': 2314, 'too': 4522, 'self': 3869, 'centered': 733, 'do': 1302, 'voices': 4763, 'know': 2489, 'everyone': 1542, 'different': 1248, 'types': 4622, 'humor': 2192, 'some': 4061, 'people': 3221, 'may': 2775, 'mine': 2853, 'thats': 4425, 'okay': 3099, 'dont': 1324, 'covers': 1024, 'any': 256, 'range': 3516, 'though': 4461, 'flat': 1748, 'dull': 1384, 'wes': 4851, 'mind': 2849, 'go': 1924, 'get': 1899, 'ready': 3546, 'walk': 4775, 'best': 469, 'your': 4991, 'money': 2888, 'back': 378, 'when': 4862, 'produced': 3414, 'absolutely': 72, 'scary': 3807, 'spot': 4131, 'what': 4858, 'future': 1856, 'either': 1438, 'parker': 3191, 'stone': 4197, 'lived': 2626, 'texas': 4418, 'witnessed': 4915, 'bush': 632, 'or': 3124, 'weird': 4841, 'eerie': 1427, 'pay': 3216, 'attention': 345, 'things': 4451, 'white': 4870, 'house': 2178, 'dressed': 1358, 'accidentally': 85, 'someone': 4064, 'wait': 4770, 'sort': 4077, 'seemed': 3862, 'failure': 1629, 'must': 2950, 'now': 3054, 'considered': 951, 'brilliant': 583, 'spooky': 4128, 'point': 3316, 'end': 1468, 'looks': 2649, 'director': 1264, 'turned': 4606, 'camera': 659, 'then': 4436, 'whole': 4873, 'crew': 1053, 'every': 1539, 'day': 1129, 'give': 1912, 'video': 4733, 'away': 369, 'will': 4886, 'giving': 1915, 'instead': 2307, 'roger': 3724, 'going': 1931, 'thumbs': 4485, 'down': 1335, 'guys': 2001, 'thinks': 4454, 'watching': 4815, 'already': 197, 'got': 1944, 'through': 4477, 'heads': 2059, 'nothing': 3047, 'jack': 2373, 'thought': 4462, 'another': 250, 'mean': 2779, 'grade': 1951, 'bunch': 623, 'teens': 4392, 'certain': 737, 'sex': 3907, 'scenes': 3811, 'before': 440, 'nearby': 2980, 'tree': 4576, 'amusing': 221, 'feel': 1684, 'gory': 1943, 'stuff': 4243, 'cabin': 643, 'fever': 1699, 'least': 2554, 'fall': 1637, 'asleep': 320, 'directing': 1260, 'thing': 4450, 'tv': 4610, 'crying': 1074, 'set': 3898, 'boring': 543, 'childrens': 793, 'fantasy': 1652, 'gives': 1914, 'joan': 2404, 'star': 4150, 'sappy': 3784, 'wants': 4791, 'baseball': 403, 'player': 3298, 'while': 4868, 'friend': 1835, 'runs': 3757, 'mayor': 2777, 'shes': 3930, '13': 4, 'totally': 4532, 'plus': 3311, 'added': 116, 'performances': 3229, 'girls': 1911, 'boys': 559, 'lesser': 2576, 'effort': 1432, 'limits': 2607, 'why': 4878, 'critics': 1064, 'hardly': 2036, 'agree': 155, 'anyway': 261, 'could': 1007, 'usually': 4700, 'horror': 2168, 'myself': 2953, 'up': 4683, 'see': 3855, 'bothered': 549, 'cinema': 816, 'full': 1846, 'always': 203, 'jones': 2418, 'taylor': 4372, 'very': 4723, 'gothic': 1945, 'beautiful': 428, 'special': 4097, 'sound': 4081, 'effects': 1431, 'awesome': 371, 'music': 2946, 'score': 3822, 'particularly': 3195, 'gentle': 1890, 'tunes': 4603, 'journey': 2421, 'save': 3794, 'how': 2181, 'grew': 1972, 'routine': 3743, 'gain': 1863, 'power': 3359, 'peace': 3219, 'freedom': 1828, 'starts': 4159, 'build': 614, 'minutes': 2859, 'same': 3778, 'protagonist': 3441, 'pie': 3271, 'loser': 2655, 'supporting': 4304, 'cast': 710, 'innovative': 2295, 'storyline': 4208, 'commercial': 902, 'success': 4265, 'lets': 2580, 'honest': 2146, 'acting': 99, 'poor': 3328, 'keaton': 2448, 'script': 3834, 'teeth': 4393, 'pace': 3161, 'clear': 839, 'logical': 2639, 'length': 2569, 'ending': 1471, 'predictable': 3367, 'come': 886, 'spoilers': 4124, 'box': 555, 'advice': 133, 'avoid': 363, 'costs': 1004, 'unless': 4669, 'else': 1448, 'listen': 2619, 'youll': 4988, 'producers': 3416, 'cheated': 775, 'three': 4469, 'michelle': 2830, 'killed': 2469, 'drunk': 1375, 'driver': 1366, 'father': 1666, 'danny': 1112, 'law': 2538, 'jesse': 2397, 'old': 3100, 'living': 2629, 'troubles': 4594, 'lessons': 2578, 'develop': 1222, 'basically': 407, 'flow': 1762, 'hold': 2129, 'let': 2579, 'today': 4508, 'air': 164, 'television': 4394, 'almost': 193, 'rate': 3526, '10': 0, '40': 48, 'since': 3990, 'teacher': 4375, 'native': 2972, 'stories': 4205, 'saw': 3798, 'youth': 4994, 'fortunately': 1805, 'middle': 2833, 'states': 4163, 'rare': 3523, 'violent': 4748, 'close': 853, 'encounters': 1467, 'other': 3135, 'past': 3207, 'enjoyed': 1486, 'conflicts': 940, 'dan': 1102, 'knew': 2486, 'learned': 2551, 'school': 3813, 'safety': 3772, 'important': 2247, 'subject': 4253, 'parts': 3199, 'frequent': 1831, 'however': 2183, 'supposed': 4306, 'safe': 3771, 'first': 1736, 'sounded': 4082, 'arthur': 305, 'opened': 3113, 'web': 4833, 'advise': 134, 'against': 147, 'hiding': 2099, 'method': 2824, 'popular': 3333, 'early': 1400, '1990s': 25, 'relatively': 3600, 'weak': 4824, 'sucked': 4270, 'happened': 2027, '1999': 27, 'hit': 2122, 'common': 906, 'happen': 2026, 'took': 4523, 'place': 3282, 'late': 2523, 'september': 3884, 'unusual': 4681, 'famous': 1647, 'struck': 4232, 'direction': 1261, 'involved': 2346, 'encounter': 1466, 'spring': 4134, 'based': 404, 'book': 535, 'turn': 4605, 'actual': 108, 'event': 1535, 'june': 2433, '1980': 20, 'compelling': 916, 'story': 4207, 'compelled': 915, 'write': 4967, 'review': 3676, 'feature': 1678, 'means': 2783, 'warning': 4800, 'others': 3136, 'episode': 1507, 'morris': 2908, 'human': 2188, 'animal': 239, 'david': 1124, 'nature': 2975, 'material': 2766, 'presented': 3376, 'does': 1308, 'fail': 1625, 'use': 4692, 'incredible': 2269, '70': 55, 'stock': 4193, 'presentation': 3375, 'screen': 3829, 'given': 1913, 'mentioned': 2811, 'previously': 3388, 'introduced': 2337, 'pregnant': 3369, 'husband': 2204, 'follow': 1772, 'forty': 1807, 'odd': 3080, 'eat': 1411, 'etc': 1527, 'access': 83, 'inside': 2297, 'track': 4544, 'learn': 2550, 'natural': 2973, 'remotely': 3623, 'entertained': 1498, 'care': 684, 'cost': 1003, 'wish': 4904, 'suggest': 4280, 'beautifully': 429, 'photographed': 3258, 'india': 2273, 'kingdom': 2480, 'tiger': 4491, 'technically': 4382, 'thrilling': 4474, 'space': 4090, 'station': 4164, '3d': 46, 'trust': 4598, 'wow': 4962, 'practically': 3362, 'head': 2057, 'spin': 4112, 'result': 3660, 'none': 3028, 'believable': 453, 'kay': 2447, 'francis': 1818, 'small': 4033, 'town': 4541, 'experience': 1580, 'local': 2634, 'theater': 4427, 'broadway': 592, 'big': 478, 'actor': 103, 'arrives': 302, 'him': 2110, 'career': 686, 'worried': 4949, 'hits': 2125, 'dies': 1245, 'hes': 2093, 'degree': 1164, 'need': 2987, 'goes': 1930, 'new': 3003, 'york': 4985, 'jobs': 2406, 'arent': 288, 'forced': 1787, 'unable': 4631, 'daughter': 1121, 'woman': 4921, 'raise': 3507, 'eventually': 1537, 'find': 1726, 'real': 3547, 'play': 3296, 'jealous': 2388, 'starring': 4154, 'hates': 2048, 'reason': 3557, 'forces': 1788, 'thrown': 4481, 'off': 3084, 'makes': 2716, 'england': 1482, 'becomes': 434, 'returns': 3668, 'caring': 691, 'husbands': 2205, 'man': 2721, 'prison': 3401, 'reviewer': 3677, 'wrote': 4974, 'otherwise': 3137, 'maybe': 2776, 'buy': 640, 'helicopter': 2076, 'fly': 1763, 'enough': 1491, 'films': 1721, 'occurs': 3078, '45': 50, 'minute': 2858, 'mark': 2739, 'believe': 454, 'theres': 4440, 'quite': 3495, 'yourself': 4993, 'unfolds': 4651, 'kitchen': 2485, 'sink': 3999, 'writing': 4971, 'throwing': 4480, 'hoping': 2160, 'somehow': 4063, 'work': 4940, 'unfortunately': 4654, 'turns': 4609, 'unbelievable': 4634, 'ms': 2931, 'efforts': 1433, 'saved': 3795, 'thanks': 4423, '2nd': 41, 'dozen': 1338, 'threw': 4470, 'began': 441, 'randomly': 3515, 'picking': 3267, 'order': 3126, 'overall': 3150, 'die': 1243, 'hard': 2033, 'fan': 1648, 'hollywood': 2137, '1930s': 11, 'skip': 4016, 'terrible': 4407, 'plays': 3301, 'upon': 4684, 'return': 3665, 'jason': 2383, 'christopher': 811, 'lloyd': 2630, 'al': 170, 'angel': 231, 'better': 472, 'ok': 3098, 'adults': 126, 'tony': 4521, 'role': 3726, 'taxi': 4371, 'reunion': 3669, 'glover': 1923, 'seems': 3864, 'emotions': 1461, 'showing': 3958, 'talent': 4354, 'change': 749, 'pleasant': 3302, 'worth': 4953, 'catch': 714, 'read': 3543, 'somewhere': 4069, 'cut': 1089, 'warner': 4799, 'casting': 711, 'inferior': 2285, 'projects': 3428, 'contract': 973, 'decided': 1149, 'might': 2835, 'explain': 1586, 'doesnt': 1309, 'donald': 1321, 'ian': 2209, 'hunter': 2199, 'ludicrous': 2685, 'word': 4937, 'used': 4693, 'target': 4366, 'trial': 4580, 'london': 2641, 'part': 3193, 'leads': 2548, 'next': 3007, 'sets': 3899, 'costumes': 1006, 'looked': 2647, 'hair': 2005, 'turner': 4607, 'lots': 2662, 'month': 2896, 'favor': 1670, 'cold': 872, 'blood': 512, 'several': 3905, '60s': 54, 'created': 1037, 'vision': 4754, 'violence': 4747, 'industry': 2280, 'novel': 3052, 'describe': 1194, 'spirit': 4113, 'form': 1798, 'carried': 698, 'co': 867, 'fact': 1621, 'era': 1513, 'color': 877, 'richard': 3686, 'brooks': 596, 'present': 3374, 'black': 493, 'landscape': 2513, 'problem': 3408, 'remake': 3612, 'changes': 751, 'tone': 4517, 'addition': 118, 'shooting': 3943, 'shots': 3950, 'focused': 1767, 'lose': 2654, 'dramatic': 1348, 'second': 3846, 'original': 3129, 'police': 3322, 'interviews': 2330, 'execution': 1566, 'version': 4720, 'hollywoods': 2138, 'search': 3841, 'scripts': 3836, 'takes': 4351, 'successful': 4266, 'mistake': 2871, 'exception': 1557, 'actors': 104, 'competent': 917, 'hook': 2152, 'viewer': 4738, 'toward': 4539, 'smith': 4038, 'left': 2561, 'feeling': 1685, 'ho': 2127, 'cares': 690, 'large': 2517, 'simply': 3986, 'understand': 4643, 'wouldnt': 4958, 'hurt': 2202, 'help': 2079, 'extraordinary': 1607, 'surrounding': 4319, 'bottom': 551, 'true': 4596, 'having': 2054, 'spending': 4106, 'central': 735, 'interesting': 2325, 'adventure': 130, 'davis': 1126, 'marry': 2745, 'king': 2479, 'army': 295, 'base': 402, 'balance': 387, 'east': 1407, 'jokes': 2415, 'including': 2264, 'theme': 4433, 'political': 3324, 'ten': 4399, 'towards': 4540, 'picture': 3269, 'italy': 2368, 'opinion': 3118, 'romantic': 3733, 'country': 1014, 'world': 4946, 'period': 3236, 'piece': 3272, 'cinematography': 820, 'aspect': 321, 'excellent': 1555, 'ladies': 2506, 'needed': 2988, 'vacation': 4704, 'problems': 3409, 'minds': 2852, 'course': 1019, 'realize': 3552, 'begin': 442, 'san': 3780, 'castle': 712, 'stay': 4166, 'effect': 1428, 'says': 3801, 'italian': 2367, 'works': 4945, 'magic': 2703, 'plausible': 3295, 'actresses': 106, 'background': 380, 'appropriate': 283, 'youve': 4995, 'wanted': 4789, 'style': 4249, 'substance': 4258, 'son': 4070, 'de': 1131, 'melodramatic': 2798, 'manipulative': 2727, 'chick': 786, 'flicks': 1755, 'heard': 2062, 'happens': 2029, 'sea': 3838, 'looking': 2648, 'leaving': 2557, 'six': 4010, 'married': 2744, 'grows': 1985, 'mid': 2832, 'childhood': 790, 'sloppy': 4030, 'less': 2575, 'hanging': 2023, 'around': 297, 'suddenly': 4273, 'blown': 516, 'melodrama': 2797, 'called': 652, 'narrative': 2966, 'pacing': 3163, 'five': 1743, 'wandering': 4785, 'superhero': 4299, 'wealthy': 4827, 'guy': 2000, 'keeps': 2451, 'anger': 235, 'questions': 3489, 'absence': 70, 'tells': 4397, 'hell': 2077, 'island': 2361, 'shell': 3927, 'heres': 2087, 'reference': 3582, 'ignored': 2225, 'fill': 1714, 'holes': 2133, 'staring': 4152, 'assume': 328, 'lines': 2612, 'clues': 865, 'fish': 1738, 'offers': 3090, 'breathtaking': 574, 'dialogue': 1234, 'sure': 4308, 'couldnt': 1008, 'hero': 2088, 'poetry': 3314, '2000': 30, 'each': 1395, 'rented': 3628, 'stale': 4141, 'impressed': 2251, 'laid': 2508, 'poetic': 3313, 'device': 1227, 'figures': 1713, 'choice': 797, 'gender': 1878, 'song': 4071, 'ie': 2221, 'singing': 3995, 'far': 1653, 'doomed': 1327, 'offering': 3089, 'convoluted': 987, 'symbolism': 4341, 'grab': 1949, 'attempt': 340, 'art': 304, 'eyes': 1613, 'seem': 3861, 'intellectual': 2312, 'depth': 1190, 'beyond': 476, 'desperately': 1209, 'sports': 4130, 'rent': 3626, 'sign': 3970, 'face': 1616, '1960s': 15, 'century': 736, 'days': 1130, 'suffering': 4277, 'despair': 1207, 'look': 2646, 'try': 4600, 'connect': 944, 'red': 3576, 'youre': 4992, 'hearing': 2063, 'fast': 1661, 'wont': 4932, 'miss': 2866, 'our': 3139, 'ago': 154, '3rd': 47, 'classes': 834, '18': 10, 'teaching': 4377, 'supposedly': 4307, 'id': 2212, 'able': 66, 'students': 4239, 'excited': 1561, 'disney': 1289, 'brought': 600, 'highest': 2102, 'became': 431, 'badly': 383, 'favorite': 1671, 'stick': 4185, 'strictly': 4223, 'sake': 3775, 'unnecessary': 4672, 'kept': 2456, 'discuss': 1283, 'nearly': 2981, 'single': 3996, 'wondered': 4927, 'aunt': 355, 'beast': 422, 'wars': 4804, 'mrs': 2930, 'proper': 3436, 'witch': 4909, 'outfit': 3144, 'clever': 841, 'name': 2960, 'detail': 1217, 'changed': 750, 'wonderful': 4928, 'waiting': 4772, 'peter': 3247, 'convince': 983, 'task': 4368, 'directed': 1259, 'fox': 1814, 'writer': 4968, 'highly': 2105, '2002': 32, 'mini': 2854, 'epic': 1506, 'fine': 1729, 'drama': 1346, 'deal': 1135, 'tragedy': 4551, 'beauty': 430, 'joy': 2422, 'especially': 1520, 'urban': 4688, 'gay': 1876, 'men': 2805, 'moved': 2922, 'outside': 3146, 'zone': 4999, 'struggle': 4234, 'elsewhere': 1449, 'pair': 3176, 'lovers': 2673, 'military': 2844, 'service': 3896, 'ha': 2002, 'group': 1980, 'friends': 1837, 'straight': 4210, 'share': 3920, 'unit': 4663, 'heart': 2064, 'friendly': 1836, 'capital': 673, 'opens': 3115, 'border': 539, 'check': 777, 'meets': 2795, 'handsome': 2021, 'romance': 3732, 'soon': 4074, 'opportunities': 3120, 'quickly': 3491, 'altogether': 202, 'members': 2801, 'conservative': 948, 'disappointed': 1273, 'soundtrack': 4085, 'visuals': 4759, 'english': 1483, 'subtitles': 4259, 'easy': 1410, 'appreciate': 279, 'claire': 831, 'presents': 3377, 'household': 2179, 'european': 1530, 'interaction': 2322, 'development': 1225, 'example': 1553, 'strong': 4229, 'relationships': 3598, 'portrayal': 3341, 'executed': 1565, 'home': 2142, 'interest': 2323, 'general': 1880, 'become': 433, 'engaged': 1480, 'loosely': 2651, 'tension': 4404, 'fully': 1847, 'powerful': 3360, 'depressing': 1188, 'historical': 2119, 'definitely': 1162, 'favourite': 1673, 'flick': 1754, 'artistic': 308, 'provoking': 3452, 'flaws': 1752, 'truly': 4597, 'wholly': 4874, 'compare': 911, 'number': 3060, 'scared': 3805, 'besides': 468, 'obviously': 3072, 'kubrick': 2496, 'peoples': 3222, 'frightening': 1839, 'greatest': 1966, 'terrifying': 4410, 'scares': 3806, 'gore': 1941, 'various': 4715, 'ghosts': 1903, 'pop': 3330, 'destruction': 1216, 'nicholson': 3011, 'saying': 3800, 'obvious': 3071, 'roles': 3727, 'appearance': 274, 'disagree': 1269, 'notion': 3050, 'acts': 107, 'beginning': 443, 'calm': 655, 'quiet': 3492, 'patient': 3211, 'inane': 2258, 'hotel': 2175, 'irritating': 2359, 'wonder': 4926, 'manages': 2725, 'overlook': 3153, 'angry': 238, 'edge': 1418, 'wendy': 4846, 'utterly': 4702, 'loses': 2657, 'telling': 4396, 'leave': 2555, 'alone': 194, 'bomb': 531, 'dropped': 1370, 'shock': 3938, 'system': 4345, 'multiple': 2936, 'seeing': 3857, 'happening': 2028, 'noted': 3045, 'whenever': 4863, 'talks': 4361, 'ghost': 1902, 'mirror': 2861, 'sees': 3866, 'until': 4680, 'climax': 849, 'tour': 4538, 'aware': 368, 'something': 4066, 'wrong': 4973, 'immediately': 2242, 'psychic': 3456, 'powers': 3361, 'question': 3487, 'witness': 4914, 'claim': 828, 'merely': 2815, 'trapped': 4564, 'kill': 2468, 'appears': 278, 'body': 527, 'taken': 4350, 'witnesses': 4916, 'scare': 3803, 'playing': 3300, 'shot': 3949, 'discussion': 1284, 'begins': 444, 'shelley': 3928, 'annoying': 249, 'cinematic': 818, 'history': 2121, 'purpose': 3474, 'appealing': 272, 'worse': 4951, 'whom': 4875, 'identify': 2216, 'want': 4788, 'ourselves': 3140, 'season': 3843, 'whatever': 4859, 'haunted': 2050, 'technical': 4381, 'aspects': 322, 'terrific': 4409, 'long': 2644, 'strange': 4211, 'angles': 237, 'bizarre': 492, 'imagery': 2234, 'colour': 880, 'started': 4157, 'haunting': 2051, 'tune': 4602, 'perfectly': 3226, 'mood': 2898, 'entire': 1502, 'itself': 2371, 'kings': 2481, 'faithful': 1634, 'adaptation': 113, 'shouldnt': 3952, 'source': 4086, 'genre': 1888, 'top': 4525, 'hey': 2095, '11': 2, 'year': 4978, 'movement': 2923, 'city': 825, 'lyrics': 2692, 'consider': 949, 'personal': 3240, 'filming': 1718, 'importance': 2246, 'significant': 3972, 'wide': 4880, 'filmed': 1717, 'above': 68, 'personally': 3243, 'crap': 1031, 'delivers': 1172, 'moments': 2887, 'clichéd': 845, 'possible': 3350, 'nowadays': 3055, 'entirely': 1503, 'subtle': 4260, 'eating': 1413, 'poorly': 3329, 'christian': 808, 'julie': 2428, 'gone': 1935, 'normally': 3034, 'unintentional': 4658, 'meant': 2784, 'sympathy': 4343, 'disturbing': 1300, 'satisfying': 3791, 'credits': 1050, 'masterpiece': 2759, 'fashioned': 1660, 'planning': 3291, 'lead': 2545, 'together': 4511, 'falls': 1640, 'due': 1382, '90s': 61, 'tries': 4585, 'pack': 3165, 'ingredients': 2289, 'airport': 167, 'band': 391, 'convincing': 985, 'twist': 4617, 'tale': 4353, 'destroying': 1215, 'sadly': 3769, 'bad': 382, 'note': 3044, 'ordinary': 3128, 'below': 462, 'average': 362, 'songs': 4072, 'mediocre': 2791, 'amongst': 218, 'isnt': 2362, 'rock': 3720, 'singer': 3993, 'superb': 4296, 'negative': 2991, 'nonsense': 3030, 'mtv': 2933, 'acted': 98, 'slightly': 4029, 'blew': 505, 'performance': 3228, 'tom': 4514, 'hanks': 2025, 'points': 3319, 'throughout': 4478, 'paul': 3214, 'rarely': 3524, 'hall': 2009, 'genius': 1887, 'crafted': 1029, 'quality': 3484, 'moving': 2928, 'planned': 3290, 'understated': 4646, 'perfection': 3225, 'stop': 4201, 'colors': 879, 'light': 2595, 'dark': 1115, 'settings': 3901, 'lights': 2597, 'amazing': 209, 'lighting': 2596, 'list': 2617, 'gangster': 1868, 'missed': 2867, 'fails': 1628, 'protect': 3443, 'chose': 804, 'brilliantly': 584, 'bond': 532, 'worthy': 4956, 'oscar': 3133, 'thomas': 4458, 'sad': 3767, 'scores': 3823, 'sam': 3777, 'experienced': 1581, 'uses': 4697, 'todays': 4509, 'making': 2718, 'hysterical': 2208, 'laughed': 2532, 'hunting': 2201, 'advanced': 128, 'screening': 3830, 'expecting': 1578, 'pleasantly': 3303, 'surprised': 4313, 'fairly': 1631, 'constant': 957, 'amanda': 205, 'hot': 2174, 'enjoying': 1487, 'recently': 3567, 'laugh': 2529, 'unrealistic': 4677, 'along': 195, 'said': 3774, 'reactions': 3542, 'dead': 1132, 'accept': 80, 'ned': 2986, 'bring': 585, 'completely': 922, 'bits': 490, 'smiling': 4037, 'narration': 2965, 'adds': 119, 'extra': 1606, 'shows': 3960, 'enjoy': 1484, 'ridiculous': 3693, 'deserves': 1201, 'hated': 2047, 'stupid': 4247, 'stars': 4155, 'signed': 3971, 'ridiculously': 3694, 'absurd': 73, 'project': 3427, 'ben': 463, 'anyone': 259, 'store': 4204, 'bother': 548, 'reading': 3544, 'cover': 1022, 'horrible': 2163, 'clothes': 860, 'amazed': 208, 'reviews': 3679, '1980s': 21, 'random': 3514, 'opening': 3114, 'crisis': 1060, 'aged': 149, 'unknown': 4668, 'officer': 3092, 'hospital': 2172, 'war': 4792, 'complete': 921, 'idea': 2213, 'anywhere': 263, 'belongs': 460, 'proves': 3447, 'established': 1524, 'remember': 3616, 'alan': 171, 'ann': 244, 'surprising': 4315, 'stays': 4169, 'forever': 1792, 'alien': 183, 'park': 3190, 'countless': 1012, 'sci': 3815, 'fi': 1701, 'cup': 1080, 'tea': 4373, 'add': 115, 'jumps': 2432, 'california': 650, 'dean': 1139, 'security': 3854, 'chief': 788, 'science': 3816, 'lab': 2501, 'feet': 1688, 'underground': 4640, 'pilot': 3276, 'scientist': 3818, 'newly': 3004, 'dinosaur': 1255, 'start': 4156, 'getting': 1901, 'picked': 3266, 'monster': 2892, 'direct': 1258, 'paid': 3169, 'forget': 1793, 'rest': 3657, 'expectations': 1576, 'feelings': 1686, 'comedies': 889, 'theyre': 4445, 'werent': 4849, 'masterpieces': 2760, 'compared': 912, 'ask': 316, 'thinking': 4453, 'acceptable': 81, 'studio': 4240, 'production': 3419, 'resources': 3651, 'smoking': 4040, 'deserved': 1200, 'released': 3603, 'theaters': 4428, '15': 7, 'dollars': 1315, 'live': 2625, 'bin': 483, 'blockbuster': 509, 'allowed': 190, 'words': 4938, 'ill': 2228, 'touch': 4533, 'biggest': 480, 'generic': 1885, 'uninspired': 4657, 'paint': 3173, 'forgotten': 1797, 'spends': 4107, 'wasting': 4810, 'talents': 4356, 'garbage': 1870, 'savage': 3793, 'canadian': 667, 'series': 3890, 'wind': 4893, 'unbearable': 4633, 'teach': 4374, 'skin': 4015, 'hed': 2072, 'slow': 4031, 'painful': 3171, 'soft': 4051, 'core': 995, 'porn': 3336, 'pointless': 3318, 'nudity': 3059, 'sexual': 3908, 'content': 966, 'gotten': 1947, 'ratings': 3530, 'board': 522, 'drugs': 1374, 'twenty': 4612, 'craven': 1034, 'nightmare': 3014, 'elm': 1447, 'street': 4216, 'seconds': 3848, 'footage': 1782, 'offensive': 3086, 'trash': 4565, 'huge': 2185, 'last': 2521, 'wet': 4855, 'dream': 1354, 'twelve': 4611, 'imagination': 2236, 'juvenile': 2441, 'situation': 4008, 'move': 2921, 'corpse': 999, 'calls': 654, 'coming': 896, 'mile': 2842, 'stereotypes': 4179, 'references': 3583, 'behavior': 446, 'feels': 1687, 'incompetent': 2266, 'low': 2676, 'filled': 1715, 'road': 3709, 'failed': 1626, 'higher': 2101, 'christ': 807, 'ruthless': 3764, 'passion': 3205, 'cash': 709, 'god': 1926, 'amazingly': 210, 'areas': 287, 'matter': 2769, 'johnny': 2410, 'presence': 3373, 'credit': 1049, 'sincere': 3991, 'billy': 482, 'rated': 3527, 'prime': 3395, 'education': 1424, 'producing': 3417, 'proved': 3446, 'survived': 4322, 'underrated': 4642, 'vote': 4766, 'summary': 4290, 'worlds': 4947, 'documentaries': 1306, 'faith': 1633, 'academy': 77, 'award': 366, 'warm': 4794, 'happy': 2032, 'advance': 127, 'weekend': 4838, 'starting': 4158, 'please': 3304, 'musical': 2947, 'public': 3460, 'gene': 1879, 'kelly': 2452, 'nominated': 3025, 'rain': 3506, 'behind': 447, 'mgm': 2828, 'studios': 4241, 'stuck': 4237, 'side': 3965, 'suit': 4284, 'frank': 1821, 'sinatra': 3989, 'enjoyable': 1485, 'farce': 1654, 'audiences': 353, 'longer': 2645, 'pieces': 3273, 'case': 707, 'charming': 768, 'viewing': 4740, 'kiss': 2483, 'kate': 2446, 'necessary': 2984, 'non': 3027, 'opera': 3116, 'remote': 3622, 'hand': 2015, 'practice': 3363, 'women': 4923, 'perhaps': 3235, 'lucky': 2683, 'promise': 3430, 'strike': 4224, 'piano': 3264, 'rendition': 3625, 'test': 4416, 'golden': 1934, 'susan': 4326, 'hope': 2155, 'pink': 3277, 'handed': 2016, 'shape': 3919, 'slight': 4027, 'navy': 2976, 'ambitious': 211, 'holds': 2131, 'carries': 699, 'lovely': 2671, 'occasion': 3073, 'cartoon': 704, 'adventures': 131, 'dance': 1103, 'jerry': 2396, 'mouse': 2919, 'fred': 1825, 'astaire': 330, 'taking': 4352, 'dancing': 1107, 'walls': 4783, 'exactly': 1551, 'sitting': 4007, 'split': 4120, 'square': 4136, 'solid': 4057, 'mouth': 2920, 'guilt': 1994, 'neil': 2995, 'couple': 1016, 'felix': 1689, 'oscars': 3134, 'massive': 2756, 'row': 3744, 'sends': 3876, 'suicide': 4283, 'game': 1864, 'agreed': 156, 'stand': 4143, 'unique': 4662, 'attitude': 346, 'gift': 1906, 'british': 589, 'sisters': 4002, 'double': 1331, 'date': 1118, 'priceless': 3390, 'walter': 4784, 'fantastic': 1651, 'equally': 1510, 'night': 3013, 'limited': 2606, 'across': 96, 'contrived': 976, 'context': 968, 'yes': 4982, 'britain': 588, 'tiresome': 4502, 'view': 4736, 'poverty': 3357, 'margaret': 2735, 'existed': 1570, 'decent': 1147, 'clips': 852, 'sequence': 3887, 'events': 1536, 'tad': 4347, 'disjointed': 1287, 'action': 100, 'couldve': 1009, 'wouldve': 4959, 'attracted': 349, 'reach': 3536, 'difference': 1246, 'teen': 4388, 'girl': 1909, 'mature': 2773, 'sorry': 4076, 'value': 4709, 'somewhat': 4068, 'incident': 2260, 'fell': 1690, 'bugs': 613, 'concern': 931, 'hung': 2197, '1973': 19, '1983': 22, 'parent': 3187, 'estate': 1525, 'experiences': 1582, 'racism': 3502, 'issue': 2364, 'exist': 1569, 'bored': 541, 'paltrow': 3178, 'emma': 1457, 'sweet': 4336, 'sentimental': 3882, 'humorous': 2193, 'apparent': 269, '70s': 56, 'friday': 1834, 'saturday': 3792, 'nights': 3016, 'fitting': 1742, 'specific': 4099, 'catching': 716, 'numerous': 3062, 'cable': 644, 'offered': 3088, 'dvd': 1391, 'available': 361, 'lousy': 2667, 'print': 3399, 'budget': 610, 'interested': 2324, 'shop': 3945, 'comment': 898, 'restored': 3659, 'stated': 4161, 'running': 3756, '90': 60, 'correct': 1000, 'dubbed': 1379, 'language': 2516, 'sometimes': 4067, 'dub': 1378, 'confusing': 942, 'knows': 2493, 'attempts': 343, 'turning': 4608, 'fits': 1741, 'earlier': 1399, 'trailers': 4555, 'kinda': 2477, 'rolled': 3729, 'contact': 961, 'ya': 4976, 'carrie': 697, 'guarantee': 1987, 'wondering': 4930, 'alternate': 200, 'colorful': 878, 'imaginative': 2237, 'plots': 3310, 'creating': 1039, 'suspense': 4330, 'pokemon': 3320, 'mighty': 2836, 'rangers': 3517, 'titles': 4506, 'japanese': 2382, 'network': 3000, 'entertainment': 1500, 'worry': 4950, 'fare': 1655, 'examples': 1554, 'captain': 674, 'cops': 993, 'confused': 941, 'returned': 3666, 'afternoon': 144, 'aside': 315, 'bears': 421, 'tales': 4357, 'rescue': 3643, 'animation': 242, 'theatrical': 4430, 'classics': 837, 'under': 4639, 'detective': 1220, 'wonders': 4931, 'shines': 3932, 'thrill': 4471, 'ride': 3692, 'won': 4925, 'delight': 1167, 'par': 3184, 'guess': 1989, 'attraction': 350, 'independent': 2272, 'female': 1693, 'pre': 3365, 'support': 4303, 'trek': 4578, 'molly': 2884, 'witty': 4917, 'trouble': 4592, 'saves': 3796, 'martin': 2748, 'villains': 4745, 'disappoint': 1272, 'failing': 1627, 'don': 1320, 'inept': 2281, 'soviet': 4089, 'finest': 1730, 'offer': 3087, 'conspiracy': 956, 'bargain': 400, 'treasure': 4571, 'folks': 1771, 'hear': 2061, 'plain': 3286, 'leaves': 2556, 'sean': 3840, 'concerns': 934, 'mel': 2796, 'harris': 2038, 'hired': 2117, 'queen': 3485, 'marriage': 2743, 'europe': 1529, 'photo': 3257, 'standing': 4146, 'places': 3284, 'scenery': 3810, 'location': 2635, 'unlike': 4670, 'jessica': 2398, 'searching': 3842, 'solve': 4060, 'mystery': 2956, 'team': 4378, 'menace': 2806, 'stayed': 4167, 'adequate': 120, 'players': 3299, 'community': 908, 'count': 1010, 'realized': 3553, 'halfway': 2008, 'dog': 1310, 'satan': 3787, 'previous': 3387, 'run': 3755, 'mexican': 2826, 'suspects': 4328, 'loves': 2674, 'except': 1556, 'nostalgia': 3038, 'tense': 4403, 'nail': 2957, 'adult': 125, 'survivors': 4325, 'onto': 3111, 'sit': 4003, 'flashbacks': 1747, 'notice': 3048, 'seat': 3845, 'visual': 4757, 'stage': 4139, 'soldiers': 4054, 'ship': 3934, 'near': 2979, 'wooden': 4934, 'emotion': 1458, 'humanity': 2189, 'listening': 2620, 'performer': 3231, 'finish': 1732, 'rush': 3759, 'repetitive': 3633, 'debut': 1143, 'deep': 1154, 'propaganda': 3435, 'showcase': 3954, 'editing': 1421, 'skills': 4014, 'fairy': 1632, 'herself': 2092, 'twists': 4619, 'handful': 2017, 'cinderella': 815, 'standard': 4144, 'jennifer': 2392, 'title': 4504, 'jean': 2389, 'southern': 4088, 'accent': 78, 'eve': 1532, 'wicked': 4879, 'edie': 1419, 'jane': 2380, 'duo': 1386, 'matthew': 2772, 'prince': 3396, 'henry': 2084, 'keep': 2449, 'villain': 4744, 'fired': 1735, 'chaplin': 756, 'hadnt': 2004, 'directors': 1266, 'george': 1893, 'according': 88, 'mere': 2814, 'charlie': 765, 'producer': 3415, 'promised': 3431, 'visible': 4753, 'typical': 4623, 'chaos': 755, 'race': 3499, 'harry': 2039, 'finger': 1731, 'frankly': 1823, 'laughs': 2534, 'wearing': 4831, 'hat': 2045, 'wore': 4939, 'suits': 4287, 'displays': 1293, 'stands': 4147, 'edgar': 1417, 'kennedy': 2454, 'strangely': 4212, 'usual': 4699, 'mindless': 2851, 'landscapes': 2514, 'kung': 2498, 'fu': 1844, 'reputation': 3640, 'within': 4912, 'virtually': 4751, 'reminds': 3620, 'silly': 3976, 'battle': 414, 'ah': 158, 'super': 4295, 'ray': 3533, 'guns': 1998, 'tap': 4364, 'trade': 4547, 'continue': 969, 'whether': 4866, 'gas': 1874, 'ahead': 159, 'makers': 2715, 'knife': 2487, 'hurts': 2203, 'repeatedly': 3632, 'damage': 1099, 'fake': 1635, 'ancient': 225, 'china': 795, 'corner': 996, 'fights': 1710, 'hours': 2177, 'snow': 4045, 'explaining': 1588, 'motivations': 2915, 'partly': 3197, 'spoiled': 4122, 'chosen': 805, 'fit': 1740, 'camp': 662, 'accurate': 90, 'depiction': 1185, 'company': 910, 'chris': 806, 'cooper': 990, 'daddy': 1096, 'escaped': 1518, 'mst3k': 2932, 'empty': 1465, 'paper': 3183, 'thin': 4449, 'dumb': 1385, 'situations': 4009, 'centers': 734, 'government': 1948, 'agents': 151, 'spy': 4135, 'agent': 150, 'missing': 2869, 'kurt': 2499, 'sounds': 4084, 'promising': 3433, 'bare': 398, 'details': 1219, 'mysterious': 2955, 'asian': 314, 'girlfriend': 1910, 'speak': 4094, 'sudden': 4272, 'shut': 3961, 'tough': 4537, 'break': 569, 'games': 1865, 'existent': 1572, 'rules': 3754, 'delightful': 1168, 'village': 4743, 'visit': 4755, 'wise': 4903, 'equipment': 1511, 'eastern': 1408, 'cities': 823, 'master': 2757, 'fight': 1707, 'evil': 1548, 'parallel': 3185, 'horses': 2171, 'believed': 455, 'indeed': 2271, 'major': 2711, 'whoever': 4872, 'paying': 3217, 'extras': 1608, 'nevertheless': 3002, '100': 1, 'cultural': 1078, 'anymore': 258, 'cheap': 774, 'eighties': 1437, 'sell': 3871, 'medium': 2792, 'level': 2584, 'fascinating': 1658, 'cameos': 658, 'simmons': 3981, 'monsters': 2893, 'nightmares': 3015, 'recommended': 3572, 'sat': 3786, 'weeks': 4839, 'format': 1799, 'max': 2774, 'la': 2500, 'inspired': 2301, 'prostitute': 3440, 'brooklyn': 595, 'hood': 2151, 'car': 680, 'refuses': 3587, 'answers': 252, 'cell': 730, 'phone': 3255, 'message': 2819, 'pays': 3218, 'professional': 3421, 'rich': 3685, 'pulls': 3464, 'desperate': 1208, 'unhappy': 4656, 'asks': 319, 'sits': 4006, 'comes': 891, 'throw': 4479, 'dinner': 1254, 'party': 3200, 'robert': 3713, 'business': 633, 'ellen': 1446, 'conversation': 980, 'desert': 1198, 'puts': 3481, 'jazz': 2387, 'record': 3573, 'radio': 3504, 'ensues': 1493, 'needs': 2990, 'visits': 4756, 'steve': 4181, 'sexy': 3911, 'promises': 3432, 'speaking': 4095, 'lips': 2615, 'admit': 122, 'allows': 192, 'manhattan': 2726, 'anna': 245, 'dawson': 1128, 'boyfriend': 558, 'nick': 3012, 'enters': 1496, 'figure': 1711, 'information': 2288, 'francisco': 1819, 'ex': 1549, 'revelation': 3674, 'lie': 2590, 'decides': 1150, 'joey': 2408, 'carol': 693, 'kane': 2442, 'sympathetic': 4342, 'ear': 1397, 'spell': 4104, 'apartment': 265, 'gradually': 1952, 'realizes': 3554, 'escape': 1517, 'rings': 3699, 'calling': 653, 'office': 3091, 'finds': 1728, 'ruined': 3751, 'commit': 904, 'gun': 1996, 'seek': 3858, 'tried': 4584, 'holding': 2130, 'walking': 4779, 'drives': 1367, 'window': 4894, 'horrific': 2166, 'woods': 4935, 'superbly': 4297, 'reynolds': 3684, 'jon': 2416, 'voight': 4764, 'appeared': 276, 'sheriff': 3929, 'mary': 2751, 'ashley': 313, 'actress': 105, 'sick': 3963, 'edited': 1420, 'torn': 4528, 'directions': 1262, 'finished': 1733, 'product': 3418, 'drivel': 1364, 'luck': 2681, 'contrary': 974, 'till': 4493, 'likable': 2598, 'santa': 3783, 'someones': 4065, 'disappointing': 1274, 'waste': 4808, 'purple': 3473, 'commented': 900, 'held': 2074, 'focus': 1766, 'dialog': 1232, 'tell': 4395, 'endless': 1473, 'room': 3735, 'understanding': 4645, 'forward': 1808, 'ultimately': 4628, 'admittedly': 123, 'smile': 4036, 'ultra': 4629, 'nervous': 2999, 'mr': 2929, 'news': 3005, 'gang': 1867, 'throws': 4482, 'tied': 4489, 'asked': 317, 'stooges': 4200, 'moment': 2886, 'named': 2961, 'secret': 3849, 'act': 97, 'larry': 2520, 'chase': 769, 'chasing': 772, 'spoiler': 4123, 'adam': 111, 'sandler': 3781, 'deeply': 1156, 'showed': 3956, 'courage': 1018, 'facing': 1620, 'post': 3352, 'lonely': 2643, 'college': 875, 'emotional': 1459, 'psychological': 3458, 'johnson': 2411, 'pleasure': 3306, 'ease': 1404, 'families': 1644, 'state': 4160, 'cagney': 646, 'numbers': 3061, 'knock': 2488, 'pretending': 3382, 'lovable': 2668, 'ruby': 3749, 'required': 3641, 'unfortunate': 4653, 'youd': 4987, 'dick': 1239, 'powell': 3358, 'apparently': 270, 'energy': 1478, 'speed': 4103, 'forth': 1804, 'endearing': 1469, 'expect': 1575, 'oh': 3096, 'ruth': 3763, 'william': 4887, 'criminal': 1057, 'apart': 264, 'possibly': 3351, 'appreciated': 280, 'portrays': 3344, 'newspaper': 3006, 'suppose': 4305, 'critical': 1062, 'polished': 3323, 'dancer': 1104, 'chemistry': 782, 'suitable': 4285, 'nostalgic': 3039, '30s': 44, 'hong': 2149, 'kong': 2494, 'modern': 2882, 'jackie': 2374, 'features': 1680, 'plenty': 3307, 'stunts': 4246, 'stunt': 4245, 'club': 863, 'ranks': 3519, 'design': 1202, 'chan': 746, 'awards': 367, 'martial': 2747, '2005': 35, '2006': 36, 'feed': 1683, 'rip': 3700, 'follows': 1775, 'formula': 1802, 'focuses': 1768, 'annoyed': 248, 'decide': 1148, 'theatre': 4429, 'hoped': 2156, 'ryan': 3765, 'rape': 3521, 'revenge': 3675, 'successfully': 4267, 'surprisingly': 4316, 'considering': 952, 'pretentious': 3383, 'painfully': 3172, 'cheese': 780, 'woody': 4936, 'insight': 2298, 'caused': 724, 'divorce': 1301, 'intentionally': 2320, 'comic': 893, 'relief': 3605, 'defined': 1160, 'using': 4698, 'meaning': 2780, 'truth': 4599, 'bergman': 466, 'connection': 946, 'quest': 3486, 'identity': 2217, 'backdrop': 379, 'speaks': 4096, 'affected': 137, 'struggling': 4236, 'slap': 4018, 'resolution': 3649, 'extreme': 1609, 'ability': 65, 'techniques': 4384, 'recommend': 3571, 'remind': 3618, 'pretend': 3381, 'listed': 2618, 'documentary': 1307, 'suspect': 4327, 'mexico': 2827, 'virgin': 4749, 'zero': 4996, 'mainly': 2708, 'crude': 1069, 'brain': 562, 'mask': 2752, 'rise': 3702, 'leslie': 2574, 'alright': 198, 'downright': 1337, 'blows': 517, 'fault': 1668, 'built': 618, 'string': 4227, 'fx': 1858, 'aint': 163, 'dreadful': 1353, 'joke': 2414, 'million': 2847, 'shame': 3918, 'sucks': 4271, 'writes': 4970, 'directs': 1267, 'leading': 2547, 'normal': 3033, 'primary': 3394, 'nurse': 3063, 'everybody': 1540, 'nobody': 3022, 'believes': 456, 'win': 4892, '20': 29, 'carpenter': 694, 'bed': 436, 'jewish': 2401, 'learns': 2553, 'clearly': 840, 'mentally': 2809, 'travels': 4569, 'baby': 376, 'bitter': 491, 'learning': 2552, 'official': 3094, 'premise': 3370, 'simple': 3983, 'oil': 3097, 'cia': 814, 'pool': 3327, 'dealing': 1136, 'sons': 4073, 'willing': 4889, 'bob': 524, 'creates': 1038, 'conclusion': 936, 'pick': 3265, 'deals': 1137, 'corruption': 1002, 'doom': 1326, 'evening': 1534, 'cruel': 1070, 'intentions': 2321, 'bloody': 513, 'robin': 3715, 'kicked': 2461, 'private': 3404, 'fresh': 1833, 'settle': 3902, 'amy': 222, 'adams': 112, 'drag': 1342, 'sarah': 3785, 'innocent': 2294, 'sleep': 4024, 'sub': 4252, 'prequel': 3372, 'unfunny': 4655, 'luckily': 2682, 'realism': 3549, 'land': 2511, 'described': 1195, 'bell': 458, 'ideas': 2215, 'affair': 135, 'society': 4050, '16': 8, 'teenagers': 4391, 'treated': 4573, 'seriously': 3892, '14': 6, 'horse': 2170, 'gag': 1861, 'treats': 4575, 'pleased': 3305, 'consistent': 953, 'enthusiasm': 1501, 'train': 4556, 'ted': 4386, 'arrogant': 303, 'male': 2719, 'section': 3853, 'dated': 1119, 'accents': 79, 'fame': 1642, 'atmosphere': 333, 'sinister': 3998, 'vehicle': 4718, 'treat': 4572, 'perfect': 3224, 'sunday': 4293, 'morning': 2906, 'lazy': 2543, 'thank': 4421, 'dirty': 1268, 'nor': 3032, 'ignorant': 2223, 'cliche': 843, 'redeeming': 3577, 'carry': 700, 'mess': 2818, 'quirky': 3493, 'eddie': 1416, 'wwii': 4975, 'religion': 3607, 'copy': 994, 'regret': 3591, 'brief': 579, 'silence': 3974, 'center': 732, 'disc': 1278, 'awkward': 374, 'scream': 3826, 'sole': 4055, 'chapter': 757, 'topless': 4527, 'selling': 3873, 'attractive': 351, 'slasher': 4020, 'concept': 930, 'revealed': 3671, 'murdered': 2940, 'fear': 1676, 'influence': 2286, 'killer': 2470, 'mom': 2885, 'cool': 989, 'yeah': 4977, 'moon': 2900, 'pseudo': 3454, 'fiction': 1702, 'filmmakers': 1720, 'genres': 1889, 'grasp': 1960, 'changing': 752, 'profound': 3423, 'represented': 3638, 'robot': 3717, 'construction': 960, 'lone': 2642, 'element': 1442, 'slick': 4026, 'heavy': 2070, 'gods': 1928, 'approach': 282, 'devil': 1228, 'setting': 3900, 'sidney': 3968, 'lumet': 2688, 'sum': 4289, 'relations': 3596, 'chilling': 794, 'exceptional': 1558, 'philip': 3252, 'hoffman': 2128, 'complex': 923, 'ethan': 1528, 'hank': 2024, 'troubled': 4593, 'flesh': 1753, 'albert': 174, 'andy': 230, 'intriguing': 2335, 'performs': 3234, 'twilight': 4614, 'appear': 273, 'involves': 2348, 'intended': 2315, 'gem': 1877, 'enter': 1494, 'force': 1786, 'wild': 4885, 'indie': 2276, 'jamie': 2379, 'stunning': 4244, 'beach': 419, 'falling': 1639, 'lengthy': 2570, 'flash': 1745, 'breaking': 570, 'stinker': 4191, 'suffer': 4275, 'shocking': 3940, 'secrets': 3852, 'threat': 4467, 'raising': 3509, 'revolves': 3682, 'vast': 4716, 'mansion': 2731, 'growing': 1983, 'womans': 4922, 'menacing': 2807, 'heroine': 2091, 'butler': 637, 'serving': 3897, 'door': 1328, 'explanation': 1590, 'walks': 4780, 'chair': 742, 'arms': 294, 'bland': 500, 'pathetic': 3210, 'directorial': 1265, 'german': 1896, 'dollar': 1314, 'horribly': 2164, 'superficial': 4298, 'argue': 290, 'results': 3662, 'deserve': 1199, 'earth': 1403, 'aliens': 184, 'forest': 1791, 'sent': 3880, 'reviewers': 3678, 'enemy': 1477, 'mountain': 2917, 'doctor': 1304, 'primarily': 3393, 'draw': 1349, 'dr': 1340, '1968': 16, 'misses': 2868, 'pointed': 3317, 'imagined': 2239, 'judge': 2424, 'subsequent': 4257, 'cannot': 670, 'asking': 318, 'virginia': 4750, 'ed': 1415, 'responsibility': 3655, 'brings': 587, 'hill': 2108, 'wake': 4774, 'opportunity': 3121, 'join': 2412, 'orders': 3127, 'brothers': 599, 'consequences': 947, 'provide': 3448, 'free': 1827, 'union': 4661, 'foot': 1781, 'benefit': 465, 'paris': 3189, 'brando': 566, 'shoes': 3941, 'allow': 189, 'fictional': 1703, 'lay': 2542, 'pity': 3281, 'trip': 4588, 'darkness': 1117, 'civilization': 827, 'greek': 1970, 'impression': 2252, 'send': 3875, 'morality': 2903, 'heaven': 2068, 'catholic': 720, 'church': 813, 'week': 4837, 'travel': 4567, 'mix': 2876, 'confusion': 943, 'taste': 4369, 'vampire': 4711, 'scientific': 3817, 'covered': 1023, 'arts': 310, 'crucial': 1068, 'bold': 528, 'shoot': 3942, 'noise': 3024, 'global': 1920, 'virus': 4752, 'directly': 1263, 'engaging': 1481, 'exciting': 1563, 'refreshing': 3586, 'thus': 4486, 'challenging': 744, 'drawn': 1351, 'intelligence': 2313, 'open': 3112, 'possibilities': 3348, 'individuals': 2278, 'creative': 1041, 'talented': 4355, 'devoid': 1230, 'remains': 3611, 'childish': 791, 'dances': 1106, 'bar': 396, 'floor': 1759, 'unaware': 4632, 'whats': 4860, 'scheme': 3812, 'west': 4852, 'steven': 4182, 'viewings': 4741, 'purchase': 3469, 'loud': 2664, 'domestic': 1318, 'boom': 537, 'guilty': 1995, 'sophisticated': 4075, 'douglas': 1334, 'cary': 706, 'grant': 1956, 'determined': 1221, 'gotta': 1946, 'funniest': 1851, 'notch': 3043, 'warned': 4798, 'intention': 2319, 'surprise': 4312, 'giant': 1905, 'drink': 1361, 'laughable': 2530, 'invisible': 2344, 'samurai': 3779, 'beer': 439, 'uwe': 4703, 'boll': 529, 'imdb': 2240, 'absolute': 71, 'mysteries': 2954, 'universe': 4666, 'latest': 2526, 'edward': 1426, 'hands': 2020, 'silent': 3975, 'imagine': 2238, 'stopped': 4202, 'kills': 2474, 'franchise': 1817, 'warn': 4797, 'separate': 3883, 'pile': 3275, 'literally': 2622, 'cg': 739, 'waited': 4771, 'preview': 3386, 'faces': 1618, 'overdone': 3152, 'served': 3894, 'hype': 2207, 'bill': 481, 'vs': 4767, 'disappointment': 1275, 'passed': 3202, 'switch': 4339, 'channel': 753, 'sheer': 3925, 'complaint': 920, 'depressed': 1187, 'wanting': 4790, 'excitement': 1562, 'dear': 1140, 'cure': 1081, 'bette': 471, 'mildred': 2841, 'howard': 2182, 'seed': 3856, 'sensitive': 3879, 'ring': 3698, 'waters': 4817, 'slapstick': 4019, 'movements': 2924, 'moves': 2925, 'expression': 1602, 'bus': 631, 'text': 4419, 'lesson': 2577, 'unexpected': 4650, 'spare': 4093, 'ii': 2226, 'captures': 678, 'explosion': 1596, 'gruesome': 1986, 'scientists': 3819, 'discovers': 1281, 'sequel': 3885, 'minded': 2850, 'drive': 1363, 'van': 4713, 'bobby': 525, 'danger': 1109, 'owner': 3159, 'mechanical': 2788, 'category': 718, 'jeff': 2390, 'kick': 2460, 'butt': 638, 'hire': 2116, 'partner': 3198, 'expert': 1585, 'karen': 2444, 'princess': 3397, 'experiments': 1584, 'persons': 3244, 'sexuality': 3909, 'homosexual': 2145, 'forms': 1801, 'locked': 2637, 'closet': 858, 'risk': 3704, 'lesbian': 2573, 'tender': 4401, 'popcorn': 3331, 'metal': 2823, 'album': 175, 'midnight': 2834, 'halloween': 2010, '1st': 28, 'contains': 964, 'hidden': 2096, 'messages': 2820, 'key': 2458, 'trap': 4563, 'water': 4816, 'sue': 4274, 'anderson': 227, 'foster': 1809, 'goodness': 1938, 'prevent': 3385, 'flashback': 1746, 'murphy': 2944, 'finding': 1727, 'charlotte': 766, 'lewis': 2586, 'driven': 1365, 'purely': 3472, 'lust': 2689, 'intrigue': 2333, 'demon': 1177, 'popularity': 3334, 'folk': 1770, 'memory': 2804, 'pictures': 3270, 'accepted': 82, 'hills': 2109, 'cop': 991, 'daring': 1114, 'charles': 764, 'cgi': 740, 'site': 4005, 'internet': 2327, 'ran': 3513, 'comments': 901, '30': 42, 'shirley': 3936, 'sounding': 4083, 'simon': 3982, 'realise': 3548, 'extent': 1605, 'statement': 4162, 'appeal': 271, 'picks': 3268, '1950s': 14, 'stereotypical': 4180, 'zombie': 4997, 'zombies': 4998, 'useful': 4694, 'largely': 2518, 'lies': 2591, 'pan': 3180, 'clean': 838, 'keeping': 2450, 'plight': 3308, 'individual': 2277, 'round': 3742, 'barbara': 397, 'stanwyck': 4149, 'hasnt': 2044, 'semi': 3874, 'stephen': 4176, 'pass': 3201, 'description': 1197, 'computer': 927, 'silver': 3977, 'balls': 390, 'victims': 4730, 'via': 4726, 'cars': 702, 'total': 4531, 'surreal': 4317, 'erotic': 1515, 'seemingly': 3863, 'french': 1830, 'rolling': 3730, 'mann': 2728, 'heat': 2067, 'distinct': 1296, 'von': 4765, 'noir': 3023, 'cuts': 1091, 'moral': 2902, 'descent': 1193, 'germany': 1898, 'intent': 2318, 'sleeping': 4025, 'nazi': 2977, 'member': 2800, 'werewolf': 4850, 'terrorists': 4414, 'rage': 3505, 'bridge': 578, 'nowhere': 3056, 'months': 2897, 'nazis': 2978, 'creation': 1040, 'hundred': 2195, 'hitler': 2124, 'received': 3564, 'training': 4558, 'everywhere': 1545, 'cause': 723, 'recent': 3566, 'berlin': 467, 'arrested': 298, 'thousands': 4466, 'closed': 854, 'bought': 552, 'brazil': 568, 'vegas': 4717, 'terry': 4415, 'thriller': 4472, 'bruce': 602, 'cole': 873, 'brad': 560, 'pitt': 3280, 'includes': 2263, 'population': 3335, 'disease': 1285, 'monkeys': 2891, '1996': 26, 'further': 1853, 'animals': 240, 'rule': 3753, 'surface': 4310, 'humans': 2190, '1990': 24, 'mental': 2808, 'responsible': 3656, 'psychiatrist': 3455, 'reveal': 3670, 'suspenseful': 4331, 'builds': 617, 'carrying': 701, 'decisions': 1152, 'wells': 4845, 'broadcast': 591, 'brave': 567, 'shine': 3931, 'sun': 4292, 'disbelief': 1277, 'roy': 3745, 'rob': 3710, 'tim': 4494, 'eric': 1514, 'brian': 576, 'cox': 1026, 'jesus': 2399, 'portray': 3340, 'tradition': 4549, 'interpretation': 2328, 'mistaken': 2872, 'committed': 905, 'serves': 3895, 'liberal': 2588, 'amount': 219, 'batman': 413, 'ron': 3734, 'tarzan': 4367, 'gorgeous': 1942, 'pamela': 3179, 'latin': 2527, 'ham': 2011, 'cult': 1077, 'campy': 664, 'release': 3602, 'utter': 4701, 'speech': 4102, 'closely': 855, 'dialogs': 1233, 'abysmal': 76, 'grace': 1950, 'torture': 4529, 'exotic': 1574, 'kevin': 2457, 'hence': 2083, 'reaction': 3541, 'tricks': 4583, 'constantly': 958, 'genuinely': 1892, 're': 3535, 'discovered': 1280, 'chest': 784, 'football': 1783, 'match': 2762, 'ralph': 3510, 'rival': 3706, 'topic': 4526, 'quote': 3496, 'lynch': 2691, 'turkey': 4604, 'artificial': 306, 'maker': 2714, 'anthony': 253, 'cage': 645, 'buddy': 609, 'weapon': 4828, 'brown': 601, 'lou': 2663, 'former': 1800, 'vietnam': 4735, 'beat': 423, 'crash': 1033, 'thugs': 4484, 'plan': 3287, 'worked': 4941, 'bag': 384, 'comparison': 914, 'answer': 251, 'typically': 4624, 'abandoned': 62, 'houses': 2180, 'fears': 1677, 'concerning': 933, 'everyday': 1541, 'integrity': 2311, 'matters': 2770, 'desire': 1205, 'property': 3438, 'festival': 1697, 'guest': 1992, 'fighting': 1709, 'marty': 2749, 'sexually': 3910, 'acid': 95, 'storm': 4206, 'murders': 2943, 'inventive': 2341, 'creepy': 1052, 'atmospheric': 334, 'toilet': 4512, 'uncomfortable': 4637, 'shortly': 3947, 'impossible': 2249, 'bath': 411, 'effectively': 1430, 'mill': 2845, 'forgettable': 1794, 'tragic': 4552, 'hopeless': 2158, 'humble': 2191, 'scott': 3824, 'elaborate': 1439, 'overacting': 3149, 'perform': 3227, 'mickey': 2831, 'walken': 4777, 'jumped': 2430, 'originality': 3130, 'cutting': 1092, 'cheesy': 781, 'third': 4455, 'fourth': 1813, 'paced': 3162, 'bone': 533, 'williams': 4888, 'spend': 4105, 'awake': 365, 'spoke': 4125, 'singers': 3994, 'recording': 3575, 'throat': 4476, 'horrid': 2165, 'trite': 4589, 'concert': 935, 'recognize': 3569, 'suited': 4286, 'remembered': 3617, 'models': 2881, 'voice': 4761, 'requires': 3642, 'jimmy': 2403, 'stewart': 4184, 'spectacular': 4101, 'terror': 4412, 'grown': 1984, 'code': 869, 'blame': 499, 'writers': 4969, 'regarding': 3589, 'flight': 1757, 'ground': 1979, 'meanwhile': 2785, 'button': 639, 'wins': 4899, 'instantly': 2306, 'levels': 2585, 'machine': 2693, 'knowledge': 2491, 'displayed': 1292, 'entry': 1504, 'bourne': 554, 'mad': 2696, 'barely': 399, 'create': 1036, 'wasted': 4809, 'neither': 2996, 'views': 4742, 'figured': 1712, 'beloved': 461, 'masses': 2755, 'president': 3378, 'potential': 3355, 'closer': 856, 'awe': 370, 'glass': 1917, 'dying': 1393, 'secondly': 3847, 'wing': 4896, 'proud': 3444, 'card': 681, 'heck': 2071, 'kudos': 2497, 'laughing': 2533, 'south': 4087, 'outrageous': 3145, 'delivery': 1173, 'chooses': 800, 'deliver': 1169, 'belief': 451, 'thoroughly': 4459, 'morgan': 2905, 'sullivan': 4288, 'jeremy': 2394, 'mundane': 2938, 'existence': 1571, 'assumed': 329, 'secretly': 3851, 'activities': 102, 'fellow': 1691, 'drinking': 1362, 'convinced': 984, 'corporate': 998, 'plans': 3292, 'lucy': 2684, 'resist': 3648, 'ideal': 2214, 'false': 1641, 'complicated': 925, 'finale': 1723, 'following': 1774, 'carefully': 689, 'proceedings': 3410, 'produce': 3413, 'particular': 3194, 'initially': 2291, 'garden': 1872, '12': 3, 'monk': 2889, 'similarly': 3980, 'spent': 4108, 'traveling': 4568, 'bet': 470, 'ticket': 4487, 'expected': 1577, 'theyve': 4446, 'concerned': 932, 'religious': 3608, 'eye': 1611, 'tedious': 4387, 'screaming': 3827, 'noticed': 3049, 'quotes': 3497, 'inspiring': 2302, 'victim': 4729, 'tonight': 4519, 'rose': 3739, 'crime': 1055, 'diane': 1238, 'survive': 4321, 'alive': 186, 'dimensional': 1253, 'shy': 3962, 'facts': 1624, 'killing': 2472, 'urge': 4689, 'nancy': 2964, 'drew': 1360, 'lately': 2524, 'gold': 1932, 'enjoys': 1489, 'brilliance': 582, 'dentist': 1180, 'mans': 2730, 'image': 2233, 'earl': 1398, 'destroyed': 1214, 'weve': 4856, 'weight': 4840, 'hearts': 2066, 'collection': 874, 'grow': 1982, 'tired': 4501, 'genuine': 1891, 'doubt': 1332, 'pain': 3170, 'emily': 1456, 'burt': 629, 'signs': 3973, 'pit': 3278, 'sorts': 4078, 'jim': 2402, 'assigned': 325, 'beatty': 427, 'overrated': 3156, 'thick': 4447, 'toy': 4542, 'sold': 4052, 'memories': 2803, 'books': 536, 'washington': 4806, 'lee': 2559, 'miscast': 2862, 'maggie': 2702, 'lacking': 2504, 'exceptionally': 1559, 'catherine': 719, 'opposite': 3123, 'definite': 1161, 'flop': 1760, 'doubts': 1333, 'serial': 3889, 'freddy': 1826, 'celebrity': 729, 'fashion': 1659, 'plague': 3285, 'streets': 4217, 'widmark': 4882, 'moody': 2899, 'locations': 2636, 'unlikely': 4671, 'tight': 4492, 'clichés': 846, 'overwhelming': 3157, 'heroes': 2089, 'greedy': 1969, 'standards': 4145, 'legs': 2566, 'size': 4012, 'floating': 1758, 'steps': 4177, 'smaller': 4034, 'cases': 708, 'manage': 2722, 'wonderfully': 4929, 'alike': 185, 'motion': 2913, 'equivalent': 1512, 'ice': 2210, 'hunters': 2200, 'dragon': 1344, 'adorable': 124, 'developed': 1223, 'ages': 152, '2007': 37, 'boss': 546, 'accompanied': 86, 'stellar': 4174, 'tremendous': 4579, 'stereotype': 4178, 'gangsters': 1869, 'furthermore': 1854, 'burning': 627, 'shallow': 3917, 'current': 1084, 'managed': 2723, 'driving': 1368, 'mall': 2720, 'em': 1452, 'pushing': 3479, 'lady': 2507, 'iron': 2354, 'christmas': 810, 'illogical': 2231, 'implausible': 2245, 'parody': 3192, 'denzel': 1181, 'focusing': 1769, 'racist': 3503, 'comical': 894, 'clothing': 861, 'names': 2963, 'idiot': 2218, 'market': 2740, 'blob': 507, 'teenager': 4390, 'birth': 486, 'student': 4238, 'titanic': 4503, 'disaster': 1276, 'cameron': 661, 'faced': 1617, 'magnificent': 2705, 'grave': 1962, 'bumbling': 622, 'frame': 1815, 'remain': 3609, 'needless': 2989, 'occur': 3076, 'stinks': 4192, 'curse': 1086, 'painted': 3174, 'gray': 1963, 'liners': 2611, 'awfully': 373, 'executive': 1567, 'decision': 1151, 'terrorist': 4413, 'basic': 406, 'cliché': 844, 'ridden': 3691, 'insult': 2309, 'excuse': 1564, 'exposure': 1599, 'recognition': 3568, 'embarrassing': 1454, 'prove': 3445, 'punishment': 3467, 'proof': 3434, 'hitting': 2126, 'portraying': 3343, 'technique': 4383, 'lily': 2605, 'worn': 4948, 'steel': 4173, 'cynical': 1093, 'fathers': 1667, 'bank': 394, 'eyed': 1612, 'methods': 2825, 'wayne': 4821, 'curious': 1083, 'touches': 4535, 'friendship': 1838, 'african': 142, 'philosophy': 3254, 'renting': 3629, 'pulled': 3462, 'ended': 1470, 'reached': 3537, 'dvds': 1392, 'path': 3209, 'productions': 3420, 'blue': 518, 'process': 3412, 'hardcore': 2034, 'contain': 962, 'relevant': 3604, 'lena': 2568, 'filmmaker': 1719, 'politically': 3325, 'yellow': 4981, 'interview': 2329, 'politics': 3326, 'dynamic': 1394, 'essentially': 1523, 'understood': 4647, 'poignant': 3315, 'arrive': 300, 'ups': 4686, 'soccer': 4048, 'backgrounds': 381, 'joe': 2407, 'jonathan': 2417, 'myers': 2952, 'coach': 868, 'remaining': 3610, 'object': 3066, 'dedicated': 1153, 'bollywood': 530, 'veteran': 4724, 'khan': 2459, 'struggles': 4235, 'greatly': 1967, 'shirt': 3937, 'sight': 3969, 'removed': 3624, 'soul': 4079, 'summer': 4291, 'campbell': 663, 'amounts': 220, 'punch': 3466, 'heavily': 2069, 'nasty': 2968, 'slowly': 4032, 'hints': 2113, 'capable': 672, 'majority': 2712, 'improve': 2254, 'ruins': 3752, 'pitch': 3279, 'anyways': 262, 'regardless': 3590, 'australian': 357, 'australia': 356, 'naked': 2959, 'teenage': 4389, 'banned': 395, 'worthless': 4954, 'dorothy': 1330, 'airplane': 166, 'blatant': 502, 'soap': 4047, 'ultimate': 4627, 'imitation': 2241, 'achieved': 93, 'steals': 4172, 'goldberg': 1933, 'et': 1526, 'racial': 3501, 'grandmother': 1955, 'grand': 1953, 'grandfather': 1954, 'guessing': 1991, 'louis': 2665, 'steal': 4170, 'claims': 830, 'twisted': 4618, 'ripped': 3701, 'flying': 1764, 'dolls': 1316, 'amateur': 206, 'splatter': 4118, 'uninteresting': 4660, 'helped': 2080, 'cinemas': 817, 'cross': 1066, 'france': 1816, 'combination': 883, 'embarrassed': 1453, 'brutally': 604, 'anne': 246, 'daniel': 1111, 'craig': 1030, 'subtlety': 4261, 'painting': 3175, 'controversial': 978, 'explains': 1589, 'user': 4696, 'tears': 4380, 'planet': 3289, 'handle': 2018, 'occasionally': 3075, 'hilariously': 2107, 'fire': 1734, 'mars': 2746, 'psychotic': 3459, 'met': 2822, 'masters': 2761, 'solution': 4059, 'pro': 3406, 'doctors': 1305, 'isolated': 2363, 'holy': 2140, 'tortured': 4530, 'gratuitous': 1961, 'spider': 4109, 'creature': 1045, 'shakespeare': 3915, 'putting': 3482, 'hamlet': 2013, 'performed': 3230, 'skill': 4013, 'heston': 2094, 'minor': 2857, 'kenneth': 2455, 'branagh': 564, 'bringing': 586, 'roll': 3728, 'watchable': 4812, 'faults': 1669, 'teachers': 4376, 'schools': 3814, 'lion': 2614, 'miles': 2843, 'pride': 3391, 'hide': 2097, 'uncle': 4636, 'suggested': 4281, 'duty': 1390, 'bigger': 479, 'arrived': 301, 'taught': 4370, 'clue': 864, 'honor': 2150, 'trees': 4577, 'contest': 967, 'shed': 3924, 'talked': 4359, 'battles': 415, 'dig': 1250, 'hole': 2132, 'seven': 3903, 'march': 2734, 'swear': 4334, 'lane': 2515, 'stiller': 4189, 'iii': 2227, 'reflect': 3584, 'simpson': 3987, 'maria': 2736, 'raised': 3508, 'mothers': 2912, 'educational': 1425, 'affect': 136, 'respect': 3652, 'spiritual': 4116, 'neighbor': 2992, 'believing': 457, 'spite': 4117, 'touched': 4534, 'exists': 1573, 'actions': 101, 'environment': 1505, 'bright': 581, 'deeper': 1155, 'model': 2880, 'entertain': 1497, 'positive': 3346, 'lover': 2672, 'poem': 3312, 'engage': 1479, 'generation': 1883, 'authority': 360, 'appreciation': 281, 'authentic': 358, 'chinese': 796, 'dubbing': 1380, 'provided': 3449, 'rocks': 3722, 'choreography': 802, 'provides': 3450, 'solely': 4056, 'basis': 408, 'demand': 1174, 'push': 3477, 'financial': 1725, 'groups': 1981, 'variety': 4714, 'neighbors': 2994, 'farm': 1656, 'trained': 4557, 'notes': 3046, 'fond': 1776, 'vaguely': 4706, 'countryside': 1015, 'ruin': 3750, 'happily': 2030, 'destroy': 1213, 'frequently': 1832, 'trick': 4582, 'essence': 1521, 'green': 1971, 'caught': 722, 'importantly': 2248, 'helen': 2075, 'hunt': 2198, 'prior': 3400, 'marks': 2742, 'detailed': 1218, '50': 51, 'screenplay': 3831, 'photography': 3260, 'receive': 3563, 'conflict': 939, 'workers': 4943, 'reveals': 3673, 'flaw': 1749, 'logic': 2638, 'tear': 4379, 'buying': 641, 'dress': 1357, 'fortune': 1806, 'providing': 3451, 'professor': 3422, 'viewed': 4737, 'root': 3737, 'traditional': 4550, 'river': 3707, 'smoke': 4039, 'defense': 1159, 'fool': 1779, 'fay': 1674, 'grim': 1974, 'anti': 254, 'succeeded': 4263, 'national': 2970, 'structure': 4233, 'suggests': 4282, 'hang': 2022, 'eg': 1434, 'sharp': 3922, 'deadly': 1133, 'reduced': 3579, 'international': 2326, 'sidekick': 3966, 'jay': 2386, 'charisma': 762, 'dragged': 1343, 'wives': 4918, 'excessive': 1560, 'expressed': 1601, 'choose': 799, 'sunshine': 4294, 'wounded': 4961, 'souls': 4080, 'korean': 2495, 'convincingly': 986, 'abilities': 64, 'damn': 1100, 'included': 2262, 'contemporary': 965, 'broad': 590, 'staged': 4140, 'exercise': 1568, 'rap': 3520, 'associated': 327, 'starred': 4153, 'quick': 3490, 'lower': 2677, 'attached': 336, 'le': 2544, 'oliver': 3102, 'historically': 2120, 'mixture': 2878, 'sing': 3992, 'manner': 2729, 'dickens': 1240, 'tend': 4400, 'combined': 885, 'overcome': 3151, 'carradine': 695, 'testament': 4417, 'shocked': 3939, 'pet': 3246, 'staying': 4168, 'nonsensical': 3031, 'liking': 2604, 'killers': 2471, 'shadows': 3913, 'fooled': 1780, 'belong': 459, 'brains': 563, 'plastic': 3294, 'originally': 3131, 'titled': 4505, 'conceived': 929, 'field': 1704, 'atrocious': 335, 'buddies': 608, 'stevens': 4183, 'indian': 2274, 'resembles': 3646, 'clumsy': 866, 'forgot': 1796, 'proceeds': 3411, 'instance': 2304, 'disappear': 1270, 'account': 89, 'kidnapped': 2466, 'rubbish': 3748, 'tongue': 4518, 'cheek': 779, 'occurred': 3077, 'wood': 4933, 'surely': 4309, 'generated': 1882, 'drawing': 1350, 'whale': 4857, 'experiment': 1583, 'minimal': 2855, 'boot': 538, 'discovery': 1282, 'fat': 1663, 'creativity': 1042, 'sentence': 3881, 'shall': 3916, 'pearl': 3220, 'wisdom': 4902, 'portion': 3338, 'ships': 3935, 'coherent': 871, 'un': 4630, 'ugly': 4625, 'elizabeth': 1445, 'amateurish': 207, 'research': 3644, 'countries': 1013, 'intense': 2316, 'cry': 1073, 'praise': 3364, 'editor': 1423, 'hyde': 2206, 'page': 3167, 'overly': 3155, 'corny': 997, 'magical': 2704, 'bride': 577, 'twice': 4613, 'faster': 1662, 'diamond': 1236, 'rough': 3741, 'witches': 4910, 'packed': 3166, 'bullets': 621, 'threatening': 4468, 'enormous': 1490, 'ritter': 3705, 'killings': 2473, 'irony': 2357, 'bucks': 606, 'incredibly': 2270, 'perry': 3237, 'drags': 1345, 'gripping': 1976, 'mountains': 2918, 'attack': 337, 'busy': 635, 'north': 3036, 'falk': 1636, 'daily': 1097, 'abusive': 75, 'frustrated': 1842, 'businessman': 634, 'touching': 4536, 'impressive': 2253, 'sings': 3997, 'stranger': 4213, 'reaching': 3539, 'nine': 3017, 'columbo': 881, 'andrew': 228, 'prepared': 3371, 'aforementioned': 139, '17': 9, 'grinch': 1975, 'portrait': 3339, 'tons': 4520, 'chicks': 787, 'roberts': 3714, 'civil': 826, 'stiff': 4187, 'soldier': 4053, 'foul': 1810, 'atlantis': 332, 'explore': 1594, 'ps': 3453, 'superior': 4300, 'cousin': 1021, 'library': 2589, 'cried': 1054, 'daughters': 1122, 'jumping': 2431, 'lucas': 2680, 'phantom': 3251, 'luke': 2687, 'related': 3594, 'duke': 1383, 'sides': 3967, 'annie': 247, 'revolution': 3680, 'lacks': 2505, 'photos': 3261, 'demands': 1175, 'sixties': 4011, 'succeeds': 4264, 'phony': 3256, 'ought': 3138, 'ashamed': 312, 'junk': 2436, 'scripted': 3835, 'abc': 63, 'lame': 2510, 'millions': 2848, 'competition': 918, 'dating': 1120, 'carrey': 696, 'outcome': 3142, 'disneys': 1290, 'physically': 3263, 'theyd': 4443, 'block': 508, 'fighter': 1708, 'subplot': 4255, 'spanish': 4092, 'shining': 3933, 'invasion': 2340, 'messed': 2821, 'copies': 992, 'ball': 388, 'fest': 1696, 'mildly': 2840, 'involve': 2345, 'thoughts': 4464, '50s': 52, 'wreck': 4965, 'hint': 2112, 'boat': 523, 'bodies': 526, 'supernatural': 4302, 'guard': 1988, 'dawn': 1127, 'vampires': 4712, '2001': 31, 'intrigued': 2334, 'ignore': 2224, 'merit': 2816, 'study': 4242, 'placed': 3283, 'physical': 3262, 'challenge': 743, 'empathy': 1462, 'favorites': 1672, 'spike': 4111, 'beating': 425, 'heroic': 2090, 'stops': 4203, 'wizard': 4919, 'oz': 3160, 'versions': 4721, 'patrick': 3213, 'reed': 3580, 'slave': 4022, 'drunken': 1376, 'burn': 625, 'whatsoever': 4861, 'pushed': 3478, 'exaggerated': 1552, 'aka': 168, 'punk': 3468, 'lees': 2560, 'irrelevant': 2358, 'satisfied': 3789, 'whos': 4876, 'exploitation': 1592, 'futuristic': 1857, 'sellers': 3872, 'health': 2060, 'dreary': 1356, 'sid': 3964, 'per': 3223, 'warmth': 4796, 'oddly': 3081, 'strength': 4219, 'comedic': 888, 'suck': 4269, 'pg': 3250, 'prom': 3429, 'escapes': 1519, 'patients': 3212, 'comfortable': 892, 'hitchcock': 2123, 'desired': 1206, 'usa': 4691, 'inspiration': 2300, 'term': 4405, 'circumstances': 822, 'welcome': 4842, 'dozens': 1339, 'delivered': 1170, 'choices': 798, 'horrendous': 2162, 'seagal': 3839, 'unbelievably': 4635, 'ironically': 2356, 'cringe': 1059, 'sword': 4340, 'relate': 3593, 'muslim': 2949, 'hooked': 2153, 'theyll': 4444, 'stretched': 4222, 'pull': 3461, 'repeated': 3631, 'vague': 4705, 'sneak': 4043, 'costume': 1005, 'leader': 2546, 'betty': 474, 'blonde': 511, 'unseen': 4678, 'introduction': 2339, 'lol': 2640, 'improved': 2255, 'clark': 832, 'technology': 4385, 'victor': 4731, 'fabulous': 1615, 'wound': 4960, 'beaten': 424, 'shake': 3914, 'link': 2613, 'mentioning': 2812, 'enjoyment': 1488, 'performing': 3233, 'arrival': 299, 'followed': 1773, 'notorious': 3051, 'lord': 2652, 'evidence': 1546, 'bay': 416, 'royal': 3746, 'charismatic': 763, 'gritty': 1977, 'trailer': 4554, 'sticks': 4186, 'continuity': 972, 'cat': 713, 'explored': 1595, 'jail': 2376, 'shower': 3957, 'blah': 496, 'da': 1094, 'nyc': 3065, 'wishes': 4906, 'demented': 1176, 'burton': 630, 'sin': 3988, 'tracy': 4546, 'warren': 4801, 'homage': 2141, 'opposed': 3122, 'darker': 1116, 'criminals': 1058, 'tommy': 4516, 'personalities': 3241, 'blank': 501, 'jaw': 2384, 'ninja': 3018, 'pacino': 3164, 'arguably': 289, 'madonna': 2699, 'explosions': 1597, 'tall': 4362, 'comics': 895, 'reminded': 3619, 'sequences': 3888, 'revealing': 3672, 'load': 2631, 'catchy': 717, 'eva': 1531, 'lake': 2509, 'cards': 683, 'reads': 3545, 'rambo': 3511, 'bottle': 550, 'accomplished': 87, 'wallace': 4782, 'widow': 4883, 'helps': 2082, 'leg': 2562, 'albeit': 173, 'fifteen': 1706, 'thousand': 4465, 'wedding': 4836, 'naturally': 2974, 'department': 1182, 'building': 615, 'freeman': 1829, 'redemption': 3578, 'journalist': 2420, 'resemblance': 3645, 'corrupt': 1001, 'guts': 1999, 'loaded': 2632, 'errors': 1516, 'eight': 1436, 'twins': 4616, 'familys': 1646, 'cannibal': 669, 'cruise': 1071, 'author': 359, 'intimate': 2331, 'achieve': 92, 'graphic': 1958, 'marvelous': 2750, 'helping': 2081, 'winning': 4898, 'attempting': 342, 'enterprise': 1495, 'achievement': 94, 'jeffrey': 2391, 'obnoxious': 3067, 'wilson': 4891, 'dropping': 1371, 'drop': 1369, 'sky': 4017, 'jake': 2377, 'homer': 2144, 'medical': 2790, 'condition': 937, 'stupidity': 4248, 'serve': 3893, 'command': 897, 'nation': 2969, 'warming': 4795, 'criticism': 1063, 'led': 2558, 'buck': 605, 'sleazy': 4023, 'jungle': 2434, 'incomprehensible': 2267, 'blake': 498, 'carl': 692, 'cuba': 1075, 'jr': 2423, 'odds': 3082, 'questionable': 3488, 'appearing': 277, 'delivering': 1171, 'simplicity': 3984, 'involvement': 2347, 'meaningful': 2781, 'worthwhile': 4955, 'richardson': 3688, 'streep': 4215, 'danes': 1108, 'glenn': 1918, 'hugh': 2186, 'cinematographer': 819, 'ensemble': 1492, 'emphasis': 1463, 'price': 3389, 'western': 4853, 'dennis': 1179, 'broken': 594, 'eastwood': 1409, 'regular': 3592, 'wall': 4781, 'protagonists': 3442, 'prisoner': 3402, 'westerns': 4854, 'chorus': 803, 'digital': 1251, 'dangerous': 1110, 'spirits': 4115, 'harsh': 2040, 'inevitable': 2282, 'stylish': 4251, 'media': 2789, 'maintain': 2710, 'holiday': 2134, 'breath': 573, 'bang': 393, 'magazine': 2701, 'selfish': 3870, 'con': 928, 'display': 1291, 'deaf': 1134, 'fate': 1665, 'solo': 4058, 'tape': 4365, 'laughter': 2535, 'toys': 4543, 'fed': 1682, 'buildings': 616, 'aid': 160, 'hopefully': 2157, 'comparing': 913, 'moore': 2901, 'sir': 4000, 'waitress': 4773, 'nomination': 3026, 'reminiscent': 3621, 'inspector': 2299, 'gadget': 1860, 'retarded': 3663, 'relies': 3606, 'travesty': 4570, 'food': 1778, 'strangers': 4214, 'bela': 450, 'lugosi': 2686, '80': 58, 'explained': 1587, 'stolen': 4195, 'draws': 1352, 'reporter': 3636, 'tracks': 4545, 'intensity': 2317, 'surrounded': 4318, 'front': 1841, 'seeks': 3860, 'fatal': 1664, 'dancers': 1105, 'advantage': 129, 'petty': 3249, 'flawed': 1750, 'animated': 241, 'graphics': 1959, 'blowing': 515, 'rabbit': 3498, 'creators': 1044, 'cube': 1076, 'paranoia': 3186, 'characterization': 759, 'potentially': 3356, 'consists': 955, 'swedish': 4335, 'stanley': 4148, 'glimpse': 1919, 'dramas': 1347, 'vhs': 4725, 'pure': 3471, 'captured': 677, 'indians': 2275, 'ironic': 2355, 'regard': 3588, 'describes': 1196, '35': 45, 'essential': 1522, 'survival': 4320, 'hollow': 2135, 'saving': 3797, 'priest': 3392, 'obscure': 3068, 'loads': 2633, 'irish': 2353, 'flies': 1756, 'synopsis': 4344, 'ken': 2453, 'joseph': 2419, 'respected': 3653, 'wanna': 4786, 'creatures': 1046, 'machines': 2694, 'capture': 676, 'area': 286, 'troops': 4591, 'explicit': 1591, 'miike': 2837, 'mild': 2839, 'wannabe': 4787, 'confidence': 938, 'closest': 857, 'scrooge': 3837, 'versus': 4722, 'bound': 553, 'brenda': 575, 'transition': 4561, 'africa': 141, 'cliff': 847, 'temple': 4398, 'linda': 2609, 'reaches': 3538, 'remarkably': 3614, 'ape': 266, 'companion': 909, 'blend': 504, 'investigation': 2343, 'exact': 1550, 'obsession': 3070, 'passes': 3203, 'causes': 725, 'dogs': 1311, 'principal': 3398, 'chuck': 812, 'repeat': 3630, 'ramones': 3512, 'bands': 392, 'clint': 850, 'miller': 2846, 'consistently': 954, 'pat': 3208, 'performers': 3232, 'host': 2173, 'spots': 4132, 'todd': 4510, 'spoof': 4127, 'designed': 1203, 'letters': 2582, 'alert': 178, 'shoots': 3944, 'crowd': 1067, 'styles': 4250, 'circle': 821, 'diana': 1237, 'spoil': 4121, 'lisa': 2616, 'angels': 234, 'surprises': 4314, 'installment': 2303, 'assault': 324, 'trademark': 4548, 'legendary': 2565, 'hundreds': 2196, 'tribute': 4581, 'triumph': 4590, 'shelf': 3926, 'nicely': 3009, 'lit': 2621, 'reasonable': 3558, '75': 57, 'larger': 2519, 'abraham': 69, 'justice': 2438, 'operation': 3117, 'olivier': 3103, 'dignity': 1252, 'narrator': 2967, 'firstly': 1737, 'plane': 3288, 'unoriginal': 4673, 'kim': 2475, 'overlooked': 3154, 'blow': 514, 'chased': 770, 'warriors': 4803, 'continues': 971, 'destiny': 1212, 'forgive': 1795, 'catches': 715, 'screams': 3828, 'sacrifice': 3766, 'necessarily': 2983, 'insane': 2296, 'upset': 4687, 'wed': 4835, 'recall': 3562, 'channels': 754, 'attend': 344, 'kissing': 2484, 'beings': 449, '2003': 33, 'granted': 1957, 'stomach': 4196, 'endure': 1475, 'improvement': 2256, 'relative': 3599, 'pants': 3182, 'featured': 1679, 'ford': 1789, 'alongside': 196, 'doors': 1329, 'illegal': 2229, 'infamous': 2284, 'leo': 2571, 'iraq': 2351, 'walker': 4778, 'treatment': 4574, 'earned': 1401, 'spoken': 4126, 'mafia': 2700, '1933': 12, 'fascinated': 1657, 'fetched': 1698, 'depression': 1189, 'winds': 4895, 'reel': 3581, 'timing': 4498, 'screenwriter': 3833, 'composed': 926, 'fury': 1855, 'suspicious': 4332, 'remarkable': 3613, 'idiotic': 2219, 'images': 2235, 'hip': 2114, 'scarecrow': 3804, 'deaths': 1142, 'curtis': 1087, 'nuclear': 3057, 'league': 2549, 'rental': 3627, '1940s': 13, 'buried': 624, 'smooth': 4041, 'stealing': 4171, 'miserable': 2863, 'riveting': 3708, 'rural': 3758, 'combine': 884, 'holly': 2136, 'hopper': 2161, 'psycho': 3457, 'rick': 3689, 'neo': 2998, 'seeking': 3859, 'poster': 3353, 'julia': 2427, 'basketball': 409, 'university': 4667, 'staff': 4138, 'scale': 3802, 'robbins': 3712, 'giallo': 1904, 'thrillers': 4473, 'cave': 727, 'blind': 506, 'secretary': 3850, 'attacks': 339, 'loss': 2659, 'express': 1600, 'distant': 1295, 'laws': 2540, 'strongly': 4231, 'dealt': 1138, 'sutherland': 4333, 'legal': 2563, 'assistant': 326, 'attorney': 348, 'differences': 1247, 'eccentric': 1414, 'basement': 405, 'harder': 2035, 'admire': 121, 'pulp': 3465, 'cared': 685, 'impact': 2244, 'cartoons': 705, 'clown': 862, 'resort': 3650, 'monkey': 2890, 'handled': 2019, 'laughably': 2531, 'succeed': 4262, 'unconvincing': 4638, 'deliberately': 1166, 'blond': 510, 'wealth': 4826, 'winters': 4901, '20th': 38, 'united': 4664, 'makeup': 2717, 'lasted': 2522, 'bear': 420, 'cleverly': 842, 'letting': 2583, 'superman': 4301, 'outer': 3143, 'exposed': 1598, 'dracula': 1341, 'rocket': 3721, 'bible': 477, 'inappropriate': 2259, 'wacky': 4769, 'slightest': 4028, 'junior': 2435, 'simplistic': 3985, 'extended': 1604, 'defend': 1158, 'mob': 2879, 'chain': 741, 'crimes': 1056, 'godfather': 1927, 'boredom': 542, 'distracting': 1297, '40s': 49, 'opinions': 3119, 'appalling': 268, 'dave': 1123, 'andrews': 229, 'birds': 485, 'vincent': 4746, 'icon': 2211, 'occasional': 3074, 'thrills': 4475, 'horrors': 2169, 'measure': 2786, 'represents': 3639, 'stronger': 4230, 'borrowed': 545, 'rubber': 3747, 'anime': 243, 'museum': 2945, 'leonard': 2572, 'polanski': 3321, 'horrifying': 2167, 'obsessed': 3069, 'develops': 1226, 'dressing': 1359, 'tie': 4488, 'idiots': 2220, 'meeting': 2794, 'barry': 401, 'broke': 593, 'desperation': 1210, 'pursuit': 3476, 'happiness': 2031, 'website': 4834, 'blair': 497, 'videos': 4734, 'critic': 1061, 'raw': 3532, 'meat': 2787, 'foreign': 1790, 'angle': 236, 'pops': 3332, 'recognized': 3570, 'generations': 1884, 'choreographed': 801, 'credibility': 1047, 'emotionally': 1460, 'bonus': 534, 'drops': 1372, 'aids': 161, 'evident': 1547, 'increasingly': 2268, 'rooms': 3736, 'court': 1020, 'greater': 1965, 'matched': 2763, 'rising': 3703, 'panic': 3181, 'featuring': 1681, 'richards': 3687, 'accused': 91, 'mass': 2753, 'sadistic': 3768, 'armed': 293, 'baker': 385, 'timothy': 4499, 'nicholas': 3010, 'adapted': 114, 'ocean': 3079, 'alcoholic': 177, 'mistakes': 2873, 'understandable': 4644, 'reflection': 3585, 'beliefs': 452, 'stargate': 4151, 'unpredictable': 4675, 'wit': 4908, 'attacked': 338, 'chases': 771, 'mixed': 2877, 'flawless': 1751, 'ego': 1435, 'fix': 1744, 'legend': 2564, 'huh': 2187, 'wears': 4832, 'inner': 2292, 'montage': 2894, 'vivid': 4760, 'returning': 3667, 'plant': 3293, 'miracle': 2860, 'bbc': 417, 'rights': 3697, 'canada': 666, 'connected': 945, 'hello': 2078, 'illness': 2230, 'guessed': 1990, 'craft': 1028, 'trio': 4587, 'striking': 4226, 'sally': 3776, 'stretch': 4221, 'ginger': 1908, 'rogers': 3725, 'outstanding': 3147, 'nelson': 2997, 'relation': 3595, 'generous': 1886, 'timeless': 4496, 'undoubtedly': 4648, 'antics': 255, 'eyre': 1614, 'facial': 1619, 'expressions': 1603, 'hardy': 2037, 'greed': 1968, 'incoherent': 2265, '24': 39, 'babe': 375, 'stan': 4142, 'laurel': 2537, 'nonetheless': 3029, 'communist': 907, 'naive': 2958, 'neat': 2982, 'program': 3424, 'mission': 2870, 'conventional': 979, 'complain': 919, 'storytelling': 4209, 'bore': 540, 'scenario': 3808, 'rebel': 3561, 'factory': 1623, 'scope': 3821, 'hbo': 2055, 'gifted': 1907, 'lawrence': 2539, 'gross': 1978, 'comedian': 887, 'suffers': 4278, 'severe': 3906, 'manager': 2724, '60': 53, 'worker': 4942, 'credible': 1048, 'motivation': 2914, 'dire': 1257, 'hop': 2154, 'buff': 611, 'brand': 565, 'cook': 988, 'progress': 3425, 'namely': 2962, 'afford': 138, 'devils': 1229, 'claimed': 829, 'useless': 4695, 'cameras': 660, 'progresses': 3426, 'discover': 1279, 'species': 4098, 'fancy': 1649, 'vulnerable': 4768, 'lifetime': 2594, 'insulting': 2310, 'senseless': 3878, 'minimum': 2856, 'motives': 2916, 'strikes': 4225, 'rank': 3518, 'forbidden': 1785, 'replaced': 3634, 'voiced': 4762, 'audio': 354, 'avoided': 364, 'slaughter': 4021, 'neck': 2985, 'hideous': 2098, 'americas': 215, 'theory': 4437, 'spirited': 4114, 'goal': 1925, 'trail': 4553, 'joined': 2413, 'dislike': 1288, 'dust': 1388, 'distance': 1294, 'qualities': 3483, 'aging': 153, 'sadness': 3770, 'similarities': 3979, 'wrapped': 4964, 'rushed': 3760, 'beats': 426, 'resulting': 3661, 'iran': 2350, 'initial': 2290, 'marketing': 2741, 'lying': 2690, 'cheating': 776, 'influenced': 2287, 'bat': 410, 'honesty': 2148, 'pot': 3354, 'bird': 484, 'arm': 292, 'chicago': 785, 'universal': 4665, 'vicious': 4728, 'franco': 1820, 'contained': 963, 'crappy': 1032, 'purposes': 3475, 'segment': 3867, 'dutch': 1389, 'stole': 4194, 'paulie': 3215, 'weakest': 4825, 'funnier': 1850, 'truck': 4595, 'winner': 4897, 'props': 3439, 'expensive': 1579, 'trilogy': 4586, 'yesterday': 4983, 'matt': 2768, 'damon': 1101, 'thankfully': 4422, 'ties': 4490, 'satisfy': 3790, 'edition': 1422, 'terribly': 4408, 'bathroom': 412, 'mistress': 2874, 'frankenstein': 1822, 'caine': 647, 'advertising': 132, 'therefore': 4439, 'jerk': 2395, 'map': 2733, 'subjects': 4254, 'mate': 2765, 'presumably': 3380, 'judging': 2425, 'glorious': 1921, 'properly': 3437, 'weapons': 4829, 'relatives': 3601, 'unforgettable': 4652, 'stood': 4199, 'subplots': 4256, 'cardboard': 682, 'represent': 3637, 'innocence': 2293, 'wished': 4905, 'rotten': 3740, 'kicking': 2462, 'commercials': 903, 'russian': 3762, '25': 40, 'report': 3635, 'formulaic': 1803, 'introduces': 2338, 'jaws': 2385, 'depicted': 1183, 'vengeance': 4719, 'press': 3379, 'checking': 778, 'laura': 2536, 'offended': 3085, 'merits': 2817, 'curiosity': 1082, 'novels': 3053, 'passionate': 3206, 'table': 4346, 'burns': 628, 'pal': 3177, 'st': 4137, 'orson': 3132, 'welles': 4844, 'demons': 1178, 'unsettling': 4679, 'devoted': 1231, 'roots': 3738, 'carter': 703, 'shadow': 3912, 'swimming': 4338, 'louise': 2666, 'receives': 3565, 'visually': 4758, 'blade': 495, 'valley': 4707, 'revolutionary': 3681, 'apes': 267, 'stones': 4198, 'hamilton': 2012, 'response': 3654, 'analysis': 224, 'vice': 4727, 'literature': 2623, '3000': 43, 'fbi': 1675, 'niro': 3019, 'bull': 619, 'neighborhood': 2993, 'ward': 4793, 'nuts': 3064, 'bullet': 620, 'feminist': 1695, 'doo': 1325, 'nude': 3058, 'thoughtful': 4463, 'lifestyle': 2593, 'enemies': 1476, 'dialogues': 1235, 'kapoor': 2443, 'position': 3345, 'roman': 3731, 'fields': 1705, 'coffee': 870, 'sequels': 3886, 'instant': 2305, 'alex': 179, 'winter': 4900, 'definition': 1163, 'losing': 2658, 'uneven': 4649, 'translation': 4562, 'buffs': 612, 'underlying': 4641, 'burned': 626, 'christians': 809, 'madness': 2698, 'mail': 2706, 'rocky': 3723, 'lowest': 2678, 'disturbed': 1299, 'riding': 3695, 'wrestling': 4966, 'wishing': 4907, 'tooth': 4524, 'murderous': 2942, 'caliber': 649, 'guide': 1993, 'disappeared': 1271, 'sport': 4129, 'fallen': 1638, 'status': 4165, 'couples': 1017, 'territory': 4411, 'miserably': 2864, 'rats': 3531, 'doll': 1313, 'photographer': 3259, 'raped': 3522, 'justin': 2440, 'everyones': 1543, 'strip': 4228, 'seventies': 3904, 'instinct': 2308, 'gerard': 1895, 'eaten': 1412, 'satire': 3788, 'complexity': 924, 'gordon': 1940, 'briefly': 580, 'twin': 4615, 'watches': 4814, 'ass': 323, 'wolf': 4920, 'cusack': 1088, 'crush': 1072, 'resident': 3647, 'dude': 1381, 'bite': 489, 'combat': 882, 'swim': 4337, 'unpleasant': 4674, 'elephant': 1444, 'alcohol': 176, 'inevitably': 2283, 'valuable': 4708, 'stilted': 4190, '1972': 18, 'disgusting': 1286, 'russell': 3761, 'davies': 1125, 'crocodile': 1065, 'introduce': 2336, 'georges': 1894, 'thirty': 4456, 'flynn': 1765, 'depicting': 1184, 'mummy': 2937, 'massacre': 2754, 'females': 1694, 'philosophical': 3253, 'murderer': 2941, 'boxing': 556, 'matches': 2764, 'holmes': 2139, 'creep': 1051, 'homeless': 2143, 'remarks': 3615, 'allowing': 191, 'mentions': 2813, 'brutal': 603, 'notable': 3041, 'judy': 2426, 'elegant': 1441, 'donna': 1323, 'alice': 182, 'brady': 561, 'argument': 291, 'counter': 1011, 'wrap': 4963, 'unintentionally': 4659, 'nose': 3037, 'frustration': 1843, 'captivating': 675, 'adding': 117, 'harvey': 2042, 'tends': 4402, 'domino': 1319, 'possibility': 3349, 'birthday': 487, 'endings': 1472, 'immensely': 2243, 'widely': 4881, 'meaningless': 2782, 'prisoners': 3403, 'crack': 1027, 'specifically': 4100, 'passing': 3204, 'closing': 859, 'clip': 851, 'equal': 1509, 'matrix': 2767, 'considerable': 950, 'agrees': 157, 'tag': 4348, 'thru': 4483, 'causing': 726, 'impress': 2250, 'bleak': 503, 'raymond': 3534, 'exploration': 1593, 'stress': 4220, 'gabriel': 1859, 'eager': 1396, 'dolph': 1317, '2004': 34, 'glory': 1922, 'fisher': 1739, 'derek': 1192, 'montana': 2895, 'constructed': 959, 'noble': 3021, 'championship': 745, 'climactic': 848, 'downhill': 1336, 'jenny': 2393, 'bedroom': 437, 'unreal': 4676, 'survivor': 4324, 'pulling': 3463, 'karloff': 2445, 'akshay': 169, 'reasonably': 3559, 'losers': 2656, 'artists': 309, 'moronic': 2907, 'online': 3109, 'embarrassment': 1455, 'retired': 3664, 'heights': 2073, 'saga': 3773, 'screens': 3832, 'lemmon': 2567, 'designs': 1204, 'del': 1165, 'spread': 4133, 'japan': 2381, 'currently': 1085, 'rat': 3525, 'alfred': 181, 'warrior': 4802, 'easier': 1405, 'restaurant': 3658, 'cd': 728, 'blues': 519, 'los': 2653, 'angeles': 233, 'masterful': 2758, 'capturing': 679, 'tame': 4363, 'waves': 4819, 'careers': 687, 'hudson': 2184, 'ears': 1402, 'elderly': 1440, 'victoria': 4732, '13th': 5, 'highlights': 2104, 'itll': 2369, 'conversations': 981, 'brosnan': 597, 'misery': 2865, 'rachel': 3500, 'bud': 607, 'funeral': 1849, 'persona': 3239, 'trashy': 4566, 'creator': 1043, 'empire': 1464, 'inducing': 2279, 'segments': 3868, 'celluloid': 731, 'der': 1191, 'amitabh': 216, 'wave': 4818, 'prize': 3405, 'nations': 2971, 'convey': 982, 'bettie': 473, 'pages': 3168, 'parties': 3196, 'breasts': 572, 'hammer': 2014, 'musicals': 2948, 'suspend': 4329, 'bacall': 377, 'officers': 3093, 'godzilla': 1929, 'surviving': 4323, 'surfing': 4311, 'depicts': 1186, 'hart': 2041, 'ad': 110, 'developing': 1224, 'angela': 232, 'april': 284, 'react': 3540, 'che': 773, 'letter': 2581, 'loyal': 2679, 'likewise': 2603, 'citizen': 824, 'defeat': 1157, 'bo': 521, 'robots': 3718, 'lincoln': 2608, 'bakshi': 386, 'pig': 3274, 'blunt': 520, 'scottish': 3825, 'splendid': 4119, 'spain': 4091, 'snake': 4042, 'cats': 721, 'marie': 2737, 'thief': 4448, 'robbery': 3711, 'ireland': 2352, 'yelling': 4980, 'streisand': 4218, 'purchased': 3470, 'orange': 3125, 'mitchell': 2875, 'hippie': 2115, 'cowboy': 1025, 'kicks': 2463, 'matthau': 2771, 'norman': 3035, 'peters': 3248, 'possessed': 3347, 'hatred': 2049, 'careful': 688, 'womens': 4924, 'rex': 3683, 'classical': 836, 'transformation': 4560, 'kirk': 2482, '1984': 23, 'kidding': 2465, 'showdown': 3955, 'landing': 2512, 'colonel': 876, 'dinosaurs': 1256, 'distribution': 1298, 'porno': 3337, 'spielberg': 4110, 'elvis': 1451, 'realizing': 3555, 'justify': 2439, 'beneath': 464, 'doc': 1303, 'investigate': 2342, 'alexander': 180, 'transfer': 4559, 'jet': 2400, 'recorded': 3574, 'cake': 648, 'unwatchable': 4682, 'fonda': 1777, 'tomatoes': 4515, 'ballet': 389, 'rid': 3690, 'gundam': 1997, 'melting': 2799, 'robinson': 3716, 'garbo': 1871, 'mario': 2738, 'scooby': 3820, 'omen': 3104, 'dalton': 1098, 'behave': 445, 'grey': 1973, 'fulci': 1845, 'elvira': 1450, 'gandhi': 1866, 'macy': 2695, 'sandra': 3782, 'deceased': 1146, 'modesty': 2883, 'rochester': 3719, 'chess': 783, 'suffice': 4279, 'li': 2587, 'snl': 4044, 'germans': 1897}\n"
     ]
    }
   ],
   "source": [
    "print(str(vocabulary))"
   ]
  },
  {
   "cell_type": "markdown",
   "metadata": {},
   "source": [
    "Once you have added the endpoint name to the Lambda function, click on **Save**. Your Lambda function is now up and running. Next we need to create a way for our web app to execute the Lambda function."
   ]
  },
  {
   "cell_type": "markdown",
   "metadata": {},
   "source": [
    "### Setting up API Gateway\n",
    "\n",
    "Now that our Lambda function is set up, it is time to create a new API using API Gateway that will trigger the Lambda function we have just created.\n",
    "\n",
    "Using AWS Console, navigate to **Amazon API Gateway** and then click on **Get started**.\n",
    "\n",
    "On the next page, make sure that **New API** is selected and give the new api a name, for example, `sentiment_analysis_web_app`. Then, click on **Create API**.\n",
    "\n",
    "Now we have created an API, however it doesn't currently do anything. What we want it to do is to trigger the Lambda function that we created earlier.\n",
    "\n",
    "Select the **Actions** dropdown menu and click **Create Method**. A new blank method will be created, select its dropdown menu and select **POST**, then click on the check mark beside it.\n",
    "\n",
    "For the integration point, make sure that **Lambda Function** is selected and click on the **Use Lambda Proxy integration**. This option makes sure that the data that is sent to the API is then sent directly to the Lambda function with no processing. It also means that the return value must be a proper response object as it will also not be processed by API Gateway.\n",
    "\n",
    "Type the name of the Lambda function you created earlier into the **Lambda Function** text entry box and then click on **Save**. Click on **OK** in the pop-up box that then appears, giving permission to API Gateway to invoke the Lambda function you created.\n",
    "\n",
    "The last step in creating the API Gateway is to select the **Actions** dropdown and click on **Deploy API**. You will need to create a new Deployment stage and name it anything you like, for example `prod`.\n",
    "\n",
    "You have now successfully set up a public API to access your SageMaker model. Make sure to copy or write down the URL provided to invoke your newly created public API as this will be needed in the next step. This URL can be found at the top of the page, highlighted in blue next to the text **Invoke URL**."
   ]
  },
  {
   "cell_type": "markdown",
   "metadata": {},
   "source": [
    "## Step 7: Deploying our web app\n",
    "\n",
    "Now that we have a publicly available API, we can start using it in a web app. For our purposes, we have provided a simple static html file which can make use of the public api you created earlier.\n",
    "\n",
    "In the `website` folder there should be a file called `index.html`. Download the file to your computer and open that file up in a text editor of your choice. There should be a line which contains **\\*\\*REPLACE WITH PUBLIC API URL\\*\\***. Replace this string with the url that you wrote down in the last step and then save the file.\n",
    "\n",
    "Now, if you open `index.html` on your local computer, your browser will behave as a local web server and you can use the provided site to interact with your SageMaker model.\n",
    "\n",
    "If you'd like to go further, you can host this html file anywhere you'd like, for example using github or hosting a static site on Amazon's S3. Once you have done this you can share the link with anyone you'd like and have them play with it too!\n",
    "\n",
    "> **Important Note** In order for the web app to communicate with the SageMaker endpoint, the endpoint has to actually be deployed and running. This means that you are paying for it. Make sure that the endpoint is running when you want to use the web app but that you shut it down when you don't need it, otherwise you will end up with a surprisingly large AWS bill."
   ]
  },
  {
   "cell_type": "markdown",
   "metadata": {},
   "source": [
    "### Delete the endpoint\n",
    "\n",
    "Remember to always shut down your endpoint if you are no longer using it. You are charged for the length of time that the endpoint is running so if you forget and leave it on you could end up with an unexpectedly large bill."
   ]
  },
  {
   "cell_type": "code",
   "execution_count": 62,
   "metadata": {},
   "outputs": [],
   "source": [
    "xgb_predictor.delete_endpoint()"
   ]
  },
  {
   "cell_type": "markdown",
   "metadata": {},
   "source": [
    "## Optional: Clean up\n",
    "\n",
    "The default notebook instance on SageMaker doesn't have a lot of excess disk space available. As you continue to complete and execute notebooks you will eventually fill up this disk space, leading to errors which can be difficult to diagnose. Once you are completely finished using a notebook it is a good idea to remove the files that you created along the way. Of course, you can do this from the terminal or from the notebook hub if you would like. The cell below contains some commands to clean up the created files from within the notebook."
   ]
  },
  {
   "cell_type": "code",
   "execution_count": 63,
   "metadata": {},
   "outputs": [],
   "source": [
    "# First we will remove all of the files contained in the data_dir directory\n",
    "!rm $data_dir/*\n",
    "\n",
    "# And then we delete the directory itself\n",
    "!rmdir $data_dir\n",
    "\n",
    "# Similarly we remove the files in the cache_dir directory and the directory itself\n",
    "!rm $cache_dir/*\n",
    "!rmdir $cache_dir"
   ]
  },
  {
   "cell_type": "code",
   "execution_count": null,
   "metadata": {},
   "outputs": [],
   "source": []
  }
 ],
 "metadata": {
  "kernelspec": {
   "display_name": "conda_python3",
   "language": "python",
   "name": "conda_python3"
  },
  "language_info": {
   "codemirror_mode": {
    "name": "ipython",
    "version": 3
   },
   "file_extension": ".py",
   "mimetype": "text/x-python",
   "name": "python",
   "nbconvert_exporter": "python",
   "pygments_lexer": "ipython3",
   "version": "3.6.13"
  }
 },
 "nbformat": 4,
 "nbformat_minor": 2
}
